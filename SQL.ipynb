{
 "cells": [
  {
   "cell_type": "markdown",
   "id": "280b4cf7",
   "metadata": {},
   "source": [
    "<h1 align=\"center\"> Analyse des opportunités d'emploi </h1>"
   ]
  },
  {
   "cell_type": "markdown",
   "id": "a6c6239a",
   "metadata": {},
   "source": [
    "<h2 align=\"center\"> Partie 3 - Creation DB et Insertion </h2>"
   ]
  },
  {
   "cell_type": "markdown",
   "id": "82f2d81f",
   "metadata": {},
   "source": [
    "### Importation des biblio"
   ]
  },
  {
   "cell_type": "code",
   "execution_count": 94,
   "id": "10e3457f",
   "metadata": {},
   "outputs": [],
   "source": [
    "import pandas as pd\n",
    "import pyodbc"
   ]
  },
  {
   "cell_type": "code",
   "execution_count": 95,
   "id": "3c51b055",
   "metadata": {},
   "outputs": [
    {
     "data": {
      "text/html": [
       "<div>\n",
       "<style scoped>\n",
       "    .dataframe tbody tr th:only-of-type {\n",
       "        vertical-align: middle;\n",
       "    }\n",
       "\n",
       "    .dataframe tbody tr th {\n",
       "        vertical-align: top;\n",
       "    }\n",
       "\n",
       "    .dataframe thead th {\n",
       "        text-align: right;\n",
       "    }\n",
       "</style>\n",
       "<table border=\"1\" class=\"dataframe\">\n",
       "  <thead>\n",
       "    <tr style=\"text-align: right;\">\n",
       "      <th></th>\n",
       "      <th>Company</th>\n",
       "      <th>Job Title</th>\n",
       "      <th>Location</th>\n",
       "      <th>Job Type</th>\n",
       "      <th>Experience level</th>\n",
       "      <th>Salary</th>\n",
       "      <th>Requirment of the company</th>\n",
       "      <th>Facilities</th>\n",
       "      <th>the salary may go beyond</th>\n",
       "      <th>there are additional conditions or footnotes</th>\n",
       "      <th>Negociable</th>\n",
       "      <th>country</th>\n",
       "      <th>is_remote</th>\n",
       "      <th>Job_category</th>\n",
       "    </tr>\n",
       "  </thead>\n",
       "  <tbody>\n",
       "    <tr>\n",
       "      <th>0</th>\n",
       "      <td>SGS</td>\n",
       "      <td>Clinical Data Analyst</td>\n",
       "      <td>Richardson, TX, United States</td>\n",
       "      <td>Full Time</td>\n",
       "      <td>Entry-level</td>\n",
       "      <td>48000.0</td>\n",
       "      <td>Computer Science,Data quality,Genetics,Mathema...</td>\n",
       "      <td>Not-Specified</td>\n",
       "      <td>1</td>\n",
       "      <td>1</td>\n",
       "      <td>0</td>\n",
       "      <td>United States</td>\n",
       "      <td>0</td>\n",
       "      <td>Data Science</td>\n",
       "    </tr>\n",
       "    <tr>\n",
       "      <th>1</th>\n",
       "      <td>Ocorian</td>\n",
       "      <td>AML/CFT &amp; Data Analyst</td>\n",
       "      <td>Ebène, Mauritius</td>\n",
       "      <td>Full Time</td>\n",
       "      <td>Entry-level</td>\n",
       "      <td>48000.0</td>\n",
       "      <td>Agile,Data management,Finance,Security,,</td>\n",
       "      <td>Not-Specified</td>\n",
       "      <td>1</td>\n",
       "      <td>1</td>\n",
       "      <td>0</td>\n",
       "      <td>Mauritius</td>\n",
       "      <td>0</td>\n",
       "      <td>AI</td>\n",
       "    </tr>\n",
       "    <tr>\n",
       "      <th>2</th>\n",
       "      <td>Cricut</td>\n",
       "      <td>Machine Learning Engineer</td>\n",
       "      <td>South Jordan, UT, United States</td>\n",
       "      <td>Full Time</td>\n",
       "      <td>Not specified</td>\n",
       "      <td>90000.0</td>\n",
       "      <td>Agile,Architecture,AWS,Computer Science,Comput...</td>\n",
       "      <td>Career development</td>\n",
       "      <td>1</td>\n",
       "      <td>1</td>\n",
       "      <td>0</td>\n",
       "      <td>United States</td>\n",
       "      <td>0</td>\n",
       "      <td>AI</td>\n",
       "    </tr>\n",
       "    <tr>\n",
       "      <th>3</th>\n",
       "      <td>Bosch Group</td>\n",
       "      <td>Application Developer &amp; Data Analyst</td>\n",
       "      <td>Nonantola, Italy</td>\n",
       "      <td>Full Time</td>\n",
       "      <td>Entry-level</td>\n",
       "      <td>48000.0</td>\n",
       "      <td>Engineering,Industrial,Oracle,Power BI,R,R&amp;D</td>\n",
       "      <td>Not-Specified</td>\n",
       "      <td>1</td>\n",
       "      <td>1</td>\n",
       "      <td>0</td>\n",
       "      <td>Italy</td>\n",
       "      <td>0</td>\n",
       "      <td>Data Science</td>\n",
       "    </tr>\n",
       "    <tr>\n",
       "      <th>4</th>\n",
       "      <td>Publicis Groupe</td>\n",
       "      <td>Data Engineer Full time (Public Sector) USA</td>\n",
       "      <td>Arlington, VA, United States</td>\n",
       "      <td>Full Time</td>\n",
       "      <td>Mid-level</td>\n",
       "      <td>108000.0</td>\n",
       "      <td>AWS,Azure,Computer Science,Consulting,Dataflow...</td>\n",
       "      <td>Flex hours,Flex vacation,Parental leave,Unlimi...</td>\n",
       "      <td>1</td>\n",
       "      <td>0</td>\n",
       "      <td>0</td>\n",
       "      <td>United States</td>\n",
       "      <td>0</td>\n",
       "      <td>Data Science</td>\n",
       "    </tr>\n",
       "  </tbody>\n",
       "</table>\n",
       "</div>"
      ],
      "text/plain": [
       "           Company                                    Job Title   \n",
       "0              SGS                        Clinical Data Analyst  \\\n",
       "1          Ocorian                       AML/CFT & Data Analyst   \n",
       "2           Cricut                    Machine Learning Engineer   \n",
       "3      Bosch Group         Application Developer & Data Analyst   \n",
       "4  Publicis Groupe  Data Engineer Full time (Public Sector) USA   \n",
       "\n",
       "                          Location   Job Type Experience level    Salary   \n",
       "0    Richardson, TX, United States  Full Time      Entry-level   48000.0  \\\n",
       "1                 Ebène, Mauritius  Full Time      Entry-level   48000.0   \n",
       "2  South Jordan, UT, United States  Full Time    Not specified   90000.0   \n",
       "3                 Nonantola, Italy  Full Time      Entry-level   48000.0   \n",
       "4     Arlington, VA, United States  Full Time        Mid-level  108000.0   \n",
       "\n",
       "                          Requirment of the company    \n",
       "0  Computer Science,Data quality,Genetics,Mathema...  \\\n",
       "1           Agile,Data management,Finance,Security,,   \n",
       "2  Agile,Architecture,AWS,Computer Science,Comput...   \n",
       "3       Engineering,Industrial,Oracle,Power BI,R,R&D   \n",
       "4  AWS,Azure,Computer Science,Consulting,Dataflow...   \n",
       "\n",
       "                                          Facilities   \n",
       "0                                      Not-Specified  \\\n",
       "1                                      Not-Specified   \n",
       "2                                 Career development   \n",
       "3                                      Not-Specified   \n",
       "4  Flex hours,Flex vacation,Parental leave,Unlimi...   \n",
       "\n",
       "   the salary may go beyond  there are additional conditions or footnotes   \n",
       "0                         1                                             1  \\\n",
       "1                         1                                             1   \n",
       "2                         1                                             1   \n",
       "3                         1                                             1   \n",
       "4                         1                                             0   \n",
       "\n",
       "   Negociable        country  is_remote  Job_category  \n",
       "0           0  United States          0  Data Science  \n",
       "1           0      Mauritius          0            AI  \n",
       "2           0  United States          0            AI  \n",
       "3           0          Italy          0  Data Science  \n",
       "4           0  United States          0  Data Science  "
      ]
     },
     "execution_count": 95,
     "metadata": {},
     "output_type": "execute_result"
    }
   ],
   "source": [
    "df=pd.read_csv('job_clean.csv')\n",
    "df.head()"
   ]
  },
  {
   "cell_type": "code",
   "execution_count": 96,
   "id": "690ced5a",
   "metadata": {
    "scrolled": true
   },
   "outputs": [
    {
     "data": {
      "text/plain": [
       "Index(['Company', 'Job Title', 'Location', 'Job Type', 'Experience level',\n",
       "       'Salary', 'Requirment of the company ', 'Facilities',\n",
       "       'the salary may go beyond',\n",
       "       'there are additional conditions or footnotes', 'Negociable', 'country',\n",
       "       'is_remote', 'Job_category'],\n",
       "      dtype='object')"
      ]
     },
     "execution_count": 96,
     "metadata": {},
     "output_type": "execute_result"
    }
   ],
   "source": [
    "df.columns"
   ]
  },
  {
   "cell_type": "markdown",
   "id": "18ff248e",
   "metadata": {},
   "source": [
    "### Modélisation"
   ]
  },
  {
   "attachments": {
    "job%20erd.png": {
     "image/png": "[encoded data removed]"
    }
   },
   "cell_type": "markdown",
   "id": "d5c04ce6",
   "metadata": {},
   "source": [
    "![job%20erd.png](attachment:job%20erd.png)"
   ]
  },
  {
   "cell_type": "markdown",
   "id": "d9661bae",
   "metadata": {},
   "source": [
    "### I created database with the name \"TrendJob\""
   ]
  },
  {
   "cell_type": "markdown",
   "id": "8242d58a",
   "metadata": {},
   "source": [
    "### Database connection details"
   ]
  },
  {
   "cell_type": "code",
   "execution_count": 97,
   "id": "88a93844",
   "metadata": {},
   "outputs": [],
   "source": [
    "server = 'LAPTOP-QJ16KG8Q\\SQLEXPRESS'\n",
    "database = 'TrendJob'\n",
    "password = '' \n",
    "driver = '{SQL SERVER}'  "
   ]
  },
  {
   "cell_type": "markdown",
   "id": "55c0c489",
   "metadata": {},
   "source": [
    "### Database connection"
   ]
  },
  {
   "cell_type": "code",
   "execution_count": 98,
   "id": "86f09bf0",
   "metadata": {},
   "outputs": [],
   "source": [
    "conn = pyodbc.connect(f'DRIVER={driver};SERVER={server};DATABASE={database};PWD={password}')\n",
    "cursor = conn.cursor()"
   ]
  },
  {
   "cell_type": "markdown",
   "id": "95595050",
   "metadata": {},
   "source": [
    "### Creation table Facilities"
   ]
  },
  {
   "cell_type": "code",
   "execution_count": 99,
   "id": "a9594f2f",
   "metadata": {},
   "outputs": [],
   "source": [
    "cursor.execute(\"\"\"\n",
    "    CREATE TABLE [Facilities] (\n",
    "      [facility_id] int IDENTITY(1,1) PRIMARY KEY,\n",
    "      [facility_name] varchar(150),\n",
    "    );\n",
    "\"\"\")\n",
    "conn.commit()"
   ]
  },
  {
   "cell_type": "markdown",
   "id": "21c95d16",
   "metadata": {},
   "source": [
    "### Insert data into table Facilities"
   ]
  },
  {
   "cell_type": "code",
   "execution_count": 100,
   "id": "2509be74",
   "metadata": {},
   "outputs": [],
   "source": [
    "# Helper function to insert unique facility names and generate new IDs\n",
    "def insert_facility_name(facility_name):\n",
    "    # Check if the facility already exists in the table\n",
    "    cursor.execute(\"SELECT [facility_id] FROM [Facilities] WHERE [facility_name] = ?\", facility_name)\n",
    "    existing_facility_name = cursor.fetchone()\n",
    "\n",
    "    if existing_facility_name:\n",
    "        # facility already exists, return its ID\n",
    "        return existing_facility_name[0]\n",
    "    else:\n",
    "        # facility doesn't exist, insert it and get the generated ID\n",
    "        cursor.execute(\"INSERT INTO [Facilities] ([facility_name]) VALUES (?)\", facility_name)\n",
    "        conn.commit()  # Commit the insertion to get the generated ID\n",
    "\n",
    "        # Retrieve the newly generated facility_id\n",
    "        cursor.execute(\"SELECT @@IDENTITY\")\n",
    "        facility_id = cursor.fetchone()[0]\n",
    "\n",
    "        return facility_id\n",
    "\n",
    "# Insert data into 'Facilities' table\n",
    "unique_facilities = set()  # To store unique facility_name\n",
    "\n",
    "for index, row in df.iterrows():\n",
    "    # Assuming 'Facilities' column contains a comma-separated string of facilities\n",
    "    facilities_list = row['Facilities'].split(',')\n",
    "\n",
    "    for facility_name in facilities_list:\n",
    "        # Extract and clean facility\n",
    "        facility_name = facility_name.strip()\n",
    "\n",
    "        # Insert into 'Facilities' table if it's a unique facility_name\n",
    "        if facility_name not in unique_facilities:\n",
    "            insert_facility_name(facility_name)\n",
    "            unique_facilities.add(facility_name)"
   ]
  },
  {
   "cell_type": "markdown",
   "id": "d77cee86",
   "metadata": {},
   "source": [
    "### Creation table Country"
   ]
  },
  {
   "cell_type": "code",
   "execution_count": 101,
   "id": "6834aee2",
   "metadata": {},
   "outputs": [],
   "source": [
    "cursor.execute(\"\"\"\n",
    "    CREATE TABLE [Country] (\n",
    "      [country_id] int IDENTITY(1,1) PRIMARY KEY,\n",
    "      [country_name] varchar(55),\n",
    "    );\n",
    "\"\"\")\n",
    "conn.commit()"
   ]
  },
  {
   "cell_type": "markdown",
   "id": "a5955c9d",
   "metadata": {},
   "source": [
    "### Insert data into table Country"
   ]
  },
  {
   "cell_type": "code",
   "execution_count": 102,
   "id": "afdb30c0",
   "metadata": {},
   "outputs": [],
   "source": [
    "# Helper function to insert unique Location names and generate new IDs\n",
    "def insert_Location(country):\n",
    "    # Check if the location name already exists in the table\n",
    "    cursor.execute(\"SELECT [country_id] FROM [Country] WHERE [country_name] = ?\", country)\n",
    "    existing_Location = cursor.fetchone()\n",
    "\n",
    "    if existing_Location:\n",
    "        # Country already exists, return its ID\n",
    "        return existing_Location[0]\n",
    "    else:\n",
    "        # Country doesn't exist, insert it and get the generated ID\n",
    "        cursor.execute(\"INSERT INTO [Country] ( [country_name]) VALUES (?)\", country)\n",
    "        conn.commit()  # Commit the insertion to get the generated ID\n",
    "\n",
    "        # Retrieve the newly generated country_id\n",
    "        cursor.execute(\"SELECT @@IDENTITY\")\n",
    "        country_id = cursor.fetchone()[0]\n",
    "\n",
    "        return country_id\n",
    "\n",
    "# Insert data into 'Country' table\n",
    "for index, row in df.iterrows():\n",
    "    # Insert into 'Country' table and get the country_id\n",
    "    country_id = insert_Location(row['country'])"
   ]
  },
  {
   "cell_type": "markdown",
   "id": "3943a2e9",
   "metadata": {},
   "source": [
    "### Creation table Company"
   ]
  },
  {
   "cell_type": "code",
   "execution_count": 103,
   "id": "ed3da16e",
   "metadata": {},
   "outputs": [],
   "source": [
    "cursor.execute(\"\"\"\n",
    "    CREATE TABLE [Company] (\n",
    "      [company_id] int IDENTITY(1,1) PRIMARY KEY,\n",
    "      [company_name] varchar(55),\n",
    "    );\n",
    "\"\"\")\n",
    "conn.commit()"
   ]
  },
  {
   "cell_type": "markdown",
   "id": "b451c3d8",
   "metadata": {},
   "source": [
    "### Insert data into table Company"
   ]
  },
  {
   "cell_type": "code",
   "execution_count": 104,
   "id": "85d2780e",
   "metadata": {},
   "outputs": [],
   "source": [
    "# Helper function to insert unique company names and generate new IDs\n",
    "def insert_company(name):\n",
    "    # Check if the company name already exists in the table\n",
    "    cursor.execute(\"SELECT [company_id] FROM [Company] WHERE [company_name] = ?\", name)\n",
    "    existing_company = cursor.fetchone()\n",
    "\n",
    "    if existing_company:\n",
    "        # company already exists, return its ID\n",
    "        return existing_company[0] \n",
    "    else:\n",
    "        # company doesn't exist, insert it and get the generated ID\n",
    "        cursor.execute(\"INSERT INTO [Company] ([company_name]) VALUES (?)\", name)\n",
    "        conn.commit()  # Commit the insertion to get the generated ID\n",
    "\n",
    "        # Retrieve the newly generated company_id\n",
    "        cursor.execute(\"SELECT @@IDENTITY\")\n",
    "        company_id = cursor.fetchone()[0]\n",
    "\n",
    "        return company_id\n",
    "\n",
    "# Insert data into tables\n",
    "for index, row in df.iterrows():\n",
    "    # Insert into 'company' table and get the company_id\n",
    "    company_id = insert_company(row['Company'])"
   ]
  },
  {
   "cell_type": "markdown",
   "id": "64a044c1",
   "metadata": {},
   "source": [
    "### Creation table Job Offre"
   ]
  },
  {
   "cell_type": "code",
   "execution_count": 105,
   "id": "95b11d0a",
   "metadata": {},
   "outputs": [],
   "source": [
    "cursor.execute(\"\"\"\n",
    "\n",
    "    CREATE TABLE [Job Offre] (\n",
    "      [job_id] int IDENTITY(1,1) PRIMARY KEY,\n",
    "      [Job Title] varchar(255),\n",
    "      [Job Type] varchar(75),\n",
    "      [Job_category] varchar(75),\n",
    "      [company_id] int,\n",
    "      [country_id] int,\n",
    "      [salary] int,\n",
    "      [is_remote] int,\n",
    "      [beyond] int,\n",
    "      [conditions] int,\n",
    "      [Negociable] int,\n",
    "      CONSTRAINT [FK_Job Offre.country_id]\n",
    "        FOREIGN KEY ([country_id])\n",
    "          REFERENCES [Country]([country_id]),\n",
    "      CONSTRAINT [FK_Job Offre.company_id]\n",
    "        FOREIGN KEY ([company_id])\n",
    "          REFERENCES [Company]([company_id])\n",
    "    );\n",
    "\"\"\")\n",
    "conn.commit()"
   ]
  },
  {
   "cell_type": "markdown",
   "id": "652da98e",
   "metadata": {},
   "source": [
    "### Insert data into table Job Offre"
   ]
  },
  {
   "cell_type": "code",
   "execution_count": 106,
   "id": "6d2f287a",
   "metadata": {},
   "outputs": [
    {
     "data": {
      "text/plain": [
       "Company                                          0\n",
       "Job Title                                        0\n",
       "Location                                         0\n",
       "Job Type                                         0\n",
       "Experience level                                 0\n",
       "Salary                                          99\n",
       "Requirment of the company                        0\n",
       "Facilities                                       0\n",
       "the salary may go beyond                         0\n",
       "there are additional conditions or footnotes     0\n",
       "Negociable                                       0\n",
       "country                                          0\n",
       "is_remote                                        0\n",
       "Job_category                                     0\n",
       "dtype: int64"
      ]
     },
     "execution_count": 106,
     "metadata": {},
     "output_type": "execute_result"
    }
   ],
   "source": [
    "df.isnull().sum()"
   ]
  },
  {
   "cell_type": "code",
   "execution_count": 107,
   "id": "db7ea9f3",
   "metadata": {},
   "outputs": [],
   "source": [
    "cn = df.loc[(df['Salary'].isna())]\n",
    "df = df.drop(cn.index)"
   ]
  },
  {
   "cell_type": "code",
   "execution_count": 108,
   "id": "c5563584",
   "metadata": {},
   "outputs": [],
   "source": [
    "# Helper function to insert data into the 'Job Offre' table\n",
    "def insert_job_offre(job_title, job_type, job_category, company_id, country_id, salary, is_remote, beyond, conditions, negociable):\n",
    "    cursor.execute(\"INSERT INTO [Job Offre] ([Job Title], [Job Type], [Job_category], [company_id], [country_id], [Salary], [is_remote], [beyond], [conditions], [Negociable]) VALUES (?, ?, ?, ?, ?, ?, ?, ?, ?, ?)\",\n",
    "                   job_title, job_type, job_category, company_id, country_id, salary, is_remote, beyond, conditions, negociable)\n",
    "    conn.commit()\n",
    "\n",
    "# Insert data into 'Job Offre' table\n",
    "for index, row in df.iterrows():\n",
    "    job_title = row['Job Title']\n",
    "    job_type = row['Job Type']\n",
    "    job_category = row['Job_category']\n",
    "    company_name = row['Company']\n",
    "    country_name = row['country']\n",
    "    salary = row['Salary']\n",
    "    is_remote = row['is_remote']\n",
    "    beyond = row['the salary may go beyond']\n",
    "    conditions = row['there are additional conditions or footnotes']\n",
    "    negociable = row['Negociable']\n",
    "\n",
    "    # Retrieve the company_id and country_id from their respective tables using their names\n",
    "    cursor.execute(\"SELECT [company_id] FROM [Company] WHERE [company_name] = ?\", company_name)\n",
    "    company_id = cursor.fetchone()[0]\n",
    "\n",
    "    cursor.execute(\"SELECT [country_id] FROM [Country] WHERE [country_name] = ?\", country_name)\n",
    "    country_id = cursor.fetchone()[0]\n",
    "#     print(row)\n",
    "    # Insert into 'Job Offre' table\n",
    "    insert_job_offre(job_title, job_type, job_category, company_id, country_id, salary, is_remote, beyond, conditions, negociable)"
   ]
  },
  {
   "cell_type": "markdown",
   "id": "32a58a42",
   "metadata": {},
   "source": [
    "### Creation table \"Requirment of the company\""
   ]
  },
  {
   "cell_type": "code",
   "execution_count": 109,
   "id": "b9e33846",
   "metadata": {},
   "outputs": [],
   "source": [
    "cursor.execute(\"\"\"\n",
    "    CREATE TABLE [Requirment of the company ] (\n",
    "      [requirment_id] int IDENTITY(1,1) PRIMARY KEY,\n",
    "      [requirment_name] varchar(55),\n",
    "    );\n",
    "\"\"\")\n",
    "conn.commit()"
   ]
  },
  {
   "cell_type": "markdown",
   "id": "f24c1bd3",
   "metadata": {},
   "source": [
    "### Insert data into table Requirment of the company"
   ]
  },
  {
   "cell_type": "code",
   "execution_count": 110,
   "id": "61c9aca0",
   "metadata": {},
   "outputs": [],
   "source": [
    "# Helper function to insert unique Requirment names and generate new IDs\n",
    "def insert_requirment_name(requirment_name):\n",
    "    # Check if the Requirment already exists in the table\n",
    "    cursor.execute(\"SELECT [requirment_id] FROM [Requirment of the company ] WHERE [requirment_name] = ?\", requirment_name)\n",
    "    existing_requirment_name = cursor.fetchone()\n",
    "\n",
    "    if existing_requirment_name:\n",
    "        # Requirment already exists, return its ID\n",
    "        return existing_requirment_name[0]\n",
    "    else:\n",
    "        # Requirment doesn't exist, insert it and get the generated ID\n",
    "        cursor.execute(\"INSERT INTO [Requirment of the company] ([requirment_name]) VALUES (?)\", requirment_name)\n",
    "        conn.commit()  # Commit the insertion to get the generated ID\n",
    "\n",
    "        # Retrieve the newly generated Requirment_id\n",
    "        cursor.execute(\"SELECT @@IDENTITY\")\n",
    "        requirment_id = cursor.fetchone()[0]\n",
    "\n",
    "        return requirment_id\n",
    "\n",
    "# Insert data into 'Requirment' table\n",
    "unique_requirment_name = set()  # To store unique Requirment\n",
    "\n",
    "for index, row in df.iterrows():\n",
    "    # Assuming 'Requirment' column contains a comma-separated string of Requirment\n",
    "    Requirment_list = row['Requirment of the company '].split(',')\n",
    "\n",
    "    for requirment_name in Requirment_list:\n",
    "        # Extract and clean requirment\n",
    "        requirment_name = requirment_name.strip()\n",
    "\n",
    "        # Insert into 'Requirment' table if it's a unique Requirment\n",
    "        if requirment_name not in unique_requirment_name:\n",
    "            insert_requirment_name(requirment_name)\n",
    "            unique_requirment_name.add(requirment_name)"
   ]
  },
  {
   "cell_type": "markdown",
   "id": "3f18c8b2",
   "metadata": {},
   "source": [
    "### Creation table facility-job"
   ]
  },
  {
   "cell_type": "code",
   "execution_count": 111,
   "id": "168654cb",
   "metadata": {},
   "outputs": [],
   "source": [
    "cursor.execute(\"\"\"\n",
    "    CREATE TABLE [facility-job] (\n",
    "      [job_id] int,\n",
    "      [facility_id] int,\n",
    "      CONSTRAINT [FK_facility-job.job_id]\n",
    "        FOREIGN KEY ([job_id])\n",
    "          REFERENCES [Job Offre]([job_id]),\n",
    "      CONSTRAINT [FK_facility-job.facility_id]\n",
    "        FOREIGN KEY ([facility_id])\n",
    "          REFERENCES [Facilities]([facility_id])\n",
    ");\n",
    "\"\"\")\n",
    "conn.commit()"
   ]
  },
  {
   "cell_type": "markdown",
   "id": "1c6835e6",
   "metadata": {},
   "source": [
    "### Insert data into table facility_job"
   ]
  },
  {
   "cell_type": "code",
   "execution_count": 112,
   "id": "c1a9a882",
   "metadata": {},
   "outputs": [],
   "source": [
    "# Helper function to insert data into the 'facility_job' table\n",
    "def insert_facility_job(job_id, facility_id):\n",
    "    cursor.execute(\"INSERT INTO [facility-job] ([job_id], [facility_id]) VALUES (?, ?)\",\n",
    "                   job_id, facility_id)\n",
    "    conn.commit()\n",
    "    \n",
    "# Insert data into 'facility_job' table\n",
    "for index, row in df.iterrows():\n",
    "    job_title = row['Job Title']\n",
    "    facility_name = row['Facilities']\n",
    "\n",
    "    # Find the job_id from the 'Job Offer' table based on the 'job_title'\n",
    "    cursor.execute(\"SELECT [job_id] FROM [Job Offre] WHERE [Job Title] = ?\", job_title)\n",
    "    job_id = cursor.fetchone()\n",
    "\n",
    "    # Find the facility_id from the 'Facilities' table based on the 'facility_name'\n",
    "    cursor.execute(\"SELECT [facility_id] FROM [Facilities] WHERE [facility_name] = ?\", facility_name)\n",
    "    facility_id = cursor.fetchone()\n",
    "\n",
    "    if job_id and facility_id:\n",
    "        job_id = job_id[0]\n",
    "        facility_id = facility_id[0]\n",
    "        # Insert into 'facility_job' table\n",
    "        insert_facility_job(job_id, facility_id)"
   ]
  },
  {
   "cell_type": "markdown",
   "id": "2dfe8a59",
   "metadata": {},
   "source": [
    "### Creation table requirment-job"
   ]
  },
  {
   "cell_type": "code",
   "execution_count": 113,
   "id": "2d094be8",
   "metadata": {},
   "outputs": [],
   "source": [
    "cursor.execute(\"\"\"\n",
    "    CREATE TABLE [requirment-job] (\n",
    "      [job_id] int,\n",
    "      [requirment_id] int,\n",
    "      CONSTRAINT [FK_requirment-job.requirment_id]\n",
    "        FOREIGN KEY ([requirment_id])\n",
    "          REFERENCES [Requirment of the company]([requirment_id]),\n",
    "      CONSTRAINT [FK_requirment-job.job_id]\n",
    "        FOREIGN KEY ([job_id])\n",
    "          REFERENCES [Job Offre]([job_id])\n",
    ");\n",
    "\"\"\")\n",
    "conn.commit()"
   ]
  },
  {
   "cell_type": "markdown",
   "id": "75d229c9",
   "metadata": {},
   "source": [
    "### Insert data into table requirment_job"
   ]
  },
  {
   "cell_type": "code",
   "execution_count": 114,
   "id": "6b0978ff",
   "metadata": {},
   "outputs": [],
   "source": [
    "# Helper function to insert data into the 'requirment_job' table\n",
    "def insert_requirment_job(job_id, requirment_id):\n",
    "    cursor.execute(\"INSERT INTO [requirment-job] ([job_id], [requirment_id]) VALUES (?, ?)\",\n",
    "                   job_id, requirment_id)\n",
    "    conn.commit()\n",
    "    \n",
    "# Insert data into 'requirment_job' table\n",
    "for index, row in df.iterrows():\n",
    "    job_title = row['Job Title']\n",
    "    Requirment_name= row['Requirment of the company ']\n",
    "\n",
    "    # Find the job_id from the 'Job Offer' table based on the 'job_title'\n",
    "    cursor.execute(\"SELECT [job_id] FROM [Job Offre] WHERE [Job Title] = ?\", job_title)\n",
    "    job_id = cursor.fetchone()\n",
    "\n",
    "    # Find the requirment_id from the 'Requirment of the company' table based on the 'Requirment of the company'\n",
    "    cursor.execute(\"SELECT [requirment_id] FROM [Requirment of the company ] WHERE [requirment_name] = ?\", (Requirment_name,))\n",
    "    requirment_id = cursor.fetchone()\n",
    "\n",
    "    if job_id and requirment_id:\n",
    "        job_id = job_id[0]\n",
    "        requirment_id = requirment_id[0]\n",
    "        # Insert into 'requirment_job' table\n",
    "        insert_requirment_job(job_id, requirment_id)"
   ]
  },
  {
   "cell_type": "markdown",
   "id": "58a3e76f",
   "metadata": {},
   "source": [
    "### Creation des indexation pour ameloirer la performance"
   ]
  },
  {
   "cell_type": "code",
   "execution_count": null,
   "id": "47ad6385",
   "metadata": {},
   "outputs": [],
   "source": [
    "cursor.execute(\"\"\"\n",
    "CREATE INDEX CountryIndex on \"Country\" (\"Country_name\")\n",
    "\"\"\")\n",
    "conn.commit()"
   ]
  },
  {
   "cell_type": "code",
   "execution_count": null,
   "id": "cefebbaa",
   "metadata": {},
   "outputs": [],
   "source": [
    "cursor.execute(\"\"\"\n",
    "CREATE INDEX FacilitiyIndex on \"Facilities\" (\"facility_name\")\n",
    "\"\"\")\n",
    "conn.commit()"
   ]
  },
  {
   "cell_type": "code",
   "execution_count": null,
   "id": "1e37aaab",
   "metadata": {},
   "outputs": [],
   "source": [
    "cursor.execute(\"\"\"\n",
    "CREATE INDEX CountryIndex on \"Country\" (\"Country_name\")\n",
    "\"\"\")\n",
    "conn.commit()"
   ]
  },
  {
   "cell_type": "code",
   "execution_count": null,
   "id": "8a7ed24a",
   "metadata": {},
   "outputs": [],
   "source": [
    "cursor.execute(\"\"\"\n",
    "CREATE INDEX RequirmentIndex on \"Requirment of the company\" (\"requirment_name\")\n",
    "\"\"\")\n",
    "conn.commit()"
   ]
  },
  {
   "cell_type": "code",
   "execution_count": null,
   "id": "0445ebf6",
   "metadata": {},
   "outputs": [],
   "source": [
    "# Commit the changes and close the connection\n",
    "conn.commit()\n",
    "conn.close()"
   ]
  }
 ],
 "metadata": {
  "kernelspec": {
   "display_name": "Python 3 (ipykernel)",
   "language": "python",
   "name": "python3"
  },
  "language_info": {
   "codemirror_mode": {
    "name": "ipython",
    "version": 3
   },
   "file_extension": ".py",
   "mimetype": "text/x-python",
   "name": "python",
   "nbconvert_exporter": "python",
   "pygments_lexer": "ipython3",
   "version": "3.10.10"
  },
  "vp": {
   "vp_config_version": "1.0.0",
   "vp_menu_width": 273,
   "vp_note_display": false,
   "vp_note_width": 0,
   "vp_position": {
    "width": 278
   },
   "vp_section_display": false,
   "vp_signature": "VisualPython"
  }
 },
 "nbformat": 4,
 "nbformat_minor": 5
}
