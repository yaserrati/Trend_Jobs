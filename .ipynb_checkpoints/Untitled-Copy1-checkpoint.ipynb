{
 "cells": [
  {
   "cell_type": "markdown",
   "id": "f5649911",
   "metadata": {},
   "source": [
    "## importation"
   ]
  },
  {
   "cell_type": "code",
   "execution_count": 2,
   "id": "9abc6484",
   "metadata": {},
   "outputs": [],
   "source": [
    "import pandas as pd\n",
    "import numpy as np"
   ]
  },
  {
   "cell_type": "markdown",
   "id": "d69ea035",
   "metadata": {},
   "source": [
    "## read data"
   ]
  },
  {
   "cell_type": "code",
   "execution_count": 3,
   "id": "bec420e4",
   "metadata": {
    "scrolled": false
   },
   "outputs": [
    {
     "data": {
      "text/html": [
       "<div>\n",
       "<style scoped>\n",
       "    .dataframe tbody tr th:only-of-type {\n",
       "        vertical-align: middle;\n",
       "    }\n",
       "\n",
       "    .dataframe tbody tr th {\n",
       "        vertical-align: top;\n",
       "    }\n",
       "\n",
       "    .dataframe thead th {\n",
       "        text-align: right;\n",
       "    }\n",
       "</style>\n",
       "<table border=\"1\" class=\"dataframe\">\n",
       "  <thead>\n",
       "    <tr style=\"text-align: right;\">\n",
       "      <th></th>\n",
       "      <th>Company</th>\n",
       "      <th>Job Title</th>\n",
       "      <th>Location</th>\n",
       "      <th>Job Type</th>\n",
       "      <th>Experience level</th>\n",
       "      <th>Salary</th>\n",
       "      <th>Requirment of the company</th>\n",
       "      <th>Facilities</th>\n",
       "    </tr>\n",
       "  </thead>\n",
       "  <tbody>\n",
       "    <tr>\n",
       "      <th>0</th>\n",
       "      <td>SGS</td>\n",
       "      <td>Clinical Data Analyst</td>\n",
       "      <td>Richardson, TX, United States</td>\n",
       "      <td>Full Time</td>\n",
       "      <td>Entry-level</td>\n",
       "      <td>48K+ *</td>\n",
       "      <td>Computer Science,Data quality,Genetics,Mathema...</td>\n",
       "      <td>,,,,</td>\n",
       "    </tr>\n",
       "    <tr>\n",
       "      <th>1</th>\n",
       "      <td>Ocorian</td>\n",
       "      <td>AML/CFT &amp; Data Analyst</td>\n",
       "      <td>Ebène, Mauritius</td>\n",
       "      <td>Full Time</td>\n",
       "      <td>Entry-level</td>\n",
       "      <td>48K+ *</td>\n",
       "      <td>Agile,Data management,Finance,Security,,</td>\n",
       "      <td>,,,,</td>\n",
       "    </tr>\n",
       "    <tr>\n",
       "      <th>2</th>\n",
       "      <td>Cricut</td>\n",
       "      <td>Machine Learning Engineer</td>\n",
       "      <td>South Jordan, UT, United States</td>\n",
       "      <td>Full Time</td>\n",
       "      <td>NaN</td>\n",
       "      <td>90K+ *</td>\n",
       "      <td>Agile,Architecture,AWS,Computer Science,Comput...</td>\n",
       "      <td>Career development,,,,</td>\n",
       "    </tr>\n",
       "    <tr>\n",
       "      <th>3</th>\n",
       "      <td>Bosch Group</td>\n",
       "      <td>Application Developer &amp; Data Analyst</td>\n",
       "      <td>Nonantola, Italy</td>\n",
       "      <td>Full Time</td>\n",
       "      <td>Entry-level</td>\n",
       "      <td>48K+ *</td>\n",
       "      <td>Engineering,Industrial,Oracle,Power BI,R,R&amp;D</td>\n",
       "      <td>,,,,</td>\n",
       "    </tr>\n",
       "    <tr>\n",
       "      <th>4</th>\n",
       "      <td>Publicis Groupe</td>\n",
       "      <td>Data Engineer Full time (Public Sector) USA</td>\n",
       "      <td>Arlington, VA, United States</td>\n",
       "      <td>Full Time</td>\n",
       "      <td>Mid-level</td>\n",
       "      <td>108K+</td>\n",
       "      <td>AWS,Azure,Computer Science,Consulting,Dataflow...</td>\n",
       "      <td>Flex hours,Flex vacation,Parental leave,Unlimi...</td>\n",
       "    </tr>\n",
       "  </tbody>\n",
       "</table>\n",
       "</div>"
      ],
      "text/plain": [
       "           Company                                    Job Title   \n",
       "0              SGS                        Clinical Data Analyst  \\\n",
       "1          Ocorian                       AML/CFT & Data Analyst   \n",
       "2           Cricut                    Machine Learning Engineer   \n",
       "3      Bosch Group         Application Developer & Data Analyst   \n",
       "4  Publicis Groupe  Data Engineer Full time (Public Sector) USA   \n",
       "\n",
       "                          Location   Job Type Experience level   Salary   \n",
       "0    Richardson, TX, United States  Full Time      Entry-level   48K+ *  \\\n",
       "1                 Ebène, Mauritius  Full Time      Entry-level   48K+ *   \n",
       "2  South Jordan, UT, United States  Full Time              NaN   90K+ *   \n",
       "3                 Nonantola, Italy  Full Time      Entry-level   48K+ *   \n",
       "4     Arlington, VA, United States  Full Time        Mid-level    108K+   \n",
       "\n",
       "                          Requirment of the company    \n",
       "0  Computer Science,Data quality,Genetics,Mathema...  \\\n",
       "1           Agile,Data management,Finance,Security,,   \n",
       "2  Agile,Architecture,AWS,Computer Science,Comput...   \n",
       "3       Engineering,Industrial,Oracle,Power BI,R,R&D   \n",
       "4  AWS,Azure,Computer Science,Consulting,Dataflow...   \n",
       "\n",
       "                                          Facilities  \n",
       "0                                               ,,,,  \n",
       "1                                               ,,,,  \n",
       "2                             Career development,,,,  \n",
       "3                                               ,,,,  \n",
       "4  Flex hours,Flex vacation,Parental leave,Unlimi...  "
      ]
     },
     "execution_count": 3,
     "metadata": {},
     "output_type": "execute_result"
    }
   ],
   "source": [
    "df=pd.read_csv('job.csv', encoding='latin1')\n",
    "df.head()"
   ]
  },
  {
   "cell_type": "markdown",
   "id": "4148681f",
   "metadata": {},
   "source": [
    "## info about my data"
   ]
  },
  {
   "cell_type": "code",
   "execution_count": 4,
   "id": "6ce71d30",
   "metadata": {
    "scrolled": true
   },
   "outputs": [
    {
     "data": {
      "text/html": [
       "<div>\n",
       "<style scoped>\n",
       "    .dataframe tbody tr th:only-of-type {\n",
       "        vertical-align: middle;\n",
       "    }\n",
       "\n",
       "    .dataframe tbody tr th {\n",
       "        vertical-align: top;\n",
       "    }\n",
       "\n",
       "    .dataframe thead th {\n",
       "        text-align: right;\n",
       "    }\n",
       "</style>\n",
       "<table border=\"1\" class=\"dataframe\">\n",
       "  <thead>\n",
       "    <tr style=\"text-align: right;\">\n",
       "      <th></th>\n",
       "      <th>Company</th>\n",
       "      <th>Job Title</th>\n",
       "      <th>Location</th>\n",
       "      <th>Job Type</th>\n",
       "      <th>Experience level</th>\n",
       "      <th>Salary</th>\n",
       "      <th>Requirment of the company</th>\n",
       "      <th>Facilities</th>\n",
       "    </tr>\n",
       "  </thead>\n",
       "  <tbody>\n",
       "    <tr>\n",
       "      <th>3193</th>\n",
       "      <td>Western Digital</td>\n",
       "      <td>Data Scientist - New College Graduate</td>\n",
       "      <td>Biñan, Philippines</td>\n",
       "      <td>Full Time</td>\n",
       "      <td>Entry-level</td>\n",
       "      <td>39K+ *</td>\n",
       "      <td>APIs,Clustering,Computer Science,Data visualiz...</td>\n",
       "      <td>Career development,,,,</td>\n",
       "    </tr>\n",
       "    <tr>\n",
       "      <th>3194</th>\n",
       "      <td>Experian</td>\n",
       "      <td>Cloud Data Analyst</td>\n",
       "      <td>Heredia, Costa Rica</td>\n",
       "      <td>Full Time</td>\n",
       "      <td>Senior-level</td>\n",
       "      <td>92K+ *</td>\n",
       "      <td>AWS,Big Data,Computer Science,GCP,Snowflake,SQL</td>\n",
       "      <td>Equity,Medical leave,Salary bonus,,</td>\n",
       "    </tr>\n",
       "    <tr>\n",
       "      <th>3195</th>\n",
       "      <td>Locus Robotics</td>\n",
       "      <td>Robotics Engineer, Sensors</td>\n",
       "      <td>Wilmington, MA, United States</td>\n",
       "      <td>Full Time</td>\n",
       "      <td>Senior-level</td>\n",
       "      <td>62K+ *</td>\n",
       "      <td>E-commerce,Engineering,Linux,Python,Robotics,S...</td>\n",
       "      <td>,,,,</td>\n",
       "    </tr>\n",
       "    <tr>\n",
       "      <th>3196</th>\n",
       "      <td>ATB Financial</td>\n",
       "      <td>Data Scientist</td>\n",
       "      <td>Edmonton, Alberta, Canada</td>\n",
       "      <td>Full Time</td>\n",
       "      <td>Entry-level</td>\n",
       "      <td>39K+ *</td>\n",
       "      <td>Computer Science,Data Analytics,Data Mining,Ec...</td>\n",
       "      <td>Career development,Startup environment,,,</td>\n",
       "    </tr>\n",
       "    <tr>\n",
       "      <th>3197</th>\n",
       "      <td>Shippeo</td>\n",
       "      <td>Senior Data Engineer</td>\n",
       "      <td>Paris, France</td>\n",
       "      <td>Full Time</td>\n",
       "      <td>Senior-level</td>\n",
       "      <td>115K+ *</td>\n",
       "      <td>Airflow,Architecture,BigQuery,CI/CD,Computer S...</td>\n",
       "      <td>,,,,</td>\n",
       "    </tr>\n",
       "  </tbody>\n",
       "</table>\n",
       "</div>"
      ],
      "text/plain": [
       "              Company                              Job Title   \n",
       "3193  Western Digital  Data Scientist - New College Graduate  \\\n",
       "3194         Experian                     Cloud Data Analyst   \n",
       "3195   Locus Robotics             Robotics Engineer, Sensors   \n",
       "3196    ATB Financial                         Data Scientist   \n",
       "3197          Shippeo                   Senior Data Engineer   \n",
       "\n",
       "                           Location   Job Type Experience level    Salary   \n",
       "3193             Biñan, Philippines  Full Time      Entry-level    39K+ *  \\\n",
       "3194            Heredia, Costa Rica  Full Time     Senior-level    92K+ *   \n",
       "3195  Wilmington, MA, United States  Full Time     Senior-level    62K+ *   \n",
       "3196      Edmonton, Alberta, Canada  Full Time      Entry-level    39K+ *   \n",
       "3197                  Paris, France  Full Time     Senior-level   115K+ *   \n",
       "\n",
       "                             Requirment of the company    \n",
       "3193  APIs,Clustering,Computer Science,Data visualiz...  \\\n",
       "3194    AWS,Big Data,Computer Science,GCP,Snowflake,SQL   \n",
       "3195  E-commerce,Engineering,Linux,Python,Robotics,S...   \n",
       "3196  Computer Science,Data Analytics,Data Mining,Ec...   \n",
       "3197  Airflow,Architecture,BigQuery,CI/CD,Computer S...   \n",
       "\n",
       "                                     Facilities  \n",
       "3193                     Career development,,,,  \n",
       "3194        Equity,Medical leave,Salary bonus,,  \n",
       "3195                                       ,,,,  \n",
       "3196  Career development,Startup environment,,,  \n",
       "3197                                       ,,,,  "
      ]
     },
     "execution_count": 4,
     "metadata": {},
     "output_type": "execute_result"
    }
   ],
   "source": [
    "df.tail()"
   ]
  },
  {
   "cell_type": "code",
   "execution_count": 5,
   "id": "d5ef77b4",
   "metadata": {
    "scrolled": true
   },
   "outputs": [
    {
     "data": {
      "text/html": [
       "<div>\n",
       "<style scoped>\n",
       "    .dataframe tbody tr th:only-of-type {\n",
       "        vertical-align: middle;\n",
       "    }\n",
       "\n",
       "    .dataframe tbody tr th {\n",
       "        vertical-align: top;\n",
       "    }\n",
       "\n",
       "    .dataframe thead th {\n",
       "        text-align: right;\n",
       "    }\n",
       "</style>\n",
       "<table border=\"1\" class=\"dataframe\">\n",
       "  <thead>\n",
       "    <tr style=\"text-align: right;\">\n",
       "      <th></th>\n",
       "      <th>Company</th>\n",
       "      <th>Job Title</th>\n",
       "      <th>Location</th>\n",
       "      <th>Job Type</th>\n",
       "      <th>Experience level</th>\n",
       "      <th>Salary</th>\n",
       "      <th>Requirment of the company</th>\n",
       "      <th>Facilities</th>\n",
       "    </tr>\n",
       "  </thead>\n",
       "  <tbody>\n",
       "    <tr>\n",
       "      <th>2281</th>\n",
       "      <td>Mapbox</td>\n",
       "      <td>Senior Software Engineer, Data Platform</td>\n",
       "      <td>Remote, United States</td>\n",
       "      <td>Full Time</td>\n",
       "      <td>Senior-level</td>\n",
       "      <td>62K+ *</td>\n",
       "      <td>Airflow,APIs,AWS,Distributed Systems,Docker,Ku...</td>\n",
       "      <td>Career development,Parental leave,Startup envi...</td>\n",
       "    </tr>\n",
       "    <tr>\n",
       "      <th>2692</th>\n",
       "      <td>Excella</td>\n",
       "      <td>Data Scientist</td>\n",
       "      <td>Arlington, Virginia, United States, Remote</td>\n",
       "      <td>Full Time</td>\n",
       "      <td>Senior-level</td>\n",
       "      <td>129K+ *</td>\n",
       "      <td>Agile,Big Data,Clustering,Consulting,Data Mini...</td>\n",
       "      <td>Career development,Conferences,Flex hours,Flex...</td>\n",
       "    </tr>\n",
       "    <tr>\n",
       "      <th>1534</th>\n",
       "      <td>Insite AI</td>\n",
       "      <td>Lead Data Engineer</td>\n",
       "      <td>United States - Remote</td>\n",
       "      <td>Full Time</td>\n",
       "      <td>Mid-level</td>\n",
       "      <td>103K+ *</td>\n",
       "      <td>Azure,Databricks,Docker,Engineering,Kubernetes...</td>\n",
       "      <td>401(k) matching,Career development,Health care...</td>\n",
       "    </tr>\n",
       "    <tr>\n",
       "      <th>1814</th>\n",
       "      <td>Capco</td>\n",
       "      <td>Data Architect</td>\n",
       "      <td>US - Dallas</td>\n",
       "      <td>Full Time</td>\n",
       "      <td>Senior-level</td>\n",
       "      <td>135K+ *</td>\n",
       "      <td>APIs,Architecture,Big Data,Consulting,Data gov...</td>\n",
       "      <td>Career development,Health care,Startup environ...</td>\n",
       "    </tr>\n",
       "    <tr>\n",
       "      <th>1474</th>\n",
       "      <td>Strive Health</td>\n",
       "      <td>Sr. Director, Data Science</td>\n",
       "      <td>Denver, CO (Remote)</td>\n",
       "      <td>Full Time</td>\n",
       "      <td>Senior-level</td>\n",
       "      <td>147K+</td>\n",
       "      <td>Machine Learning,MLOps,OKR,Statistics,Testing,</td>\n",
       "      <td>Career development,Competitive pay,Health care...</td>\n",
       "    </tr>\n",
       "    <tr>\n",
       "      <th>634</th>\n",
       "      <td>NielsenIQ</td>\n",
       "      <td>Analyst - Organizational Effectiveness (Data M...</td>\n",
       "      <td>Chicago, IL, United States</td>\n",
       "      <td>Full Time</td>\n",
       "      <td>Senior-level</td>\n",
       "      <td>69K+ *</td>\n",
       "      <td>Business Intelligence,Data analysis,Data Analy...</td>\n",
       "      <td>Startup environment,,,,</td>\n",
       "    </tr>\n",
       "    <tr>\n",
       "      <th>2062</th>\n",
       "      <td>Ember</td>\n",
       "      <td>Data Analyst (2030 Clean Power)</td>\n",
       "      <td>Bangkok, Bangkok, Thailand</td>\n",
       "      <td>Full Time</td>\n",
       "      <td>Mid-level</td>\n",
       "      <td>65K+ *</td>\n",
       "      <td>Agile,Excel,Python,R,Research,</td>\n",
       "      <td>Competitive pay,Equity,Flex hours,Flex vacatio...</td>\n",
       "    </tr>\n",
       "    <tr>\n",
       "      <th>2942</th>\n",
       "      <td>Simpplr</td>\n",
       "      <td>Data Visualization Engineer</td>\n",
       "      <td>Hybrid - Gurugram, India</td>\n",
       "      <td>Full Time</td>\n",
       "      <td>Senior-level</td>\n",
       "      <td>55K+ *</td>\n",
       "      <td>CI/CD,D3,Data visualization,Data warehouse,Eng...</td>\n",
       "      <td>Competitive pay,Flex hours,Transparency,,</td>\n",
       "    </tr>\n",
       "    <tr>\n",
       "      <th>837</th>\n",
       "      <td>Charger Logistics Inc</td>\n",
       "      <td>Operations Data Analyst (Tableau)</td>\n",
       "      <td>Monterrey, Nuevo Leon, Mexico</td>\n",
       "      <td>Full Time</td>\n",
       "      <td>Mid-level</td>\n",
       "      <td>65K+ *</td>\n",
       "      <td>Agile,Scrum,Tableau,,,</td>\n",
       "      <td>Career development,Competitive pay,Health care...</td>\n",
       "    </tr>\n",
       "    <tr>\n",
       "      <th>3147</th>\n",
       "      <td>Standard Bank Group</td>\n",
       "      <td>Data Science Graduate Programme</td>\n",
       "      <td>Johannesburg, South Africa</td>\n",
       "      <td>Full Time</td>\n",
       "      <td>Entry-level</td>\n",
       "      <td>30K+ *</td>\n",
       "      <td>Computer Science,Engineering,Mathematics,Stati...</td>\n",
       "      <td>Career development,Startup environment,,,</td>\n",
       "    </tr>\n",
       "  </tbody>\n",
       "</table>\n",
       "</div>"
      ],
      "text/plain": [
       "                    Company   \n",
       "2281                 Mapbox  \\\n",
       "2692                Excella   \n",
       "1534              Insite AI   \n",
       "1814                  Capco   \n",
       "1474          Strive Health   \n",
       "634               NielsenIQ   \n",
       "2062                  Ember   \n",
       "2942                Simpplr   \n",
       "837   Charger Logistics Inc   \n",
       "3147    Standard Bank Group   \n",
       "\n",
       "                                              Job Title   \n",
       "2281            Senior Software Engineer, Data Platform  \\\n",
       "2692                                     Data Scientist   \n",
       "1534                                 Lead Data Engineer   \n",
       "1814                                     Data Architect   \n",
       "1474                         Sr. Director, Data Science   \n",
       "634   Analyst - Organizational Effectiveness (Data M...   \n",
       "2062                    Data Analyst (2030 Clean Power)   \n",
       "2942                        Data Visualization Engineer   \n",
       "837                   Operations Data Analyst (Tableau)   \n",
       "3147                    Data Science Graduate Programme   \n",
       "\n",
       "                                        Location   Job Type Experience level   \n",
       "2281                       Remote, United States  Full Time     Senior-level  \\\n",
       "2692  Arlington, Virginia, United States, Remote  Full Time     Senior-level   \n",
       "1534                      United States - Remote  Full Time        Mid-level   \n",
       "1814                                 US - Dallas  Full Time     Senior-level   \n",
       "1474                         Denver, CO (Remote)  Full Time     Senior-level   \n",
       "634                   Chicago, IL, United States  Full Time     Senior-level   \n",
       "2062                  Bangkok, Bangkok, Thailand  Full Time        Mid-level   \n",
       "2942                    Hybrid - Gurugram, India  Full Time     Senior-level   \n",
       "837                Monterrey, Nuevo Leon, Mexico  Full Time        Mid-level   \n",
       "3147                  Johannesburg, South Africa  Full Time      Entry-level   \n",
       "\n",
       "        Salary                         Requirment of the company    \n",
       "2281    62K+ *  Airflow,APIs,AWS,Distributed Systems,Docker,Ku...  \\\n",
       "2692   129K+ *  Agile,Big Data,Clustering,Consulting,Data Mini...   \n",
       "1534   103K+ *  Azure,Databricks,Docker,Engineering,Kubernetes...   \n",
       "1814   135K+ *  APIs,Architecture,Big Data,Consulting,Data gov...   \n",
       "1474     147K+     Machine Learning,MLOps,OKR,Statistics,Testing,   \n",
       "634     69K+ *  Business Intelligence,Data analysis,Data Analy...   \n",
       "2062    65K+ *                     Agile,Excel,Python,R,Research,   \n",
       "2942    55K+ *  CI/CD,D3,Data visualization,Data warehouse,Eng...   \n",
       "837     65K+ *                             Agile,Scrum,Tableau,,,   \n",
       "3147    30K+ *  Computer Science,Engineering,Mathematics,Stati...   \n",
       "\n",
       "                                             Facilities  \n",
       "2281  Career development,Parental leave,Startup envi...  \n",
       "2692  Career development,Conferences,Flex hours,Flex...  \n",
       "1534  401(k) matching,Career development,Health care...  \n",
       "1814  Career development,Health care,Startup environ...  \n",
       "1474  Career development,Competitive pay,Health care...  \n",
       "634                             Startup environment,,,,  \n",
       "2062  Competitive pay,Equity,Flex hours,Flex vacatio...  \n",
       "2942          Competitive pay,Flex hours,Transparency,,  \n",
       "837   Career development,Competitive pay,Health care...  \n",
       "3147          Career development,Startup environment,,,  "
      ]
     },
     "execution_count": 5,
     "metadata": {},
     "output_type": "execute_result"
    }
   ],
   "source": [
    "df.sample(10)"
   ]
  },
  {
   "cell_type": "code",
   "execution_count": 9,
   "id": "f73678b6",
   "metadata": {
    "scrolled": true
   },
   "outputs": [
    {
     "data": {
      "text/plain": [
       "Company                         1\n",
       "Job Title                       1\n",
       "Location                        1\n",
       "Job Type                        1\n",
       "Experience level              236\n",
       "Salary                        189\n",
       "Requirment of the company       0\n",
       "Facilities                      0\n",
       "dtype: int64"
      ]
     },
     "execution_count": 9,
     "metadata": {},
     "output_type": "execute_result"
    }
   ],
   "source": [
    "# check for null values\n",
    "df.isnull().sum()"
   ]
  },
  {
   "cell_type": "code",
   "execution_count": 10,
   "id": "732a742c",
   "metadata": {},
   "outputs": [
    {
     "data": {
      "text/html": [
       "<div>\n",
       "<style scoped>\n",
       "    .dataframe tbody tr th:only-of-type {\n",
       "        vertical-align: middle;\n",
       "    }\n",
       "\n",
       "    .dataframe tbody tr th {\n",
       "        vertical-align: top;\n",
       "    }\n",
       "\n",
       "    .dataframe thead th {\n",
       "        text-align: right;\n",
       "    }\n",
       "</style>\n",
       "<table border=\"1\" class=\"dataframe\">\n",
       "  <thead>\n",
       "    <tr style=\"text-align: right;\">\n",
       "      <th></th>\n",
       "      <th>Company</th>\n",
       "      <th>Job Title</th>\n",
       "      <th>Location</th>\n",
       "      <th>Job Type</th>\n",
       "      <th>Experience level</th>\n",
       "      <th>Salary</th>\n",
       "      <th>Requirment of the company</th>\n",
       "      <th>Facilities</th>\n",
       "    </tr>\n",
       "  </thead>\n",
       "  <tbody>\n",
       "    <tr>\n",
       "      <th>797</th>\n",
       "      <td>NaN</td>\n",
       "      <td>NaN</td>\n",
       "      <td>NaN</td>\n",
       "      <td>NaN</td>\n",
       "      <td>NaN</td>\n",
       "      <td>NaN</td>\n",
       "      <td>,,,,,</td>\n",
       "      <td>,,,,</td>\n",
       "    </tr>\n",
       "  </tbody>\n",
       "</table>\n",
       "</div>"
      ],
      "text/plain": [
       "    Company Job Title Location Job Type Experience level Salary   \n",
       "797     NaN       NaN      NaN      NaN              NaN    NaN  \\\n",
       "\n",
       "    Requirment of the company  Facilities  \n",
       "797                      ,,,,,       ,,,,  "
      ]
     },
     "execution_count": 10,
     "metadata": {},
     "output_type": "execute_result"
    }
   ],
   "source": [
    "# where the company name is null\n",
    "df[df['Company'].isnull()]"
   ]
  },
  {
   "cell_type": "code",
   "execution_count": 11,
   "id": "e84c9894",
   "metadata": {},
   "outputs": [
    {
     "data": {
      "text/plain": [
       "Company                         0\n",
       "Job Title                       0\n",
       "Location                        0\n",
       "Job Type                        0\n",
       "Experience level              235\n",
       "Salary                        188\n",
       "Requirment of the company       0\n",
       "Facilities                      0\n",
       "dtype: int64"
      ]
     },
     "execution_count": 11,
     "metadata": {},
     "output_type": "execute_result"
    }
   ],
   "source": [
    "# drop the null row where the company name is null\n",
    "df.dropna(subset=['Company'], inplace=True)\n",
    "df.isnull().sum()"
   ]
  },
  {
   "cell_type": "code",
   "execution_count": null,
   "id": "33e7f3b7",
   "metadata": {},
   "outputs": [],
   "source": []
  },
  {
   "cell_type": "code",
   "execution_count": null,
   "id": "dd87fd4f",
   "metadata": {},
   "outputs": [],
   "source": []
  },
  {
   "cell_type": "code",
   "execution_count": null,
   "id": "4d029344",
   "metadata": {},
   "outputs": [],
   "source": []
  },
  {
   "cell_type": "markdown",
   "id": "f8fc60ff",
   "metadata": {},
   "source": [
    "## Column-wise null values percentage"
   ]
  },
  {
   "cell_type": "code",
   "execution_count": 7,
   "id": "1b1f93ab",
   "metadata": {
    "scrolled": false
   },
   "outputs": [
    {
     "data": {
      "text/plain": [
       "Company                       0.031270\n",
       "Job Title                     0.031270\n",
       "Location                      0.031270\n",
       "Job Type                      0.031270\n",
       "Experience level              7.379612\n",
       "Salary                        5.909944\n",
       "Requirment of the company     0.000000\n",
       "Facilities                    0.000000\n",
       "dtype: float64"
      ]
     },
     "execution_count": 7,
     "metadata": {},
     "output_type": "execute_result"
    }
   ],
   "source": [
    "df.isnull().sum()/df.shape[0]*100"
   ]
  },
  {
   "cell_type": "markdown",
   "id": "8f80e6e0",
   "metadata": {},
   "source": [
    "## Cheacking the data type and non null value present in the dataframe"
   ]
  },
  {
   "cell_type": "code",
   "execution_count": 8,
   "id": "649ec7f6",
   "metadata": {
    "scrolled": false
   },
   "outputs": [
    {
     "name": "stdout",
     "output_type": "stream",
     "text": [
      "<class 'pandas.core.frame.DataFrame'>\n",
      "RangeIndex: 3198 entries, 0 to 3197\n",
      "Data columns (total 8 columns):\n",
      " #   Column                      Non-Null Count  Dtype \n",
      "---  ------                      --------------  ----- \n",
      " 0   Company                     3197 non-null   object\n",
      " 1   Job Title                   3197 non-null   object\n",
      " 2   Location                    3197 non-null   object\n",
      " 3   Job Type                    3197 non-null   object\n",
      " 4   Experience level            2962 non-null   object\n",
      " 5   Salary                      3009 non-null   object\n",
      " 6   Requirment of the company   3198 non-null   object\n",
      " 7   Facilities                  3198 non-null   object\n",
      "dtypes: object(8)\n",
      "memory usage: 200.0+ KB\n"
     ]
    }
   ],
   "source": [
    "df.info()"
   ]
  },
  {
   "cell_type": "markdown",
   "id": "4e8041a8",
   "metadata": {},
   "source": [
    "## Fill the missing values in the Age column with \"Not specified\""
   ]
  },
  {
   "cell_type": "code",
   "execution_count": 57,
   "id": "503c789b",
   "metadata": {},
   "outputs": [],
   "source": [
    "# Fill the missing values in the Age column with \"Not specified\"\n",
    "df[\"Experience level\"].fillna(\"Not specified\", inplace=True)"
   ]
  },
  {
   "cell_type": "markdown",
   "id": "1ff6bc94",
   "metadata": {},
   "source": [
    "## replace the null values in the Salary column with 0"
   ]
  },
  {
   "cell_type": "code",
   "execution_count": null,
   "id": "b17a9907",
   "metadata": {},
   "outputs": [],
   "source": [
    "# replace the null values in the Salary column with 0\n",
    "df['Salary'].fillna('Negociable', inplace=True)\n",
    "df.isnull().sum()"
   ]
  },
  {
   "cell_type": "markdown",
   "id": "a50117f6",
   "metadata": {},
   "source": [
    "## Cheking the dublicate value presant in the dataset"
   ]
  },
  {
   "cell_type": "code",
   "execution_count": 13,
   "id": "62352b9f",
   "metadata": {},
   "outputs": [
    {
     "data": {
      "text/html": [
       "<div>\n",
       "<style scoped>\n",
       "    .dataframe tbody tr th:only-of-type {\n",
       "        vertical-align: middle;\n",
       "    }\n",
       "\n",
       "    .dataframe tbody tr th {\n",
       "        vertical-align: top;\n",
       "    }\n",
       "\n",
       "    .dataframe thead th {\n",
       "        text-align: right;\n",
       "    }\n",
       "</style>\n",
       "<table border=\"1\" class=\"dataframe\">\n",
       "  <thead>\n",
       "    <tr style=\"text-align: right;\">\n",
       "      <th></th>\n",
       "      <th>Company</th>\n",
       "      <th>Job Title</th>\n",
       "      <th>Location</th>\n",
       "      <th>Job Type</th>\n",
       "      <th>Experience level</th>\n",
       "      <th>Salary</th>\n",
       "      <th>Requirment of the company</th>\n",
       "      <th>Facilities</th>\n",
       "    </tr>\n",
       "  </thead>\n",
       "  <tbody>\n",
       "    <tr>\n",
       "      <th>1345</th>\n",
       "      <td>Netcentric</td>\n",
       "      <td>(Senior) Digital Analytics Engineer</td>\n",
       "      <td>Barcelona, Spain</td>\n",
       "      <td>Full Time</td>\n",
       "      <td>Senior-level</td>\n",
       "      <td>110K+ *</td>\n",
       "      <td>A/B testing,Angular,APIs,Computer Science,Engi...</td>\n",
       "      <td>Career development,Fitness / gym,Flex hours,Fl...</td>\n",
       "    </tr>\n",
       "    <tr>\n",
       "      <th>698</th>\n",
       "      <td>Netcentric</td>\n",
       "      <td>(Senior) Digital Analytics Engineer</td>\n",
       "      <td>Barcelona, Spain</td>\n",
       "      <td>Full Time</td>\n",
       "      <td>Senior-level</td>\n",
       "      <td>110K+ *</td>\n",
       "      <td>A/B testing,Angular,APIs,Computer Science,Engi...</td>\n",
       "      <td>Career development,Fitness / gym,Flex hours,Fl...</td>\n",
       "    </tr>\n",
       "    <tr>\n",
       "      <th>1936</th>\n",
       "      <td>Netcentric</td>\n",
       "      <td>(Senior) Digital Analytics Engineer</td>\n",
       "      <td>Barcelona, Spain</td>\n",
       "      <td>Full Time</td>\n",
       "      <td>Senior-level</td>\n",
       "      <td>110K+ *</td>\n",
       "      <td>A/B testing,Angular,APIs,Computer Science,Engi...</td>\n",
       "      <td>Career development,Fitness / gym,Flex hours,Fl...</td>\n",
       "    </tr>\n",
       "    <tr>\n",
       "      <th>2683</th>\n",
       "      <td>Netcentric</td>\n",
       "      <td>(Senior) Digital Analytics Engineer</td>\n",
       "      <td>Barcelona, Spain</td>\n",
       "      <td>Full Time</td>\n",
       "      <td>Senior-level</td>\n",
       "      <td>110K+ *</td>\n",
       "      <td>A/B testing,Angular,APIs,Computer Science,Engi...</td>\n",
       "      <td>Career development,Fitness / gym,Flex hours,Fl...</td>\n",
       "    </tr>\n",
       "    <tr>\n",
       "      <th>3151</th>\n",
       "      <td>Standard Bank Group</td>\n",
       "      <td>80389998 - Engineer, Data</td>\n",
       "      <td>Johannesburg, South Africa</td>\n",
       "      <td>Full Time</td>\n",
       "      <td>Entry-level</td>\n",
       "      <td>30K+ *</td>\n",
       "      <td>Agile,Architecture,Big Data,Data management,Da...</td>\n",
       "      <td>Startup environment,,,,</td>\n",
       "    </tr>\n",
       "    <tr>\n",
       "      <th>1329</th>\n",
       "      <td>Palo Alto Networks</td>\n",
       "      <td>AI Architect, IT</td>\n",
       "      <td>Santa Clara, CA, United States</td>\n",
       "      <td>Full Time</td>\n",
       "      <td>Senior-level</td>\n",
       "      <td>204K+</td>\n",
       "      <td>AI strategy,Architecture,Classification,Comput...</td>\n",
       "      <td>Career development,Medical leave,Salary bonus,...</td>\n",
       "    </tr>\n",
       "    <tr>\n",
       "      <th>1670</th>\n",
       "      <td>Ocorian</td>\n",
       "      <td>AML/CFT &amp; Data Analyst</td>\n",
       "      <td>Ebène, Mauritius</td>\n",
       "      <td>Full Time</td>\n",
       "      <td>Entry-level</td>\n",
       "      <td>48K+ *</td>\n",
       "      <td>Agile,Data management,Finance,Security,,</td>\n",
       "      <td>,,,,</td>\n",
       "    </tr>\n",
       "    <tr>\n",
       "      <th>3065</th>\n",
       "      <td>Ocorian</td>\n",
       "      <td>AML/CFT &amp; Data Analyst</td>\n",
       "      <td>Ebène, Mauritius</td>\n",
       "      <td>Full Time</td>\n",
       "      <td>Entry-level</td>\n",
       "      <td>42K+ *</td>\n",
       "      <td>Agile,Data management,Finance,Security,,</td>\n",
       "      <td>,,,,</td>\n",
       "    </tr>\n",
       "    <tr>\n",
       "      <th>1203</th>\n",
       "      <td>Publicis Groupe</td>\n",
       "      <td>Analyst, Data Engineering</td>\n",
       "      <td>New York City, United States</td>\n",
       "      <td>Full Time</td>\n",
       "      <td>Entry-level</td>\n",
       "      <td>52K+</td>\n",
       "      <td>AWS,Azure,Data management,Data Warehousing,Eng...</td>\n",
       "      <td>Career development,Flex hours,Flex vacation,He...</td>\n",
       "    </tr>\n",
       "    <tr>\n",
       "      <th>1238</th>\n",
       "      <td>Groupe Hospitalier Paris Saint Joseph</td>\n",
       "      <td>Architecte DATA - Décisionnel et Entrepôt Donn...</td>\n",
       "      <td>Paris, France</td>\n",
       "      <td>Full Time</td>\n",
       "      <td>Senior-level</td>\n",
       "      <td>135K+ *</td>\n",
       "      <td>Agile,Architecture,Big Data,Business Intellige...</td>\n",
       "      <td>,,,,</td>\n",
       "    </tr>\n",
       "    <tr>\n",
       "      <th>2506</th>\n",
       "      <td>Raft</td>\n",
       "      <td>Associate AI/ML Engineer</td>\n",
       "      <td>Remote</td>\n",
       "      <td>Full Time</td>\n",
       "      <td>Mid-level</td>\n",
       "      <td>77K+ *</td>\n",
       "      <td>Computer Science,Engineering,GitHub,Machine Le...</td>\n",
       "      <td>401(k) matching,Career development,Competitive...</td>\n",
       "    </tr>\n",
       "    <tr>\n",
       "      <th>2408</th>\n",
       "      <td>Publicis Groupe</td>\n",
       "      <td>Associate Director, Business Intelligence</td>\n",
       "      <td>Philadelphia, PA, United States</td>\n",
       "      <td>Full Time</td>\n",
       "      <td>Mid-level</td>\n",
       "      <td>56K+ *</td>\n",
       "      <td>Business Intelligence,Consulting,Data analysis...</td>\n",
       "      <td>Career development,Health care,Startup environ...</td>\n",
       "    </tr>\n",
       "    <tr>\n",
       "      <th>1949</th>\n",
       "      <td>Publicis Groupe</td>\n",
       "      <td>Associate Director, Data Engineering</td>\n",
       "      <td>New York City, United States</td>\n",
       "      <td>Full Time</td>\n",
       "      <td>Mid-level</td>\n",
       "      <td>106K+</td>\n",
       "      <td>AWS,Azure,Computer Science,Data management,Dat...</td>\n",
       "      <td>Health care,Startup environment,,,</td>\n",
       "    </tr>\n",
       "    <tr>\n",
       "      <th>2531</th>\n",
       "      <td>Bosch Group</td>\n",
       "      <td>Azure AI/ML Expert</td>\n",
       "      <td>Bengaluru, India</td>\n",
       "      <td>Full Time</td>\n",
       "      <td>Senior-level</td>\n",
       "      <td>55K+ *</td>\n",
       "      <td>Azure,CI/CD,Computer Science,Computer Vision,C...</td>\n",
       "      <td>Career development,Team events,,,</td>\n",
       "    </tr>\n",
       "    <tr>\n",
       "      <th>2020</th>\n",
       "      <td>Sportradar</td>\n",
       "      <td>BI Analyst</td>\n",
       "      <td>Gibraltar, Gibraltar</td>\n",
       "      <td>Full Time</td>\n",
       "      <td>Entry-level</td>\n",
       "      <td>48K+ *</td>\n",
       "      <td>Athena,Business Intelligence,Data Analytics,Da...</td>\n",
       "      <td>,,,,</td>\n",
       "    </tr>\n",
       "    <tr>\n",
       "      <th>1088</th>\n",
       "      <td>Publicis Groupe</td>\n",
       "      <td>BI Developer</td>\n",
       "      <td>New York City, United States</td>\n",
       "      <td>Full Time</td>\n",
       "      <td>Senior-level</td>\n",
       "      <td>106K+</td>\n",
       "      <td>Agile,Architecture,Business Intelligence,Data ...</td>\n",
       "      <td>Health care,,,,</td>\n",
       "    </tr>\n",
       "    <tr>\n",
       "      <th>2508</th>\n",
       "      <td>Bear Robotics</td>\n",
       "      <td>Bear Robotics</td>\n",
       "      <td>Redwood City, CA</td>\n",
       "      <td>Full Time</td>\n",
       "      <td>Entry-level</td>\n",
       "      <td>44K+ *</td>\n",
       "      <td>Architecture,Computer Science,Engineering,Java...</td>\n",
       "      <td>Career development,Team events,,,</td>\n",
       "    </tr>\n",
       "    <tr>\n",
       "      <th>2342</th>\n",
       "      <td>Block</td>\n",
       "      <td>Behavioral Insights Fraud Data Analyst</td>\n",
       "      <td>Atlanta, GA, United States</td>\n",
       "      <td>Full Time</td>\n",
       "      <td>Senior-level</td>\n",
       "      <td>85K+</td>\n",
       "      <td>Banking,Blockchain,Computer Science,Crypto,Dat...</td>\n",
       "      <td>Career development,Equity,Health care,Insuranc...</td>\n",
       "    </tr>\n",
       "    <tr>\n",
       "      <th>1019</th>\n",
       "      <td>Block</td>\n",
       "      <td>Business Intelligence Engineering Manager</td>\n",
       "      <td>San Francisco, CA, United States</td>\n",
       "      <td>Full Time</td>\n",
       "      <td>Senior-level</td>\n",
       "      <td>172K+</td>\n",
       "      <td>Banking,Blockchain,Business Intelligence,Compu...</td>\n",
       "      <td>Career development,Equity,Health care,Home off...</td>\n",
       "    </tr>\n",
       "    <tr>\n",
       "      <th>1049</th>\n",
       "      <td>Natera</td>\n",
       "      <td>Clinical Data Reporter</td>\n",
       "      <td>Remote</td>\n",
       "      <td>Full Time</td>\n",
       "      <td>Mid-level</td>\n",
       "      <td>51K+ *</td>\n",
       "      <td>Engineering,Genetics,Privacy,Security,Testing,</td>\n",
       "      <td>Competitive pay,Fertility benefits,Flex hours,...</td>\n",
       "    </tr>\n",
       "  </tbody>\n",
       "</table>\n",
       "</div>"
      ],
      "text/plain": [
       "                                    Company   \n",
       "1345                             Netcentric  \\\n",
       "698                              Netcentric   \n",
       "1936                             Netcentric   \n",
       "2683                             Netcentric   \n",
       "3151                    Standard Bank Group   \n",
       "1329                     Palo Alto Networks   \n",
       "1670                                Ocorian   \n",
       "3065                                Ocorian   \n",
       "1203                        Publicis Groupe   \n",
       "1238  Groupe Hospitalier Paris Saint Joseph   \n",
       "2506                                   Raft   \n",
       "2408                        Publicis Groupe   \n",
       "1949                        Publicis Groupe   \n",
       "2531                            Bosch Group   \n",
       "2020                             Sportradar   \n",
       "1088                        Publicis Groupe   \n",
       "2508                          Bear Robotics   \n",
       "2342                                  Block   \n",
       "1019                                  Block   \n",
       "1049                                 Natera   \n",
       "\n",
       "                                              Job Title   \n",
       "1345                (Senior) Digital Analytics Engineer  \\\n",
       "698                 (Senior) Digital Analytics Engineer   \n",
       "1936                (Senior) Digital Analytics Engineer   \n",
       "2683                (Senior) Digital Analytics Engineer   \n",
       "3151                          80389998 - Engineer, Data   \n",
       "1329                                   AI Architect, IT   \n",
       "1670                             AML/CFT & Data Analyst   \n",
       "3065                             AML/CFT & Data Analyst   \n",
       "1203                          Analyst, Data Engineering   \n",
       "1238  Architecte DATA - Décisionnel et Entrepôt Donn...   \n",
       "2506                           Associate AI/ML Engineer   \n",
       "2408          Associate Director, Business Intelligence   \n",
       "1949               Associate Director, Data Engineering   \n",
       "2531                                 Azure AI/ML Expert   \n",
       "2020                                         BI Analyst   \n",
       "1088                                       BI Developer   \n",
       "2508                                      Bear Robotics   \n",
       "2342             Behavioral Insights Fraud Data Analyst   \n",
       "1019          Business Intelligence Engineering Manager   \n",
       "1049                             Clinical Data Reporter   \n",
       "\n",
       "                              Location   Job Type Experience level    Salary   \n",
       "1345                  Barcelona, Spain  Full Time     Senior-level   110K+ *  \\\n",
       "698                   Barcelona, Spain  Full Time     Senior-level   110K+ *   \n",
       "1936                  Barcelona, Spain  Full Time     Senior-level   110K+ *   \n",
       "2683                  Barcelona, Spain  Full Time     Senior-level   110K+ *   \n",
       "3151        Johannesburg, South Africa  Full Time      Entry-level    30K+ *   \n",
       "1329    Santa Clara, CA, United States  Full Time     Senior-level     204K+   \n",
       "1670                  Ebène, Mauritius  Full Time      Entry-level    48K+ *   \n",
       "3065                  Ebène, Mauritius  Full Time      Entry-level    42K+ *   \n",
       "1203      New York City, United States  Full Time      Entry-level      52K+   \n",
       "1238                     Paris, France  Full Time     Senior-level   135K+ *   \n",
       "2506                            Remote  Full Time        Mid-level    77K+ *   \n",
       "2408   Philadelphia, PA, United States  Full Time        Mid-level    56K+ *   \n",
       "1949      New York City, United States  Full Time        Mid-level     106K+   \n",
       "2531                  Bengaluru, India  Full Time     Senior-level    55K+ *   \n",
       "2020              Gibraltar, Gibraltar  Full Time      Entry-level    48K+ *   \n",
       "1088      New York City, United States  Full Time     Senior-level     106K+   \n",
       "2508                  Redwood City, CA  Full Time      Entry-level    44K+ *   \n",
       "2342        Atlanta, GA, United States  Full Time     Senior-level      85K+   \n",
       "1019  San Francisco, CA, United States  Full Time     Senior-level     172K+   \n",
       "1049                            Remote  Full Time        Mid-level    51K+ *   \n",
       "\n",
       "                             Requirment of the company    \n",
       "1345  A/B testing,Angular,APIs,Computer Science,Engi...  \\\n",
       "698   A/B testing,Angular,APIs,Computer Science,Engi...   \n",
       "1936  A/B testing,Angular,APIs,Computer Science,Engi...   \n",
       "2683  A/B testing,Angular,APIs,Computer Science,Engi...   \n",
       "3151  Agile,Architecture,Big Data,Data management,Da...   \n",
       "1329  AI strategy,Architecture,Classification,Comput...   \n",
       "1670           Agile,Data management,Finance,Security,,   \n",
       "3065           Agile,Data management,Finance,Security,,   \n",
       "1203  AWS,Azure,Data management,Data Warehousing,Eng...   \n",
       "1238  Agile,Architecture,Big Data,Business Intellige...   \n",
       "2506  Computer Science,Engineering,GitHub,Machine Le...   \n",
       "2408  Business Intelligence,Consulting,Data analysis...   \n",
       "1949  AWS,Azure,Computer Science,Data management,Dat...   \n",
       "2531  Azure,CI/CD,Computer Science,Computer Vision,C...   \n",
       "2020  Athena,Business Intelligence,Data Analytics,Da...   \n",
       "1088  Agile,Architecture,Business Intelligence,Data ...   \n",
       "2508  Architecture,Computer Science,Engineering,Java...   \n",
       "2342  Banking,Blockchain,Computer Science,Crypto,Dat...   \n",
       "1019  Banking,Blockchain,Business Intelligence,Compu...   \n",
       "1049     Engineering,Genetics,Privacy,Security,Testing,   \n",
       "\n",
       "                                             Facilities  \n",
       "1345  Career development,Fitness / gym,Flex hours,Fl...  \n",
       "698   Career development,Fitness / gym,Flex hours,Fl...  \n",
       "1936  Career development,Fitness / gym,Flex hours,Fl...  \n",
       "2683  Career development,Fitness / gym,Flex hours,Fl...  \n",
       "3151                            Startup environment,,,,  \n",
       "1329  Career development,Medical leave,Salary bonus,...  \n",
       "1670                                               ,,,,  \n",
       "3065                                               ,,,,  \n",
       "1203  Career development,Flex hours,Flex vacation,He...  \n",
       "1238                                               ,,,,  \n",
       "2506  401(k) matching,Career development,Competitive...  \n",
       "2408  Career development,Health care,Startup environ...  \n",
       "1949                 Health care,Startup environment,,,  \n",
       "2531                  Career development,Team events,,,  \n",
       "2020                                               ,,,,  \n",
       "1088                                    Health care,,,,  \n",
       "2508                  Career development,Team events,,,  \n",
       "2342  Career development,Equity,Health care,Insuranc...  \n",
       "1019  Career development,Equity,Health care,Home off...  \n",
       "1049  Competitive pay,Fertility benefits,Flex hours,...  "
      ]
     },
     "execution_count": 13,
     "metadata": {},
     "output_type": "execute_result"
    }
   ],
   "source": [
    "# print duplicate rows based on all columns\n",
    "df[df.duplicated()].sort_values(by=['Job Title']).head(20)"
   ]
  },
  {
   "cell_type": "code",
   "execution_count": 14,
   "id": "0dc30e61",
   "metadata": {},
   "outputs": [
    {
     "data": {
      "text/html": [
       "<div>\n",
       "<style scoped>\n",
       "    .dataframe tbody tr th:only-of-type {\n",
       "        vertical-align: middle;\n",
       "    }\n",
       "\n",
       "    .dataframe tbody tr th {\n",
       "        vertical-align: top;\n",
       "    }\n",
       "\n",
       "    .dataframe thead th {\n",
       "        text-align: right;\n",
       "    }\n",
       "</style>\n",
       "<table border=\"1\" class=\"dataframe\">\n",
       "  <thead>\n",
       "    <tr style=\"text-align: right;\">\n",
       "      <th></th>\n",
       "      <th>Company</th>\n",
       "      <th>Job Title</th>\n",
       "      <th>Location</th>\n",
       "      <th>Job Type</th>\n",
       "      <th>Experience level</th>\n",
       "      <th>Salary</th>\n",
       "      <th>Requirment of the company</th>\n",
       "      <th>Facilities</th>\n",
       "    </tr>\n",
       "  </thead>\n",
       "  <tbody>\n",
       "  </tbody>\n",
       "</table>\n",
       "</div>"
      ],
      "text/plain": [
       "Empty DataFrame\n",
       "Columns: [Company, Job Title, Location, Job Type, Experience level, Salary, Requirment of the company , Facilities]\n",
       "Index: []"
      ]
     },
     "execution_count": 14,
     "metadata": {},
     "output_type": "execute_result"
    }
   ],
   "source": [
    "# drop duplicates\n",
    "df.drop_duplicates(inplace=True)\n",
    "df[df.duplicated()].sort_values(by=['Job Title']).head()"
   ]
  },
  {
   "cell_type": "code",
   "execution_count": null,
   "id": "0ab4b86e",
   "metadata": {},
   "outputs": [],
   "source": []
  },
  {
   "cell_type": "code",
   "execution_count": null,
   "id": "b3d3b798",
   "metadata": {
    "scrolled": true
   },
   "outputs": [],
   "source": [
    "df[df.duplicated(subset=['Company'])].count()"
   ]
  },
  {
   "cell_type": "code",
   "execution_count": null,
   "id": "94847de5",
   "metadata": {},
   "outputs": [],
   "source": [
    "df.drop_duplicates()"
   ]
  },
  {
   "cell_type": "markdown",
   "id": "a04e3775",
   "metadata": {},
   "source": [
    "## Remove ',,,,' character only from cells that contain it in the \"Facilities\" column"
   ]
  },
  {
   "cell_type": "code",
   "execution_count": 15,
   "id": "4def07a9",
   "metadata": {},
   "outputs": [],
   "source": [
    "# Remove ',' character only from cells that contain it in the \"Salary\" column\n",
    "df['Facilities'] = df['Facilities'].apply(lambda x: x.replace(',,,,', 'Not-Specified') if isinstance(x, str) else x)"
   ]
  },
  {
   "cell_type": "code",
   "execution_count": 16,
   "id": "6507c4db",
   "metadata": {},
   "outputs": [],
   "source": [
    "# remove , if it is succeeded by a , in the Facilities column\n",
    "df['Facilities'] = df['Facilities'].str.replace(r',,,,', '')\n",
    "df['Facilities'] = df['Facilities'].str.replace(r',,,', '')\n",
    "df['Facilities'] = df['Facilities'].str.replace(r',,', '')"
   ]
  },
  {
   "cell_type": "code",
   "execution_count": 17,
   "id": "afd0c45f",
   "metadata": {
    "scrolled": true
   },
   "outputs": [
    {
     "data": {
      "text/html": [
       "<div>\n",
       "<style scoped>\n",
       "    .dataframe tbody tr th:only-of-type {\n",
       "        vertical-align: middle;\n",
       "    }\n",
       "\n",
       "    .dataframe tbody tr th {\n",
       "        vertical-align: top;\n",
       "    }\n",
       "\n",
       "    .dataframe thead th {\n",
       "        text-align: right;\n",
       "    }\n",
       "</style>\n",
       "<table border=\"1\" class=\"dataframe\">\n",
       "  <thead>\n",
       "    <tr style=\"text-align: right;\">\n",
       "      <th></th>\n",
       "      <th>Company</th>\n",
       "      <th>Job Title</th>\n",
       "      <th>Location</th>\n",
       "      <th>Job Type</th>\n",
       "      <th>Experience level</th>\n",
       "      <th>Salary</th>\n",
       "      <th>Requirment of the company</th>\n",
       "      <th>Facilities</th>\n",
       "    </tr>\n",
       "  </thead>\n",
       "  <tbody>\n",
       "    <tr>\n",
       "      <th>0</th>\n",
       "      <td>SGS</td>\n",
       "      <td>Clinical Data Analyst</td>\n",
       "      <td>Richardson, TX, United States</td>\n",
       "      <td>Full Time</td>\n",
       "      <td>Entry-level</td>\n",
       "      <td>48K+ *</td>\n",
       "      <td>Computer Science,Data quality,Genetics,Mathema...</td>\n",
       "      <td>Not-Specified</td>\n",
       "    </tr>\n",
       "    <tr>\n",
       "      <th>1</th>\n",
       "      <td>Ocorian</td>\n",
       "      <td>AML/CFT &amp; Data Analyst</td>\n",
       "      <td>Ebène, Mauritius</td>\n",
       "      <td>Full Time</td>\n",
       "      <td>Entry-level</td>\n",
       "      <td>48K+ *</td>\n",
       "      <td>Agile,Data management,Finance,Security,,</td>\n",
       "      <td>Not-Specified</td>\n",
       "    </tr>\n",
       "    <tr>\n",
       "      <th>2</th>\n",
       "      <td>Cricut</td>\n",
       "      <td>Machine Learning Engineer</td>\n",
       "      <td>South Jordan, UT, United States</td>\n",
       "      <td>Full Time</td>\n",
       "      <td>NaN</td>\n",
       "      <td>90K+ *</td>\n",
       "      <td>Agile,Architecture,AWS,Computer Science,Comput...</td>\n",
       "      <td>Career developmentNot-Specified</td>\n",
       "    </tr>\n",
       "    <tr>\n",
       "      <th>3</th>\n",
       "      <td>Bosch Group</td>\n",
       "      <td>Application Developer &amp; Data Analyst</td>\n",
       "      <td>Nonantola, Italy</td>\n",
       "      <td>Full Time</td>\n",
       "      <td>Entry-level</td>\n",
       "      <td>48K+ *</td>\n",
       "      <td>Engineering,Industrial,Oracle,Power BI,R,R&amp;D</td>\n",
       "      <td>Not-Specified</td>\n",
       "    </tr>\n",
       "    <tr>\n",
       "      <th>4</th>\n",
       "      <td>Publicis Groupe</td>\n",
       "      <td>Data Engineer Full time (Public Sector) USA</td>\n",
       "      <td>Arlington, VA, United States</td>\n",
       "      <td>Full Time</td>\n",
       "      <td>Mid-level</td>\n",
       "      <td>108K+</td>\n",
       "      <td>AWS,Azure,Computer Science,Consulting,Dataflow...</td>\n",
       "      <td>Flex hours,Flex vacation,Parental leave,Unlimi...</td>\n",
       "    </tr>\n",
       "    <tr>\n",
       "      <th>...</th>\n",
       "      <td>...</td>\n",
       "      <td>...</td>\n",
       "      <td>...</td>\n",
       "      <td>...</td>\n",
       "      <td>...</td>\n",
       "      <td>...</td>\n",
       "      <td>...</td>\n",
       "      <td>...</td>\n",
       "    </tr>\n",
       "    <tr>\n",
       "      <th>3190</th>\n",
       "      <td>CCRi</td>\n",
       "      <td>Application Integration Engineer, Computer Vis...</td>\n",
       "      <td>Chantilly, Virginia, United States</td>\n",
       "      <td>Full Time</td>\n",
       "      <td>Mid-level</td>\n",
       "      <td>113K+</td>\n",
       "      <td>Agile,Angular,APIs,Architecture,AWS,Azure</td>\n",
       "      <td>401(k) matching,Career development,Flex hours,...</td>\n",
       "    </tr>\n",
       "    <tr>\n",
       "      <th>3191</th>\n",
       "      <td>Publicis Groupe</td>\n",
       "      <td>Associate Director, Data Science</td>\n",
       "      <td>New York City, United States</td>\n",
       "      <td>Full Time</td>\n",
       "      <td>Mid-level</td>\n",
       "      <td>106K+</td>\n",
       "      <td>Bayesian,Classification,Clustering,Data analys...</td>\n",
       "      <td>Career development,Health care,</td>\n",
       "    </tr>\n",
       "    <tr>\n",
       "      <th>3192</th>\n",
       "      <td>DoorDash</td>\n",
       "      <td>Senior Software Engineer, Machine Learning - A...</td>\n",
       "      <td>Sunnyvale, CA; San Francisco, CA; New York</td>\n",
       "      <td>Full Time</td>\n",
       "      <td>Senior-level</td>\n",
       "      <td>176K+</td>\n",
       "      <td>Computer Science,Data analysis,Engineering,Exc...</td>\n",
       "      <td>401(k) matching,Career development,Equity,Insu...</td>\n",
       "    </tr>\n",
       "    <tr>\n",
       "      <th>3193</th>\n",
       "      <td>Western Digital</td>\n",
       "      <td>Data Scientist - New College Graduate</td>\n",
       "      <td>Biñan, Philippines</td>\n",
       "      <td>Full Time</td>\n",
       "      <td>Entry-level</td>\n",
       "      <td>39K+ *</td>\n",
       "      <td>APIs,Clustering,Computer Science,Data visualiz...</td>\n",
       "      <td>Career developmentNot-Specified</td>\n",
       "    </tr>\n",
       "    <tr>\n",
       "      <th>3196</th>\n",
       "      <td>ATB Financial</td>\n",
       "      <td>Data Scientist</td>\n",
       "      <td>Edmonton, Alberta, Canada</td>\n",
       "      <td>Full Time</td>\n",
       "      <td>Entry-level</td>\n",
       "      <td>39K+ *</td>\n",
       "      <td>Computer Science,Data Analytics,Data Mining,Ec...</td>\n",
       "      <td>Career development,Startup environment,</td>\n",
       "    </tr>\n",
       "  </tbody>\n",
       "</table>\n",
       "<p>2995 rows × 8 columns</p>\n",
       "</div>"
      ],
      "text/plain": [
       "              Company                                          Job Title   \n",
       "0                 SGS                              Clinical Data Analyst  \\\n",
       "1             Ocorian                             AML/CFT & Data Analyst   \n",
       "2              Cricut                          Machine Learning Engineer   \n",
       "3         Bosch Group               Application Developer & Data Analyst   \n",
       "4     Publicis Groupe        Data Engineer Full time (Public Sector) USA   \n",
       "...               ...                                                ...   \n",
       "3190             CCRi  Application Integration Engineer, Computer Vis...   \n",
       "3191  Publicis Groupe                   Associate Director, Data Science   \n",
       "3192         DoorDash  Senior Software Engineer, Machine Learning - A...   \n",
       "3193  Western Digital              Data Scientist - New College Graduate   \n",
       "3196    ATB Financial                                     Data Scientist   \n",
       "\n",
       "                                          Location   Job Type   \n",
       "0                    Richardson, TX, United States  Full Time  \\\n",
       "1                                 Ebène, Mauritius  Full Time   \n",
       "2                  South Jordan, UT, United States  Full Time   \n",
       "3                                 Nonantola, Italy  Full Time   \n",
       "4                     Arlington, VA, United States  Full Time   \n",
       "...                                            ...        ...   \n",
       "3190            Chantilly, Virginia, United States  Full Time   \n",
       "3191                  New York City, United States  Full Time   \n",
       "3192  Sunnyvale, CA; San Francisco, CA; New York \n",
       "  Full Time   \n",
       "3193                            Biñan, Philippines  Full Time   \n",
       "3196                     Edmonton, Alberta, Canada  Full Time   \n",
       "\n",
       "     Experience level   Salary   \n",
       "0         Entry-level   48K+ *  \\\n",
       "1         Entry-level   48K+ *   \n",
       "2                 NaN   90K+ *   \n",
       "3         Entry-level   48K+ *   \n",
       "4           Mid-level    108K+   \n",
       "...               ...      ...   \n",
       "3190        Mid-level    113K+   \n",
       "3191        Mid-level    106K+   \n",
       "3192     Senior-level    176K+   \n",
       "3193      Entry-level   39K+ *   \n",
       "3196      Entry-level   39K+ *   \n",
       "\n",
       "                             Requirment of the company    \n",
       "0     Computer Science,Data quality,Genetics,Mathema...  \\\n",
       "1              Agile,Data management,Finance,Security,,   \n",
       "2     Agile,Architecture,AWS,Computer Science,Comput...   \n",
       "3          Engineering,Industrial,Oracle,Power BI,R,R&D   \n",
       "4     AWS,Azure,Computer Science,Consulting,Dataflow...   \n",
       "...                                                 ...   \n",
       "3190          Agile,Angular,APIs,Architecture,AWS,Azure   \n",
       "3191  Bayesian,Classification,Clustering,Data analys...   \n",
       "3192  Computer Science,Data analysis,Engineering,Exc...   \n",
       "3193  APIs,Clustering,Computer Science,Data visualiz...   \n",
       "3196  Computer Science,Data Analytics,Data Mining,Ec...   \n",
       "\n",
       "                                             Facilities  \n",
       "0                                         Not-Specified  \n",
       "1                                         Not-Specified  \n",
       "2                       Career developmentNot-Specified  \n",
       "3                                         Not-Specified  \n",
       "4     Flex hours,Flex vacation,Parental leave,Unlimi...  \n",
       "...                                                 ...  \n",
       "3190  401(k) matching,Career development,Flex hours,...  \n",
       "3191                    Career development,Health care,  \n",
       "3192  401(k) matching,Career development,Equity,Insu...  \n",
       "3193                    Career developmentNot-Specified  \n",
       "3196            Career development,Startup environment,  \n",
       "\n",
       "[2995 rows x 8 columns]"
      ]
     },
     "execution_count": 17,
     "metadata": {},
     "output_type": "execute_result"
    }
   ],
   "source": [
    "df"
   ]
  },
  {
   "cell_type": "code",
   "execution_count": 22,
   "id": "77bace77",
   "metadata": {},
   "outputs": [
    {
     "ename": "SyntaxError",
     "evalue": "invalid syntax (1157075459.py, line 1)",
     "output_type": "error",
     "traceback": [
      "\u001b[1;36m  Cell \u001b[1;32mIn[22], line 1\u001b[1;36m\u001b[0m\n\u001b[1;33m    Data Analyst\u001b[0m\n\u001b[1;37m         ^\u001b[0m\n\u001b[1;31mSyntaxError\u001b[0m\u001b[1;31m:\u001b[0m invalid syntax\n"
     ]
    }
   ],
   "source": [
    "Data Analyst\n",
    "Data Scientist\n",
    "Power BI Developer\n",
    "BI Analyst\n",
    "Data Engineer\n",
    "Data Project Management\n",
    "AWS Cloud Logistics\n",
    "Product Analytics\n",
    "Data Manager\n",
    "Business Intelligence\n",
    "Data Architect\n",
    "Data Developer\n",
    "\n"
   ]
  },
  {
   "cell_type": "code",
   "execution_count": 21,
   "id": "b657060d",
   "metadata": {},
   "outputs": [
    {
     "data": {
      "text/plain": [
       "['Clinical Data Analyst',\n",
       " 'AML/CFT & Data Analyst',\n",
       " 'Machine Learning Engineer',\n",
       " 'Application Developer & Data Analyst',\n",
       " 'Data Engineer Full time (Public Sector) USA',\n",
       " 'Sr Staff Data Scientist - ATG',\n",
       " 'Vendor Management and Data Quality Lead',\n",
       " 'Intern (Business Intelligence Service Support)',\n",
       " 'Summer 2023 Data Engineering Intern',\n",
       " 'Principal Cloud Data Engineer (Prisma Access)',\n",
       " 'Data Scientist (TE-CRG-GLO-2023-19-GRAP)',\n",
       " 'Data Analyst - Revenue Optimizer',\n",
       " 'Graduate Power BI Developer',\n",
       " 'SAP Consultant - Product Data Management',\n",
       " 'PreMaster Programm - Data Analytics and Visualization',\n",
       " 'Staff Data Scientist - ATG',\n",
       " 'Senior Data Analyst - Sales',\n",
       " 'BI Analyst',\n",
       " 'Data Scientist | Insights (f/m/d) - GER, UK, NL, PL',\n",
       " 'Senior Data Analyst (Remote within EMEA)',\n",
       " 'Senior Data Engineer (Evergreen)',\n",
       " 'Data Management Scrum Master',\n",
       " 'Rotational Development Program - Artificial Intelligence and Machine Learning Trainee',\n",
       " 'Data Engineer Scientist',\n",
       " 'Data Scientist (Elasticsearch)',\n",
       " 'Data Engineer F/H',\n",
       " 'BI Developer',\n",
       " 'Data Scientist - Fraud Risk',\n",
       " 'QuintoAndar - Senior Data Analyst',\n",
       " 'ML Research Engineer',\n",
       " 'Principal Engineer, Data Project Management',\n",
       " 'Senior Data Engineer',\n",
       " '(Senior) Digital Analytics Engineer',\n",
       " 'Senior Software Engineer (Data Pipeline)',\n",
       " 'Senior Data Scientist',\n",
       " 'Data Science Lead (Hybrid)',\n",
       " 'Business Intelligence Analyst',\n",
       " 'Lead Business Intelligence Analyst',\n",
       " 'Sr Data Engineer',\n",
       " 'Data Modeler',\n",
       " 'Data Engineer',\n",
       " 'VP, Actuarial Modeling and Data Management',\n",
       " 'Junior Data Science Engineer (m/w/x)',\n",
       " 'Healthcare Data Analyst',\n",
       " 'Data Scientist',\n",
       " 'Data Analyst | Marketing or Sales (f/m/d) - GER, UK, NL, PL',\n",
       " 'Business Intelligence Expert',\n",
       " 'Senior Data Analyst',\n",
       " 'Principle MLOps Engineer',\n",
       " 'Machine Learning Research Engineer, Generative AI',\n",
       " 'Data Analyst - Product Innovation',\n",
       " 'Lead Data Scientist',\n",
       " 'Data Product Owner',\n",
       " 'Bi Analyst Jr - 24170',\n",
       " 'HTML Developer',\n",
       " 'Business Intelligence Developer',\n",
       " 'Data Scientist, Marketing Analytics',\n",
       " 'Senior Manager - AML/CFT & Data Analyst',\n",
       " 'Senior Data Visualization Analyst',\n",
       " 'Senior Data Engineer (Remote)',\n",
       " 'Customer Data Engineer',\n",
       " 'Data Engineer- Data Platform',\n",
       " 'Digital Marketing Lead (ZibraAI)',\n",
       " 'Staff Data Scientist - Marketing',\n",
       " 'Senior Sales Business Intelligence Manager',\n",
       " 'Data Analyst, Customer Experience',\n",
       " 'ETAS Test Lead - Autonomous Driving Solutions',\n",
       " 'Sr. Data Engineer',\n",
       " 'Specialist Solutions Architect - MLOps',\n",
       " 'Data Scientist, Terminal',\n",
       " 'Data Analyst Intern',\n",
       " 'React Native Engineer - Mobile (Dubai)',\n",
       " 'Artificial Intelligence Lead | KPMG Futures',\n",
       " 'Jr. CRM Data Quality Specialist',\n",
       " 'Data Management Consultant Banking (f/d/m) Financial Services Data Platform FSDM',\n",
       " 'Director, Artificial Intelligence (AI)',\n",
       " 'Intermediate BI Developer',\n",
       " 'Senior Business Intelligence Analyst',\n",
       " 'Data Analyst',\n",
       " 'Staff Machine Learning Engineer',\n",
       " 'Data Analyst (Remote)',\n",
       " 'Lead Applied Data Scientist (Experience with Media Mix Modeling)',\n",
       " 'Data Engineer I',\n",
       " 'Cloud Database Analyst',\n",
       " 'Senior Machine Learning Engineer',\n",
       " 'Junior Data Analyst',\n",
       " 'Financial Data Analyst',\n",
       " 'Senior Consultant in Data science',\n",
       " 'Staff Clinical Data Manager # 3073',\n",
       " 'HR Data Analyst',\n",
       " 'Consultant in Data Science',\n",
       " 'Staff Engineer, Data Platform',\n",
       " 'Senior Data Scientist, Marketing Analytics',\n",
       " 'Director, IVA and AI Solutions - Professional Services Practice Lead',\n",
       " 'Lead Data Analyst(Marketing/Growth Analytics)',\n",
       " 'Data Analyst, Service Analytics',\n",
       " 'Amazon Robotics - Hardware Engineer Co-op (July-December 2023), Amazon Robotics',\n",
       " 'Senior/Staff Data Engineer',\n",
       " 'Data Product Manager',\n",
       " 'FSA (FinTech) - Quantitative Machine Learning Specialist & Software Developer',\n",
       " 'Data Engineer Analyst',\n",
       " 'Software Engineer (Data Pipeline)',\n",
       " 'Associate Data Scientist',\n",
       " 'Data Engineering Analyst',\n",
       " 'Talan Consulting \\x96 Consultant Senior/Manager \\x96 Data Strategy (H/F)',\n",
       " 'Enterprise Data Architect - 6 month Contract',\n",
       " 'Data Engineer II',\n",
       " 'Data Scientist/Machine Learning Engineer',\n",
       " 'Senior Data Scientist, Product',\n",
       " 'Senior Technical Support Engineer, DataSet',\n",
       " 'Finance Business Intelligence , Operations Finance',\n",
       " 'Staff Machine Learning Modeler, Financial Crimes',\n",
       " 'Data Engineer - Music',\n",
       " 'Data Manager',\n",
       " 'Salesforce Administrator/Data Specialist',\n",
       " 'Data Engineer (Starlink)',\n",
       " 'Data Engineer confirmé BI - BIG DATA',\n",
       " 'Director, Spark Technical Solutions',\n",
       " 'Middle Data Engineer (Healthcare domain)',\n",
       " 'Senior Data Analyst (Pricing)',\n",
       " 'People Analytics Data Visualization Senior Associate (Open to Remote)',\n",
       " 'Développeur Power BI - H/F',\n",
       " 'Product Manager - Experts & Artificial Intelligence',\n",
       " 'Group Manager Data Analytics India',\n",
       " 'Vice President Director, Data Scientist',\n",
       " 'Business Intelligence Analyst, AWS Cloud Logistics',\n",
       " 'Scientist/Senior Scientist, Machine Learning',\n",
       " 'Principal Site Reliability Engineer, Datastores (Hybrid)',\n",
       " 'Machine Learning Manager (Systems)',\n",
       " 'Consultant Data Engineer',\n",
       " 'Machine Learning Engineer L3',\n",
       " 'Data Analyst Coches.net',\n",
       " 'Senior Product Marketing Manager, Conversational Intelligence & AI Products',\n",
       " 'Graduate Data Analyst',\n",
       " 'Analytics Engineer',\n",
       " 'Specialist Solutions Architect - Data Engineering (Public Sector)',\n",
       " 'Senior Data Quality Assurance Specialist',\n",
       " 'Senior Site Reliability Engineer, Datastores (Hybrid)',\n",
       " 'Customer Success Junior ML Engineer, Onboarding Specialist',\n",
       " 'Senior Data Science Engineer',\n",
       " 'Digital Analytics Engineer',\n",
       " 'Senior Big Data Engineer',\n",
       " 'Senior Data Scientist, Marketing',\n",
       " 'Analytics Engineer Intern',\n",
       " 'Master Data Team Manager',\n",
       " 'Senior Data Engineer, Enterprise Engineering',\n",
       " 'Data Operations Associate',\n",
       " 'Staff ML Engineer (8627)',\n",
       " 'Specialist Architect : Big Data',\n",
       " 'Research Engineer in Multi Agent Path Finding for Mobile Robots (f/m/div.)',\n",
       " 'Product Marketing Manager, Data Engineering',\n",
       " 'CV/ML Engineer for 3D Virtual Humans - Remote Europe',\n",
       " 'Senior Data Engineer - Data Bricks',\n",
       " 'Director AI Science',\n",
       " 'Researcher- Business Intelligence',\n",
       " 'Machine Learning Research Scientist',\n",
       " 'Staff Database Reliability Engineer, Datastores',\n",
       " 'Senior Data Scientist - Viator, London, Oxford, UK Remote',\n",
       " 'Data Analyst (Bangkok Based, Relocation Provided)',\n",
       " 'Associate AI/ML Engineer',\n",
       " 'Azure Data Architect',\n",
       " 'Senior Applied Data Scientist',\n",
       " 'Senior Scientist, Decision Sciences',\n",
       " 'Data Operations & Insights Manager',\n",
       " 'Principal ML Engineer - AI Platform',\n",
       " 'Principal Product Marketing Manager, AI & Machine Learning',\n",
       " 'Technical Support Specialist (Robotics) - EU - Remote',\n",
       " 'Data Architect',\n",
       " 'Operations Data Analyst (Tableau)',\n",
       " 'Head of Applied AI/ML',\n",
       " 'Data Analytics Engineer',\n",
       " 'Software Engineer - Autonomy Metrics',\n",
       " 'Product Manager- Data Visualization & Analytics',\n",
       " 'Data Science in Product Design Engineering',\n",
       " 'Senior Director of Product - Machine Learning',\n",
       " 'Senior Data Analyst (Bangkok Based, Relocation Provided)',\n",
       " 'Operations Planner Data Management Technician',\n",
       " 'Senior Associate Data Engineering',\n",
       " 'Data Operations Client Onboarding',\n",
       " 'Machine Learning Research Scientist - Reinforcement Learning',\n",
       " 'Machine Learning Engineer, Generative AI',\n",
       " 'Data Management Internship',\n",
       " 'Sr Big Data Engineer',\n",
       " 'Consulting - Robotics Process Automation (RPA) Developer',\n",
       " 'Data Engineer with Databricks - Empower (remote/Costa Rica-based)',\n",
       " 'Databricks and Scala Engineer geospatial',\n",
       " 'Software Engineer, Data Platform',\n",
       " 'Senior Manager Data Engineering',\n",
       " 'Senior Data Engineer (P3949).',\n",
       " 'Junior Data Engineer Customer Analytics',\n",
       " 'Chief Engineer, Autonomy (R2020)',\n",
       " 'Senior Research Data Analyst',\n",
       " 'Sport data operator',\n",
       " 'Associate Director | Artificial Intelligence Lead | KPMG Futures',\n",
       " 'Research Scientist',\n",
       " 'Data Engineering Manager',\n",
       " 'Principal Engineer - Data Integrations',\n",
       " 'Python Engineer - Machine Learning Specialist (Remote)',\n",
       " 'Senior Applied Scientist - Document Intelligence',\n",
       " 'Data Analyst, Go Live',\n",
       " 'Senior Data Scientist (M/F)',\n",
       " 'Researcher/Senior Researcher \\x96 Natural Language Processing and Text Analytics',\n",
       " 'Data Analyst (Customer Service Industry, Mandarin Support)',\n",
       " 'Manager Data Strategy',\n",
       " 'Business Partner, Data Analysis',\n",
       " 'Data Engineer - Remote',\n",
       " 'Marketing Data Analyst',\n",
       " 'Post-Doctoral Fellow or Associate - Agronomy Data Scientist',\n",
       " 'Sr. Data Scientist',\n",
       " 'Researcher- Computer Vision',\n",
       " 'Data Science Lead',\n",
       " 'Senior Data Scientist, Product Analytics',\n",
       " 'Software Engineer - Machine Learning, Granica Screen',\n",
       " 'Data Engineer - Türkiye',\n",
       " 'SDE-III, Data Engineering',\n",
       " 'Oracle Data Modeler / PL/SQL - Data warehouse',\n",
       " 'Product Data Specialist (HW)',\n",
       " 'SparkCognition Director of Accounting - Controller',\n",
       " 'Senior Machine Learning Scientist (USA REMOTE)',\n",
       " 'Senior Data Scientist (P171).',\n",
       " 'Cloud Data Analyst Engineer (FinOps)',\n",
       " 'DataOps Engineer',\n",
       " 'Robotic Research Engineer - Mechatronics',\n",
       " 'Manager - Applied Data Scientist',\n",
       " '??·????/Business Intelligence Engineer, Japan Operations Finance',\n",
       " 'Senior Data Engineer - (Christchurch)',\n",
       " 'Senior Software Engineer - Data Architecture skills',\n",
       " 'BI Developer, Analytics',\n",
       " 'Supervisão de Business Intelligence (foco em mídia/comunicação)',\n",
       " 'Senior Manager, Perception Deep Learning',\n",
       " 'SME Consultant for Data Analytics',\n",
       " 'Senior Data Strategist',\n",
       " 'Data Analyst (Oslo-based)',\n",
       " 'Senior AI Engineer',\n",
       " 'SQL Data Engineers',\n",
       " 'Subsurface Data Manager',\n",
       " 'Senior Data Analyst with Python SQL - MS- Bangalore',\n",
       " 'Data Analyst Supply Chain Management (f/m/d)',\n",
       " 'Senior Data Quality Developer',\n",
       " 'Remote Intermediate Fullstack Engineer (AI Team)',\n",
       " 'iOS Engineer (Dubai)',\n",
       " 'Business Intelligence Data Strategist',\n",
       " 'Data Engineer Customer Analytics',\n",
       " 'Sr. BI Analyst',\n",
       " 'Data Scientist Generalist',\n",
       " 'Business Intelligence Analyst - Sales Operations',\n",
       " 'Senior Developer - Data Engineer (AWS/Python/Node)',\n",
       " 'Senior Data Scientist: NLP',\n",
       " 'Data Analyst (Allegro Pay)',\n",
       " 'Data Analyst (DEA)',\n",
       " 'AI Research Engineer',\n",
       " 'AI Research Scientist',\n",
       " 'Manager, Business Operations - Diagnostic Imaging and Laboratory',\n",
       " 'Data Science Consultant',\n",
       " 'Customer Master Data Analyst',\n",
       " 'Senior Data Quality Engineer',\n",
       " 'Senior Data Analyst - Hybrid',\n",
       " 'Computer Vision Researcher',\n",
       " 'Research Scientist - Machine Learning and Algorithms',\n",
       " 'Senior Applied Scientist',\n",
       " 'Tableau/BI Developer',\n",
       " 'Data Scientist (Real-time Ops)',\n",
       " 'Data Science/ Analytics Intern- Long Term',\n",
       " 'Master Data Management Plants (f/m/div.)',\n",
       " 'Coordinator of Data Operations',\n",
       " 'Data Science Team Lead',\n",
       " 'AI Programmer VR (UE)',\n",
       " 'Data Engineer (Python) - Payments',\n",
       " 'Master Data Management Plants (f/m/div.) (salary: ~81.000 EUR p.a.*)',\n",
       " 'Data Analyst Pleno',\n",
       " 'Research Engineer PEM Electrolyzer (f/m/div.)',\n",
       " 'Consulting - Data Engineer',\n",
       " 'Data Analyst Intern - Product Analytics',\n",
       " 'System Reliability Engineer (Big Data)',\n",
       " 'Enterprise Data Architect',\n",
       " 'TTGP Fleet Data Manager/Senior JICO',\n",
       " 'Senior Software Engineer - Data analytics',\n",
       " 'Staff Technical Product Manager, AI Platform and Solutions',\n",
       " 'Big Data Engineer - PySpark',\n",
       " 'Consultant / Sr Consultant - QA Data Engineer',\n",
       " 'Computational Biologist, Translational Science - Location Flexible',\n",
       " 'Lead Software Engineer, ML Infrastructure',\n",
       " 'Senior Insurance Data Scientist',\n",
       " 'Principal Engineer, Data Systems',\n",
       " 'Clinical Data Manager',\n",
       " 'Data Analyst I - Fraud',\n",
       " 'Senior Data Scientist, Operations',\n",
       " 'Software Engineer - Data Platform (Python, Cloud, Big Data)',\n",
       " 'Senior Cloud Data Analyst Engineer (FinOps)',\n",
       " 'Data Engineer - Bulgaria',\n",
       " 'Power BI Developer',\n",
       " 'Consultant, Data Analytics',\n",
       " 'Junior MLOps - Intern',\n",
       " 'Business Intelligence Internship (Summer 23/24)',\n",
       " 'Business Analyst (Tech/AI)',\n",
       " 'Senior Applied Scientist, Amazon',\n",
       " 'Specialist Solutions Architect - Data Engineering (Financial Services)',\n",
       " 'Data Scientist eBike Systems (f/m/div.)',\n",
       " 'Graduate Data Scientist',\n",
       " 'Robotics Engineer, Sensors',\n",
       " 'Contract: Data Infrastructure Engineer',\n",
       " 'AI/ML Modeling, Simulation and Analysis Engineer (Senior)',\n",
       " 'Cloud Data Engineer',\n",
       " 'Head of Data Science, Analytics and BI',\n",
       " 'Clinical Data Reporter',\n",
       " 'Staff+ Machine Learning Engineer - Generative AI',\n",
       " 'Especialista em Auditoria Interna - Data Analytics',\n",
       " 'Engineering Team Lead, Imaging Tech',\n",
       " 'Senior ML Engineer - NLP',\n",
       " 'Data Analyst (Aberdeen-based)',\n",
       " 'Principal Engineer, Data and Control Systems',\n",
       " 'Data Scientist (Pricing)',\n",
       " 'Head of AML Operations (m/f/d)',\n",
       " 'Data Engineer - 14072',\n",
       " 'Data Analyst (Reporting and Insights)',\n",
       " 'Sr. Manager (AI/ML)',\n",
       " 'Data Scientist, Decisions - Rider',\n",
       " 'Data Architect - SME',\n",
       " 'Senior SW Engineer (Machine Learning)',\n",
       " '(Global) Senior Research Scientist',\n",
       " 'Staff Data Scientist, Model Risk Management',\n",
       " 'Graduate Imaging Geophysicist',\n",
       " 'Architecte Plateforme Big Data / DevOps - F/H',\n",
       " 'Data Analyst - Retention',\n",
       " 'Lead Machine Learning Engineer',\n",
       " 'Data Developer',\n",
       " 'Data Analyst - Digital Marketing (all genders)',\n",
       " 'Android Engineer (Dubai)',\n",
       " 'Data Specialist - Governance',\n",
       " 'Senior Robotics Process Automation Developer',\n",
       " 'Technical Product Manager, Data Engineering',\n",
       " 'Sr. Data Developer (Remote), Experian Consumer Services',\n",
       " 'Senior Data Analyst with Python SQL - Bangalore',\n",
       " 'Manager, Measurement Innovation & Data Science',\n",
       " 'Cloud Data Architect',\n",
       " 'Business Intelligence Engineering Manager',\n",
       " 'DevOps Engineer (Dubai)',\n",
       " 'Data Analytics Internship (Summer 23/24)',\n",
       " 'Confirmed Data Analyst - Data Pro Supply',\n",
       " 'Senior Machine Learning Engineer (Modeling)',\n",
       " 'Stage: Robotics',\n",
       " 'Data Scientist / Data Analyst',\n",
       " 'Product Data Analyst sénior (h/f) en CDI à Paris',\n",
       " 'Data Analyst - Stage',\n",
       " 'Senior Analytics Engineer',\n",
       " 'Sr. Software Engineer, Data Engineering',\n",
       " 'Senior Machine Learning Engineer I',\n",
       " 'Data Engineer Sr.Software Engineer DX',\n",
       " 'Senior Staff Data Engineer',\n",
       " 'Natural Language Processing Intern',\n",
       " 'Senior Data Engineers',\n",
       " 'Coordinateur projets Genotypage data analyse (H/F)',\n",
       " 'Machine Learning & Software Engineer, Infrastructure - US Remote',\n",
       " 'Customer-Facing Deep Learning Solutions Architect',\n",
       " 'Data Engineering Manager - Allegro Pay',\n",
       " 'Senior Business Intelligence Developer (Database Architect & ETL Developer)',\n",
       " 'Technical Mentor (Independent Contractor) - Data Engineering Nanodegree (US Timezone)',\n",
       " 'Data Analyst, Business Optimisation',\n",
       " 'Machine Learning Force Fields Scientist (Materials Science)',\n",
       " 'Principal Machine Learning Engineer - ATG',\n",
       " 'Senior Associate Data Sciences',\n",
       " 'Senior Data Engineer (all genders) AI',\n",
       " 'Intermediate / Senior Fullstack Engineer (AI Team)',\n",
       " 'Data Quality Analyst - Stage',\n",
       " 'Senior Software Engineer - AI/ML team (.net + python)',\n",
       " 'Software Engineer, Data Platform, Data Management',\n",
       " 'Senior Machine Learning Engineer (Modeling), Financial Crimes Technology',\n",
       " 'Research Analyst',\n",
       " 'Backend / Data Engineers II, Cerebro',\n",
       " 'Junior Data Manager',\n",
       " 'Data Infrastructure Engineer',\n",
       " 'Backend Engineer (Dubai)',\n",
       " 'Senior Software Engineer I, Machine Learning, Retrieval Sciences',\n",
       " 'Sr. Staff Machine Learning Engineer',\n",
       " 'Staff Systems Engineer, Autonomy & Simulation',\n",
       " '[??-??&???] Senior, Data Analyst (Channel Analytics)',\n",
       " 'Senior Machine Learning Expert (on-site, Brussels / Belgium)',\n",
       " \"Spécialiste, intelligence d'affaires / Specialist, Business Intelligence\",\n",
       " 'Senior Product Manager | API & Data Products',\n",
       " 'Senior Analyst, Data Science and Analytics',\n",
       " 'Senior Product Manager - Data Management & Search',\n",
       " 'Accounting Professor- Data Analytics/AIS- 90K+ Salary',\n",
       " 'Senior Data Engineer - Healthgrades',\n",
       " 'Sr Applied Data Scientist',\n",
       " 'Business Intelligence Engineer',\n",
       " 'Assistant Mgr - Data Sciences',\n",
       " \"Data Analyst - Stage de fin d'études - Paris 2e\",\n",
       " 'Trading BI Developer',\n",
       " 'Data Analytics Intern - Le Cubs 2023',\n",
       " 'Product Data Analyst -  F/H',\n",
       " 'Data Scientist (Crypto)',\n",
       " '[Job- 10639] Senior Data Engineer Developer, Brazil',\n",
       " 'Business Intelligence Associate',\n",
       " 'Analyst, Reporting and Business Intelligence',\n",
       " 'Data Science Software Engineer',\n",
       " 'Product Owner with Tableau/Power BI(6 to 10 years)',\n",
       " 'Machine Learning & Software Engineer, Infrastructure - EMEA Remote',\n",
       " 'Sr AI Solution Developer (ServiceNow Developer)',\n",
       " 'Data Integrations Engineer',\n",
       " 'Lead Software Engineer - AI/ML team (.net + python)',\n",
       " 'Transportation Data Analyst Coordinator',\n",
       " 'Senior Applied Data Scientist (all genders) AI',\n",
       " 'Power BI Analyst',\n",
       " 'Senior Cloud DevOps Engineer (Data & AI) bei eBike Systems (w/m/div.)',\n",
       " 'Business Intelligence Analyst I',\n",
       " 'Power BI Data Visualization Analyst',\n",
       " 'Data Analyst (CEO Office)',\n",
       " 'Senior Data Science Analyst- Model Validation',\n",
       " 'Sr. Revenue Operations Specialist - Data Analytics',\n",
       " 'PhD Position - Neuro-Symbolic AI for Scene Understanding in Autonomous Driving',\n",
       " 'Staff Data Analyst, Product Analytics',\n",
       " 'Senior Product Manager, Large Language Model',\n",
       " 'QuintoAndar - Analytics Engineer',\n",
       " 'VP, Data Products',\n",
       " 'Data Science Director, Adoption & Enterprise',\n",
       " 'Data Platform Developer, Machine Learning',\n",
       " 'Senior Vision Engineer (English version)',\n",
       " 'Lead Data Scientist (P3436)',\n",
       " '(Canada) Business Intelligence Engineer',\n",
       " 'Lead ML Platform Engineer',\n",
       " 'Staff Data Engineer',\n",
       " 'Transportation Data Analyst (Tableau)',\n",
       " 'Robotics Software Developer Intern Fall 2023',\n",
       " 'Senior Data Architect',\n",
       " 'Software Engineer, Computer Vision Program',\n",
       " 'Data Engineer - Tempcover',\n",
       " 'ML PhD Intern - LLMs & Generative AI',\n",
       " 'Alternance - « Data Analyst » ou « Equipe Business Intelligence » (H/F)',\n",
       " 'Software Engineer - Structured Data Strategies',\n",
       " 'Data Science Intern',\n",
       " 'Institution Data Analyst',\n",
       " 'Senior Solutions Engineer - Big Data',\n",
       " 'Principal Machine Learning (ML) Engineer',\n",
       " 'Product Data Engineer',\n",
       " \"Data Engineer - Stage de fin d'études - Paris 2e\",\n",
       " 'Senior Data Engineer/Scientist',\n",
       " 'Principal Data Scientist, Machine Learning',\n",
       " 'Sr Director - Project Implementation - Medical Imaging / PACS',\n",
       " 'Big Data BI Engineer',\n",
       " 'Principal Data Scientist (Spain, full-remote)',\n",
       " 'AI Programmer',\n",
       " 'Business Intelligence Data Analyst',\n",
       " 'Machine Learning for Natural Language Processing Intern',\n",
       " 'Data Scientist engineer',\n",
       " 'ML Postdoc Researcher - LLMs & Generative AI',\n",
       " 'Principal Engineer, Data Management Engineering',\n",
       " 'Lead Data Scientist - Pricing',\n",
       " 'Data Scientist, Product Analytics',\n",
       " 'Senior Infrastructure Software Engineer, ML Platform',\n",
       " 'Alumio Solution Engineer (Data Integration)',\n",
       " 'Senior AI Research Scientist \\x96 Perception and Machine Learning',\n",
       " 'Field Sample Specialist (Air Samples) - Eurofins Environment Testing \\x96 Pueblo, CO',\n",
       " 'Senior Research Scientist \\x96 AI-based Planning for Autonomous Systems',\n",
       " 'Internship: Business Intelligence and Finance Excellence',\n",
       " 'Senior Data Engineer, PHP',\n",
       " 'Head of Data Science & Predictive Modeling',\n",
       " 'Business and Commercial Banking (BCB) Business Intelligence and Analytics Graduate Programme - Gauteng',\n",
       " 'Data Scientist - Data Analytics and Infrastructure',\n",
       " '(Senior) Machine Learning Engineer - MLOps',\n",
       " 'Team Lead Data Science (f/m/x)',\n",
       " 'Senior Data Scientist - Monetization',\n",
       " 'Lead Machine Learning Research Engineer, Generative AI',\n",
       " 'Course Associate, Data Analysis and Visualization in Sustainability (Fall 2023)',\n",
       " 'Robotics Engineer',\n",
       " 'Ingénieur Data Modeler et/ou Tech Data - F/H',\n",
       " 'Biomedical Data Scientist',\n",
       " 'Product Analyst - Remote (Mumbai)',\n",
       " 'Databricks Administrator',\n",
       " 'Analyst, Data Engineering',\n",
       " 'Lead Data Engineer- Bangalore',\n",
       " 'Marketing Data Scientist',\n",
       " 'Insight Analyst',\n",
       " 'Data Analyst Junior F/H',\n",
       " 'Senior Applied Scientist I',\n",
       " 'Data Manager Consultant',\n",
       " 'Foundation Models Lead',\n",
       " 'Consultant Big Data & Machine Learning',\n",
       " 'Senior Machine Learning Scientist (8304)',\n",
       " 'Senior Product Manager (AI team)',\n",
       " 'Principal Applied Scientist',\n",
       " 'Director of Data Science',\n",
       " 'Data Analyst Consultant',\n",
       " 'Senior Market Research Analyst',\n",
       " 'Senior Manager of Master Data Management (Hybrid)',\n",
       " 'Mid Data Scientist (f/m/x), Remote (EU) / Berlin',\n",
       " 'Sr. Product Manager (AI team)',\n",
       " 'Data Analyst (Pricing)',\n",
       " 'Principal Data Strategist Consultant',\n",
       " 'Senior Vehicle Data Analyst',\n",
       " 'Machine Learning Engineer (m/w/x)',\n",
       " 'Principal Engineer, Datacenter Software Systems',\n",
       " 'Business Intelligence (Qlik) Developer',\n",
       " 'Staff Data Scientist, Credit Card',\n",
       " 'Head of Product Data Science',\n",
       " \"Data Engineer / Data Analyst - Stage de fin d'études - Paris 2e (H/F)\",\n",
       " 'Junior Data Engineer',\n",
       " 'Machine Learning Research Engineer - Federal',\n",
       " 'Lead Data Engineer (P3796)',\n",
       " 'Senior ML Engineer',\n",
       " 'BI Engineer & Data Visualisation',\n",
       " 'Senior Machine Learning Engineer (8031)',\n",
       " 'Python Machine Learning Engineer (AdLight)',\n",
       " 'Research Engineer in Text Analytics (Direct Contract with Bosch)',\n",
       " 'Consultant(e) Data Scientist / Recherche Opérationnelle',\n",
       " 'Sr. Quantitative Research Analyst',\n",
       " 'Senior Data Manager',\n",
       " 'Staff Infrastructure Software Engineer, ML Platform',\n",
       " 'Data Engineer (AWS)',\n",
       " 'Data Engineer - Veeva Link',\n",
       " 'Senior Data Engineer (8307)',\n",
       " '(Mid level) Business Intelligence Analyst SCM (f/m/x)',\n",
       " \"Data Analyst - Stage de fin d'études - Paris 2e (H/F)\",\n",
       " 'Senior AI Programmer',\n",
       " 'AI Research Scientist \\x96 Perception and Machine Learning',\n",
       " 'Data Engineer 2',\n",
       " 'Scientist/Sr. Scientist, Computational Biology',\n",
       " 'Data Scientist Consultant',\n",
       " 'Manager, Data Engineering',\n",
       " 'Consultant | Data Analyst | KPMG Futures',\n",
       " 'Research Scientist \\x96 AI-based Planning for Autonomous Systems',\n",
       " 'Financial Data Analyst (m/f/d)',\n",
       " 'Analyst - Organizational Effectiveness (Data Management & Modelling, M&A)',\n",
       " 'Data Architect - Talent Pipeline',\n",
       " 'Data Analytics Hub Manager',\n",
       " 'Manager, Business Intelligence',\n",
       " 'Senior Data Analyst, Marketing & Enrollment - Hybrid',\n",
       " 'Architecte DATA - Décisionnel et Entrepôt Données Santé - Data Architect',\n",
       " 'Middle Product Manager (Data Analysis, Fintech)',\n",
       " 'Director, Data Science',\n",
       " 'Principal Machine Learning Engineer',\n",
       " 'Imaging Geophysicist - CDI permanent contract',\n",
       " 'Junior Business Intelligence Analyst',\n",
       " 'Lead Data Analyst',\n",
       " 'Senior Technical Integration Consultant- MFT, Migrations, ETL Experience- US Based Remote',\n",
       " 'Senior Data Analyst (Flights team, Bangkok-based, Relocation provided)',\n",
       " 'Data Engineer, Operations (AdScribe)',\n",
       " 'Lead BI Analyst (Supply Analytics, Bangkok-based)',\n",
       " 'Sr. Cloud & Data Engineer (Hybrid)',\n",
       " 'Instructor- Data Analytics',\n",
       " 'Data Analyst (Procurement)',\n",
       " 'Technical Program Manager, Artificial Intelligence & Data',\n",
       " 'Staff Machine Learning Platform Engineer',\n",
       " 'Junior Data and Insight Analyst',\n",
       " 'Business Intelligence Manager',\n",
       " 'Data Enginner',\n",
       " 'Monetization Data Analyst, Marketing Analytics',\n",
       " 'Principal Software Engineer, Applied ML',\n",
       " 'Azure Data Engineer',\n",
       " 'Electrical Design Engineer, Data Center Design Engineering',\n",
       " 'AI Architect, IT',\n",
       " 'Data Science Intern - Large Language Models',\n",
       " 'Deployment Specialist -(Travel, Early Career Robotics)-Central to East Coast - US',\n",
       " 'Staff Software Engineer, Machine Learning Acceleration',\n",
       " 'Senior BI Developer',\n",
       " 'Senior Data Engineer, Data Engineering',\n",
       " 'Product Data Specialist',\n",
       " 'Data Manager Zakelijke Markt',\n",
       " 'Business Intelligence Specialist',\n",
       " 'Consultant(e) Data Science - Bureau de Lyon',\n",
       " 'Associate Director, Data Engineering',\n",
       " 'Consultant(e) Senior Data Science',\n",
       " 'Consultant(e) Data Science - Bureau de Marseille',\n",
       " 'Staff Data Scientist, Business - Sales & Customer Success',\n",
       " 'Copywriter (ZibraAI)',\n",
       " 'Senior Product Manager, Data Infrastructure',\n",
       " 'Data Analyst (Flights team, Bangkok-based, Relocation provided)',\n",
       " 'Senior Data Scientist- Creator Content',\n",
       " 'Staff Data Scientist',\n",
       " 'Data Engineer - H/F',\n",
       " 'Senior Software Engineer (Power BI) -ELECTION-46',\n",
       " 'US Master Data Manager',\n",
       " 'Consultant(e) Senior Data Science - Bureau de Marseille',\n",
       " 'Data Analyst F/H',\n",
       " 'Senior Business Intelligence Analyst (Bangkok-based, Relocation provided)',\n",
       " 'Instructor, AI/Machine Learning (Part-time)',\n",
       " 'Big Data Engineer (Spark/ Hadoop/ Scala)',\n",
       " 'Staff Software Engineer, Machine Learning Infrastructure',\n",
       " 'Wind Master Data Manager',\n",
       " 'Senior Applied Scientist II',\n",
       " 'Data Science Analyst',\n",
       " 'Machine Learning Engineer - LLM',\n",
       " 'Product Data Analyst - Gaming Analytics',\n",
       " 'Consultant(e) Senior Data Science - Bureau de Nantes',\n",
       " 'Chatbot Engineer',\n",
       " 'Machine Learning Scientist (L6) - Product',\n",
       " 'Imaging Coordinator',\n",
       " 'People Analytics Senior Data Analyst (Remote)',\n",
       " 'Information Security & Data Management Trainer',\n",
       " 'Senior Machine Learning Modeler, Financial Crimes',\n",
       " 'Lead Analyst (BI Data Development)',\n",
       " 'Principal Machine Learning Engineer - Personalization',\n",
       " 'Staff Software Engineer, Data Platform',\n",
       " 'Consultant(e) Data Science',\n",
       " 'Senior Insight Analyst - Digital Experience',\n",
       " 'Alternance Consultant(e) Data Analytics - H/F',\n",
       " 'Consultant(e) Data Science - Bureau de Nantes',\n",
       " '302 - Data Analytics Specialist - CMS End Stage Renal Disease (ESRD)',\n",
       " 'Senior Software Engineer - Data Visualization',\n",
       " 'Senior MLOps Engineer',\n",
       " 'Senior ML Engineer (Remote)',\n",
       " 'Research Engineer - Research',\n",
       " 'Principal Software Engineer, Data Engineering',\n",
       " 'Product Owner - Data Visualization Specialist and Quality',\n",
       " 'Data Engineer Senior - DataOps / AWS / Archi Distribuée (f/m/x)',\n",
       " 'Senior AI Data Engineer (USA REMOTE)',\n",
       " 'Principal Machine Learning Engineer- Economy',\n",
       " 'Data Quality Management Specialist',\n",
       " 'Machine Learning Implementation Engineer',\n",
       " 'Robotics Software Engineer',\n",
       " 'Data Management System General Support Coordinator, Consultancy',\n",
       " 'Senior Data Scientist (Deep Learning Specialist)',\n",
       " 'Machine Learning Engineer / Senior Machine Learning Engineer',\n",
       " 'Managing Director, Data Engineering, Reporting, Visualization',\n",
       " 'Principal Deep Learning Engineer - Computer Vision',\n",
       " 'Data Engineer - Team Data Platform (f/m/x)',\n",
       " 'BI Developer (SAP BO & Qlik)',\n",
       " 'Technical Director, Machine Learning (Individual Contributor)',\n",
       " 'Senior Analyst, Data Science (R-14532)',\n",
       " 'Sr. ML Engineer (Infrastructure)',\n",
       " 'Data Analyst II',\n",
       " 'Director, Business Intelligence',\n",
       " 'Senior Platform Data Engineer, People Analytics',\n",
       " 'Sr Machine Learning Engineer',\n",
       " 'Data Scientist (MMM)',\n",
       " 'Senior Spark Technical Solutions Engineer',\n",
       " 'Support Ops Manager I, ML Data Operations, FBA Support Operations',\n",
       " 'Head of Business Intelligence and Analytics',\n",
       " 'Senior Analyst - Business Intelligence (Bangkok-based, Relocation Provided)',\n",
       " 'Lead Data Developer',\n",
       " 'Program Manager, Operations Finance Business Intelligence, Japan Operations Finance',\n",
       " 'Engineering Manager, ChatGPT for Business',\n",
       " 'AI Data Engineering and Data Science Manager (USA REMOTE)',\n",
       " 'Consultant (German Speaking) - Data Analytics',\n",
       " 'Research Scientist, Responsible AI',\n",
       " 'Data Scientist, Generative AI',\n",
       " 'Data Analytics Manager',\n",
       " 'Data Engineer (Melbourne)',\n",
       " 'Sr. Product Designer - Data Management (UK)',\n",
       " 'NLP Engineer',\n",
       " '#659 Data Engineer',\n",
       " 'Specialist Solutions Architect - Data Engineering & Azure',\n",
       " 'Data Scientist Intern',\n",
       " 'People Data Analyst',\n",
       " 'Senior/ Lead Data analytics',\n",
       " 'Head of Health Data Science',\n",
       " 'Senior Data Scientist - Discovery Experiences',\n",
       " 'Data Engineer - NBC Sports Next',\n",
       " 'Senior Researcher (PostDoc) for Big Data Processing (m/f/x)',\n",
       " 'Applied Scientist II',\n",
       " 'Senior Data Scientist - Creator Success',\n",
       " 'Head of Data Science (f/m/x)',\n",
       " 'Director of Machine Learning Platform Engineering',\n",
       " 'Staff Research Scientist/Engineer',\n",
       " 'Data Analyst and BI Developer',\n",
       " 'Data Engineer Databricks',\n",
       " 'Senior Software Engineer (Data Engineering)',\n",
       " 'HRIS & Data Analytics Specialist',\n",
       " 'Group Manager, Technical Data Science',\n",
       " 'Expert Data Scientist (f/m/x)',\n",
       " 'Research Analyst (RPA Engineer)',\n",
       " 'Data Engineer, Clearing and Custody',\n",
       " 'Analytics Engineer - Analytics Hub',\n",
       " 'Internship - Data Analyst',\n",
       " 'Data Scientist, IPC - Specialized Selection',\n",
       " 'Prompt Engineering Internship',\n",
       " 'Partner Data Specialist',\n",
       " 'Azure Data Engineer (SQL/Python)',\n",
       " 'Analyste-Programmeur spécialiste ETL',\n",
       " 'Data Engineer, Creative Media Operations',\n",
       " 'Executive Training Coach, Artificial Intelligence',\n",
       " 'Adjunct Instructors - Data Science Program - 2023/2024',\n",
       " 'Senior SMWDC Data Analytics Team Lead',\n",
       " 'Senior Data Engineer I',\n",
       " 'Data Visualisation Consultant',\n",
       " 'Head of Data',\n",
       " 'Senior DataOps Engineer (kafka)',\n",
       " 'Stage Ingénieur Machine Learning (F/H)',\n",
       " 'Senior/Staff Machine Learning Engineer - Ecommerce Fraud Detection',\n",
       " 'Lead-Data Analyst',\n",
       " 'Senior Applied Scientist, Prime Video',\n",
       " 'Product Data Management Manager (Hybrid)',\n",
       " 'Data Scientist for Reliability Engineering (M/F/D)',\n",
       " 'Développeur ETL (H/F)',\n",
       " 'Power BI Engineer',\n",
       " 'Senior Backend Engineer, ML Research',\n",
       " 'Data Engineer - Remote (Req. #515)',\n",
       " 'VP Engineering - Machine Learning',\n",
       " 'Senior Product Manager, Automation & Machine Learning',\n",
       " 'Data Analyst (Remote | UK)',\n",
       " 'Director, Trust & Panel Data Integrity',\n",
       " 'Data Scientist (Data Science Hub)',\n",
       " 'Machine Learning Engineer Intern',\n",
       " 'Graduate Analytics Engineer',\n",
       " 'Business Intelligence Engineer, Advertising Trust Data',\n",
       " 'Senior Research Scientist',\n",
       " 'AI Solution Cluster Manager',\n",
       " 'Senior Battery Modeling Engineer, Data',\n",
       " 'Software Engineer \\x96 Model Inference',\n",
       " 'Backend Software Engineer, Data Engineering',\n",
       " 'Senior/Principal ML Engineer, Content Understanding',\n",
       " 'Delivery Solutions Architect : Big Data',\n",
       " 'Sr Data Product Manager - Trading Experience',\n",
       " 'Data Scientist, Poland',\n",
       " 'Staff Machine Learning Engineer (Modeling), Risk',\n",
       " 'HR ( Data Analyst)  - Junior Manager',\n",
       " 'Senior People Data Analyst - Workday',\n",
       " 'Logistics Lead - Imaging',\n",
       " 'Machine Learning Researcher (internship)',\n",
       " 'Function Developer - Artificial Intelligence/Machine Learning in Automobile Applications',\n",
       " 'Sr Research Analyst - LNG',\n",
       " 'Sr. Business Analyst, Digital Services Business Intelligence (DSBI)',\n",
       " 'Senior data analyst',\n",
       " 'Lead AI Programmer - Remote',\n",
       " 'Engineer (Mid- Data Engineer)',\n",
       " 'Data Scientist (Machine Learning Modelling)',\n",
       " '4295 Senior Data Analyst',\n",
       " 'Senior Manager (Project & Data Management)',\n",
       " 'Senior Spark Data Engineer',\n",
       " 'Pessoa Engenheira de Machine Learning Sênior',\n",
       " 'Senior Software Engineer, Data Platform - Remote',\n",
       " 'Senior Machine Learning Engineer- Price Freeze (100% remote)',\n",
       " '(Senior) Director Data Science for Pricing / Yield Management  (m/f/d)',\n",
       " 'Big Data Engineer \\x96 Hadoop',\n",
       " 'Senior Machine Learning Engineer - Search',\n",
       " 'Senior Associate Data Engineering L1',\n",
       " 'Big Data Infrastructure Engineer',\n",
       " '[Job- 10566] Senior Data Visualization Analyst, Brazil',\n",
       " 'Satellite Image Processing and AI Engineer',\n",
       " 'Data Engineer (Hybrid)',\n",
       " 'Lead/Principal Product Manager, AI/ML',\n",
       " 'Senior Data Engineer - Data Scientist  (f/m/div.)',\n",
       " 'Machine Learning / AI Engineer (Indonesia)',\n",
       " 'Lead Partner Commerce Analyst (Business Intelligence)',\n",
       " 'Senior Manager, Data Engineering',\n",
       " 'Junior Data Scientist',\n",
       " 'Data Engineer \\x96 Oracle',\n",
       " 'Data Analyst (S&OP)',\n",
       " 'Graduate Motorsport Data Analyse and Engineer',\n",
       " 'Data Operations Manager - Link',\n",
       " 'VP of Data Science',\n",
       " 'Manager, Data Science (Machine Learning)',\n",
       " 'Data Scientist IV',\n",
       " 'Data Science - Machine Learning Engineer',\n",
       " 'Principal Machine Learning Engineer (DLP)',\n",
       " 'Data Engineer I (BLD)',\n",
       " 'Senior Data Science Manager, Marketing',\n",
       " 'Scientist I, Computational Biology',\n",
       " 'Data Analytics Architect, Multi-Instance',\n",
       " 'Head of Data Ops & Render Support',\n",
       " 'Sr. Security Analytics Engineer',\n",
       " 'Senior DevOps Engineer \"Big Data Platform - Hadoop\" (f/m/div.)',\n",
       " 'Principal  - Data Science',\n",
       " 'Data Scientist, Product Growth',\n",
       " 'Principal Applied Scientist, Sponsored Products',\n",
       " 'Senior Machine Learning Architect',\n",
       " 'Credit Risk Decision Scientist - Afterpay',\n",
       " 'Python/ETL Developer',\n",
       " 'Business Intelligence Associate Manager(Client facing)',\n",
       " 'Business Intelligence MBA Associate',\n",
       " 'Data Scientist, Research',\n",
       " 'Vacation work - (AIS) Actuarial & Insurance Solutions 2023- Johannesburg',\n",
       " 'Applied Scientist- Search Query Recommendation, Search Assistance',\n",
       " 'Senior Robotics Software Engineer',\n",
       " 'Senior Product Manager, Supplier Advertising (Machine Learning)',\n",
       " 'Pessoa Engenheira de Machine Learning Júnior',\n",
       " 'Quantitative Research Analyst',\n",
       " 'Business Intelligence Engineer, Analytics',\n",
       " 'Gruppenleitung Supply Chain Management & Data Analytics (w/m/div.)',\n",
       " 'Staff Data Engineer (Spark, Python, Hadoop)',\n",
       " 'Data Architect (optional relocation to Montenegro)',\n",
       " 'Data Science Intern - Large Language Model',\n",
       " 'Staff Data Scientist - NLP',\n",
       " 'Senior ETL Datastage Developer',\n",
       " 'Data Analyst, Product',\n",
       " 'MLOps Engineer, LLM',\n",
       " 'Data Engineer - Data Warehousing (SQL/Python) REF1478Z-German Speaking',\n",
       " 'Senior Consultant - Azure Data Engineer',\n",
       " 'Director, Data Engineering',\n",
       " 'Business Intelligence Analytics Lead, (Permanent Remote)',\n",
       " 'Recruitment Data Analyst',\n",
       " 'Technical Leader of Computer Vision',\n",
       " 'AI Product Owner - Manufacturing (f/m/div.)',\n",
       " 'Stage - NLP Engineer (H/F)',\n",
       " 'Machine Learning Ops Specialist',\n",
       " 'Manager of Growth Data Science',\n",
       " 'Customer Success & Insight Analyst',\n",
       " 'Senior Product Manager - Machine Learning',\n",
       " 'Data Scientist (Customer Acquisition)',\n",
       " 'IT Data Engineer',\n",
       " 'Staff Research Scientist/Engineer - ATG',\n",
       " 'Analista de Sistemas | Foco em Power BI e SharePoint',\n",
       " 'Staff Applied Scientist (Open to remote across ANZ)',\n",
       " 'Manager, Product Data Analytics',\n",
       " 'Applied Scientist II, AWS AI',\n",
       " 'Senior Robotics Engineer',\n",
       " 'Scientist 1, Data Science',\n",
       " 'Research Engineering Manager, Unit 42 (Remote)',\n",
       " 'Act Two Program- Sr. Analyst, Data Quality',\n",
       " 'Software Engineer, Robotics',\n",
       " 'Staff Software Engineer - Streaming Data Pipelines',\n",
       " 'Sr. Data Engineer - (Java + Spark)',\n",
       " 'Associate Director, Business Intelligence',\n",
       " 'Senior Data Scientist - Retailer',\n",
       " 'Senior Data Scientist, Core',\n",
       " 'Senior/Lead Data Scientist',\n",
       " 'ESRD Data Analyst and Program/Technical Specialist (Contract Contingent)',\n",
       " 'AI/ML Data Labeling Manager - UK',\n",
       " 'Data Scientist (Job Ref:1823)',\n",
       " 'Data Analyst I',\n",
       " 'Staff Bioinformatics Scientist - Machine Learning/Classifier Research and Development #2802 (Seattle)',\n",
       " 'Consultant(e) Power BI',\n",
       " 'Data Engineer Specialist',\n",
       " 'Junior/Mid Data Analyst',\n",
       " 'Sr Staff Applied Research Scientist - ATG Core LLM Team',\n",
       " 'Senior Data Modeler',\n",
       " 'Data Engineer-Operations',\n",
       " 'Business/data analyst',\n",
       " 'Manager - DS-AI & Machine Learning',\n",
       " 'Senior Backend Software Engineer- Big Data Analytics',\n",
       " 'Staff Product Manager, Machine Learning and Recommendations',\n",
       " 'Bilingual Data Analyst',\n",
       " 'Senior Data Developer AWS Redshift',\n",
       " 'Analytics Engineer - Consumer & Order and Pay',\n",
       " 'Sr. Data Engineer (Remote)',\n",
       " 'Staff Machine Learning Engineer, Entity Understanding - NYC',\n",
       " '(Senior) Director Data Science for Pricing / Yield Management & Data Science Lead Team Portugal (m/f/d)',\n",
       " 'AI/ML Data Labeling Manager - US',\n",
       " 'Data Scientist (S&OP)',\n",
       " '[EA] AI Tech Lead (Artificial Intelligence)',\n",
       " 'Data Engineer - Data Platform',\n",
       " 'Finance Data Analyst',\n",
       " 'Sr SRE/DevOps Engineer (AI & Machine Learning)',\n",
       " 'Business Data Analyst - Dailymotion Advertising (All Genders)',\n",
       " 'Data Scientist - 4365',\n",
       " 'Data Engineer \\x96 Data Lake',\n",
       " 'Engineer- Data Engineer',\n",
       " 'PreMaster Programm - Big Data (Analytics)',\n",
       " 'Senior Software Engineer, Data Safety',\n",
       " 'Sr. Business Intelligence Analyst',\n",
       " 'Big Data Engineer (IT-DA-DS-2023-76-LD)',\n",
       " 'Staff Bioinformatics Scientist - Machine Learning/Classifier Research and Development #2802 (San Diego)',\n",
       " 'Senior Expert BigData & AI Public Cloud (m/w/d) - Open Telekom Cloud REF1768P',\n",
       " 'Lead Software Engineer, Machine Learning Platform',\n",
       " 'AI Engineer',\n",
       " 'Associate Director/Director of Chemical Data Analytics',\n",
       " 'Senior Data Engineer -REMOTE',\n",
       " 'Data Scientist Senior',\n",
       " 'Director | Master Data Management Delivery Lead| Data & Cloud - NV1 Clearance',\n",
       " 'Senior Data Analyst, International',\n",
       " 'Data Engineer Pleno',\n",
       " 'Data Engineer, Customer Experience and Business Trends',\n",
       " 'AI Compiler and Performance Engineer',\n",
       " '2023 POWER BI MSBI Developer BD/XAI COB',\n",
       " 'Staff Data Scientist, Strategic Planning & Forecasting',\n",
       " 'Big Data Specialist',\n",
       " 'Data Scientist (M/F)',\n",
       " 'Data Scientist (Mid Level)',\n",
       " 'Sr Staff DevOps - Terraform, Kubernetes, CI/CD, Spark / Kafka, Linux, Scripting',\n",
       " 'Staff Machine Learning Engineer - Ads',\n",
       " 'Engineer, Computer Vision',\n",
       " 'CNSP Surface Force Training Requirements & Data Analyst',\n",
       " 'ETL Developer - Remote (USC, GC, GC EAD)',\n",
       " 'Data Engineer (Hong Kong)',\n",
       " 'Senior Frontend Software Engineer, Machine Learning Infrastructure',\n",
       " 'Data Engineer with Top Secret',\n",
       " 'Senior Data Scientist (P3485)',\n",
       " 'Data & Analytics Engineer',\n",
       " 'Engineer, Computer Vision and Graphics',\n",
       " 'Senior Clinical Data Manager',\n",
       " 'ChatGPT & AI Consultant (Part Time)',\n",
       " 'Python AI Developer (Remote)',\n",
       " 'Senior Staff Software Engineer, Machine Learning',\n",
       " 'Senior Backend Engineer, Applied Machine Learning',\n",
       " 'Oracle Data Analyst',\n",
       " 'Staff Data Engineer (Snowflake / Kafka)',\n",
       " 'Data Scientist Intern (End of studies)',\n",
       " 'VP of Data Science and Analytics',\n",
       " 'Business Intelligence Analyst - Risk',\n",
       " 'Senior Scientist, Machine Learning',\n",
       " 'Graduate Data Engineer',\n",
       " 'Engineering Manager 1 - Data Engineering Developer Experience',\n",
       " 'Applied Scientist II, Amazon Search',\n",
       " 'Lead Engineer, MLOps Platform',\n",
       " 'Machine Learning Engineer - Simulation',\n",
       " 'Workplace Analytics Engineer',\n",
       " 'Machine Learning Intern/Co-op (Fall 2023)',\n",
       " 'Artificial Intelligence Software Library Technical Lead',\n",
       " 'Business Intelligence (BI) Engineer',\n",
       " 'NATOIS-0008 Data Scientist (NS) - TUE 13 Jun',\n",
       " 'Applied Research Scientist',\n",
       " 'Mid/Sr Machine Learning Engineer',\n",
       " 'Staff Software Engineer - Machine Learning',\n",
       " 'Data Analyst - Core\\xa0Data',\n",
       " 'Senior Staff BI Analyst',\n",
       " 'ESG Data Operations Senior Manager',\n",
       " 'Senior Machine Learning Engineer II, Machine Learning Infrastructure',\n",
       " 'Data Analyst - Contract - 1 day a week',\n",
       " 'ML Engineer',\n",
       " 'Artificial Intelligence Hardware Architect (Senior Hardware Architect)',\n",
       " 'Senior Analytics Engineer - Data Engineer',\n",
       " 'Data Analytics Manager, SPEAR Operations Support & Services (OS2)',\n",
       " 'Senior Software Engineer, Perception, Machine Learning/Computer Vision',\n",
       " 'Machine Learning Engineer - Intelligent Safety',\n",
       " 'Artificial Intelligence Compiler Engineer (Software Engineer)',\n",
       " 'Senior Data Engineer, Marketing Data',\n",
       " 'AI Algorithms - Hardware Codesign Lead (Senior AI Software Engineer)',\n",
       " 'Research Scientist Intern',\n",
       " 'Staff Product Designer, AI/ML',\n",
       " 'Simulation and Data Engineer Inductive Sensors (m/f)',\n",
       " 'Senior Engineer, Data Management Engineering',\n",
       " 'Data Analyst (JIRA & Azure DevOps or HP ALM) - Remote',\n",
       " 'Vice President Data Science, Real World Data Lead',\n",
       " 'Data Engineer - BI Developer',\n",
       " 'Analyst, Data Science',\n",
       " 'Engineering Team Lead, Data Modelling',\n",
       " 'Associate Director, Data Science',\n",
       " 'Cloud/Data Engineer',\n",
       " 'Senior Staff/ Staff Engineer(Python | Spark | Delta Lake | GraphDB | Machine Learning)',\n",
       " 'Team Leader - Data Engineering (REF462H)',\n",
       " 'Data Management Consultant',\n",
       " 'Senior Data Manager, Product Owner',\n",
       " 'Director of Delivery, Data Operations',\n",
       " '(Senior) Machine Learning Engineer \\x96 Video Analysis',\n",
       " 'Student Assistant for Data Management (m/f/d)',\n",
       " 'Data Scientist, Risk',\n",
       " 'Customer Success Support Specialist (Remote Technical Support, Robotics) - U.S.',\n",
       " 'Principal Data Scientist (Seattle or U.S. Remote)',\n",
       " 'Data Engineer - ETL',\n",
       " 'Data Engineer - Internship',\n",
       " 'Market & Business Intelligence Graduate',\n",
       " 'Product Data Analyst',\n",
       " 'Full Stack Engineer for Computer Vision Products',\n",
       " 'Senior Data Scientist (P3186)',\n",
       " 'Senior Machine Learning Engineer, Perception',\n",
       " 'Data Analyst (Internship)',\n",
       " 'Senior Data Engineer (m/f/d)',\n",
       " 'Senior Data Analyst, Engineering Excellence',\n",
       " 'Business Intelligence Analytics Manager',\n",
       " 'Machine Learning Scientist (Intern)',\n",
       " 'Staff Research Engineer (REQ #R273)',\n",
       " 'Senior Machine Learning Scientist',\n",
       " 'Data Scientist, In-car Ads',\n",
       " '[Job-10530] Senior Data Developer, Brazil',\n",
       " 'Deep Learning Field Engineer',\n",
       " 'Data Analyst - Spanish Speaker',\n",
       " 'Data stage ETL',\n",
       " 'Software Engineer, Data Streaming Platform',\n",
       " 'Data Analyst Tech Lead',\n",
       " '[??] ????? ??? (Data Specialist / ???)',\n",
       " 'Knowledge Management Data Specialist',\n",
       " 'Machine Learning Engineer, Fulfillment / Supply Chain',\n",
       " 'Data Engineer - Technical Lead',\n",
       " 'Senior Data engineer (H/F)',\n",
       " 'Analyst, Business Intelligence',\n",
       " 'IT Manager, Advanced Business Intelligence',\n",
       " 'Revenue Operations Data Analyst',\n",
       " 'Data Science Manager',\n",
       " 'Engineering Manager - Core ML & Chatbot',\n",
       " 'Data Engineer (CRYPTO)',\n",
       " 'Associate Data Analyst (Permanent Remote)',\n",
       " 'Economist, Pricing and Causal Inference',\n",
       " 'Customer Data Specialist',\n",
       " 'Senior Manager, Personalization Machine Learning Science',\n",
       " 'Senior Research Analyst- Corporate Research Team',\n",
       " 'Summer Machine Learning Engineer Internship (Skopje, Bitola, Ohrid)',\n",
       " 'Assistant/Associate Professor in Embedded Artificial Intelligence  at Télécom Paris - CDI',\n",
       " 'Software Developer in Data Science Team',\n",
       " 'Machine Learning Systems Engineer',\n",
       " 'Software Engineer - C++ Qt QML Development',\n",
       " 'Data Engineer - Kolkata',\n",
       " 'AI Solution Manager/Senior AI Solution Manager',\n",
       " 'BI Analyst \\x96 Based in Parsippany-Troy Hills, NJ',\n",
       " 'Machine learning trainee',\n",
       " 'Senior Data Analyst, Business Insights - US, Remote',\n",
       " 'Insight Analyst II',\n",
       " 'IN BGSW SystemTester Autonomoriving EXM 2023 (Cloe)',\n",
       " 'Senior Machine Learning Engineer / Senior Python Developer',\n",
       " 'Data Specialist',\n",
       " 'Data Analyst - CRM',\n",
       " 'Junior, Intermediate or Senior Data Analyst',\n",
       " 'QA Data Engineer',\n",
       " 'Head of Business Intelligence',\n",
       " 'Autonomy Software Engineer - Flight Core',\n",
       " 'Data Operations Manager',\n",
       " 'Senior/Lead Data Manager',\n",
       " 'Data Quality Analyst/ Test Analyst',\n",
       " 'Senior Data Analytics Developer',\n",
       " 'Data Science Manager (m/f/d)',\n",
       " 'Lead Data Engineer',\n",
       " 'Senior Data Engineer, Analytics',\n",
       " 'Senior Data Engineer, New Initiatives',\n",
       " 'Data Scientist - Product (U.S. only)',\n",
       " 'Data Analyst (Intern)',\n",
       " 'Data Operations Analyst',\n",
       " 'Associate Data Analytics Manager(CPG)',\n",
       " 'Staff Product Data Analyst',\n",
       " 'Senior Manager Data Engineering - Houston (in office 2 days per week)',\n",
       " 'Database Engineer(Elasticsearch/ OpenSearch)',\n",
       " 'Software Engineer - Machine Learning',\n",
       " 'BI Development Lead - India',\n",
       " ...]"
      ]
     },
     "execution_count": 21,
     "metadata": {},
     "output_type": "execute_result"
    }
   ],
   "source": [
    "df[\"Job Title\"].unique().tolist()"
   ]
  },
  {
   "cell_type": "markdown",
   "id": "6b87252e",
   "metadata": {},
   "source": [
    "## remove the '+' symbol is present in the \"Salary\" column"
   ]
  },
  {
   "cell_type": "code",
   "execution_count": 8,
   "id": "e68ee265",
   "metadata": {},
   "outputs": [],
   "source": [
    "# Function to check if the '+' symbol is present in the \"Salary\" column\n",
    "def check_salary_beyond(salary):\n",
    "    return True if isinstance(salary, str) and '+' in salary else False\n",
    "\n",
    "# Add a new column \"the salary may go beyond\" and populate it based on the check\n",
    "df['the salary may go beyond'] = df['Salary'].apply(check_salary_beyond)\n"
   ]
  },
  {
   "cell_type": "code",
   "execution_count": 10,
   "id": "b93f124b",
   "metadata": {},
   "outputs": [],
   "source": [
    "# Remove '+' character only from cells that contain it in the \"Salary\" column\n",
    "df['Salary'] = df['Salary'].apply(lambda x: x.replace('+', '') if isinstance(x, str) else x)"
   ]
  },
  {
   "cell_type": "markdown",
   "id": "6c28c689",
   "metadata": {},
   "source": [
    "## remove the ' * ' symbol is present in the \"Salary\" column"
   ]
  },
  {
   "cell_type": "code",
   "execution_count": 9,
   "id": "54a48cf0",
   "metadata": {},
   "outputs": [],
   "source": [
    "# Function to check if the '*' symbol is present in the \"Salary\" column\n",
    "def check_additional_conditions(salary):\n",
    "    return True if isinstance(salary, str) and '*' in salary else False\n",
    "\n",
    "# Add a new column \"there are additional conditions or footnotes\" and populate it based on the check\n",
    "df['there are additional conditions or footnotes'] = df['Salary'].apply(check_additional_conditions)\n"
   ]
  },
  {
   "cell_type": "code",
   "execution_count": 11,
   "id": "d5f263f1",
   "metadata": {},
   "outputs": [],
   "source": [
    "# Remove '*' character only from cells that contain it in the \"Salary\" column\n",
    "df['Salary'] = df['Salary'].apply(lambda x: x.replace('*', '') if isinstance(x, str) else x)"
   ]
  },
  {
   "cell_type": "code",
   "execution_count": 32,
   "id": "be864325",
   "metadata": {},
   "outputs": [],
   "source": [
    "# Remove ',' character only from cells that contain it in the \"Salary\" column\n",
    "df['Salary'] = df['Salary'].apply(lambda x: x.replace('K', '') if isinstance(x, str) else x)"
   ]
  },
  {
   "cell_type": "markdown",
   "id": "ad5442ca",
   "metadata": {},
   "source": [
    "## multiply salary by 1000 because we removed 'K'"
   ]
  },
  {
   "cell_type": "code",
   "execution_count": 35,
   "id": "ce42efa8",
   "metadata": {},
   "outputs": [],
   "source": [
    "# Function to multiply salary by 1000\n",
    "def multiply_1000(salary):\n",
    "    if isinstance(salary, str):\n",
    "        return float(salary.replace('K', '')) * 1000\n",
    "    return salary\n",
    "\n",
    "# Apply the function to the \"Salary\" column\n",
    "df['Salary'] = df['Salary'].apply(multiply_1000)\n"
   ]
  },
  {
   "cell_type": "markdown",
   "id": "f25d00e7",
   "metadata": {},
   "source": [
    "## extract country names from the \"Location\" column"
   ]
  },
  {
   "cell_type": "code",
   "execution_count": 12,
   "id": "e31d22e5",
   "metadata": {},
   "outputs": [],
   "source": [
    "import pycountry\n",
    "\n",
    "# Function to check if the word represents a country\n",
    "def is_country(word):\n",
    "    return any(country.name.lower() == word.lower() for country in pycountry.countries)\n",
    "\n",
    "# Function to extract country names from the \"Location\" column\n",
    "def extract_country(location):\n",
    "    if isinstance(location, str):\n",
    "        words = location.split(',')\n",
    "        for word in words:\n",
    "            if is_country(word.strip()):\n",
    "                return word.strip()\n",
    "    return None\n",
    "\n",
    "# Add a new column \"country\" with the extracted country names\n",
    "df['country'] = df['Location'].apply(extract_country)"
   ]
  },
  {
   "cell_type": "code",
   "execution_count": null,
   "id": "c49b1904",
   "metadata": {},
   "outputs": [],
   "source": []
  },
  {
   "cell_type": "code",
   "execution_count": null,
   "id": "005b2478",
   "metadata": {},
   "outputs": [],
   "source": [
    "# Split \"Location\" into \"city\" and \"country\" columns\n",
    "df[['city', 'country']] = df['Location'].str.split(', ', n=1, expand=True)"
   ]
  },
  {
   "cell_type": "code",
   "execution_count": 14,
   "id": "c88edb54",
   "metadata": {},
   "outputs": [],
   "source": [
    "# Add a new column with the result of the code df[\"Location\"].str.lower().str.contains(\"remote\", na=False)\n",
    "df['is_remote'] = df[\"Location\"].str.lower().str.contains(\"remote\", na=False)"
   ]
  },
  {
   "cell_type": "code",
   "execution_count": null,
   "id": "0f8c9be2",
   "metadata": {
    "scrolled": false
   },
   "outputs": [],
   "source": [
    "df.loc[df[\"Location\"]=='Remote']"
   ]
  },
  {
   "cell_type": "code",
   "execution_count": null,
   "id": "de23a7d4",
   "metadata": {},
   "outputs": [],
   "source": [
    "df[\"Location\"].str.lower().str.contains(\"remote\", na=False)"
   ]
  },
  {
   "cell_type": "code",
   "execution_count": null,
   "id": "fa10ce44",
   "metadata": {},
   "outputs": [],
   "source": []
  },
  {
   "cell_type": "markdown",
   "id": "89993e6d",
   "metadata": {},
   "source": [
    "## Traduire les \"Job Title\" en anglais:"
   ]
  },
  {
   "cell_type": "code",
   "execution_count": null,
   "id": "bd5197ae",
   "metadata": {},
   "outputs": [],
   "source": [
    "from googletrans import Translator"
   ]
  },
  {
   "cell_type": "code",
   "execution_count": null,
   "id": "c9046da4",
   "metadata": {},
   "outputs": [],
   "source": [
    "# Create an instance of the Translator class\n",
    "translator = Translator()"
   ]
  },
  {
   "cell_type": "code",
   "execution_count": null,
   "id": "05d7b876",
   "metadata": {},
   "outputs": [],
   "source": [
    "# Define a function to translate a text using the Googletrans library\n",
    "def translate_text(text):\n",
    "    try:\n",
    "        return translator.translate(text, dest='en').text\n",
    "    except:\n",
    "        return \"Translation Error\""
   ]
  },
  {
   "cell_type": "code",
   "execution_count": null,
   "id": "6d663a24",
   "metadata": {},
   "outputs": [],
   "source": [
    "# Apply the translate_text function to the \"description\" column of the DataFrame\n",
    "df['Job Title'] = df['Job Title'].apply(translate_text)  "
   ]
  },
  {
   "cell_type": "code",
   "execution_count": null,
   "id": "309d06ff",
   "metadata": {},
   "outputs": [],
   "source": []
  },
  {
   "cell_type": "code",
   "execution_count": null,
   "id": "2c395a5c",
   "metadata": {},
   "outputs": [],
   "source": []
  },
  {
   "cell_type": "code",
   "execution_count": null,
   "id": "0af501f2",
   "metadata": {},
   "outputs": [],
   "source": []
  },
  {
   "cell_type": "code",
   "execution_count": null,
   "id": "e2eb50ff",
   "metadata": {},
   "outputs": [],
   "source": [
    "df[df.duplicated(subset=['Company'])]"
   ]
  },
  {
   "cell_type": "code",
   "execution_count": null,
   "id": "928553ab",
   "metadata": {
    "scrolled": true
   },
   "outputs": [],
   "source": [
    "df['Experience level'].value_counts()"
   ]
  },
  {
   "cell_type": "code",
   "execution_count": null,
   "id": "19d58863",
   "metadata": {
    "scrolled": false
   },
   "outputs": [],
   "source": [
    "df['Job Type'].value_counts()"
   ]
  },
  {
   "cell_type": "code",
   "execution_count": null,
   "id": "2f4b9d45",
   "metadata": {
    "scrolled": false
   },
   "outputs": [],
   "source": [
    "df['Company'].value_counts()"
   ]
  },
  {
   "cell_type": "code",
   "execution_count": null,
   "id": "7c6787c9",
   "metadata": {},
   "outputs": [],
   "source": [
    "df['Location'].value_counts()"
   ]
  },
  {
   "cell_type": "code",
   "execution_count": null,
   "id": "9c328769",
   "metadata": {},
   "outputs": [],
   "source": []
  },
  {
   "cell_type": "code",
   "execution_count": null,
   "id": "de2fa491",
   "metadata": {},
   "outputs": [],
   "source": [
    "df"
   ]
  },
  {
   "cell_type": "code",
   "execution_count": 18,
   "id": "cfd7f548",
   "metadata": {},
   "outputs": [
    {
     "data": {
      "text/plain": [
       "array(['United States', 'Mauritius', 'Italy', 'Portugal', 'Thailand',\n",
       "       'Switzerland', 'Canada', 'India', 'Germany', 'Australia', None,\n",
       "       'Spain', 'France', 'Mexico', 'Brazil', 'Malaysia', 'Argentina',\n",
       "       'Austria', 'United Kingdom', 'Ukraine', 'Costa Rica', 'Belgium',\n",
       "       'Lithuania', 'Israel', 'South Africa', 'Colombia', 'Zambia',\n",
       "       'Poland', 'Singapore', 'Serbia', 'Jordan', 'Netherlands',\n",
       "       'Luxembourg', 'Nigeria', 'Sweden', 'Estonia', 'Croatia', 'Egypt',\n",
       "       'Gibraltar', 'Philippines', 'Zimbabwe', 'Georgia', 'Finland',\n",
       "       'New Zealand', 'Norway', 'Bulgaria', 'Romania', 'Hong Kong',\n",
       "       'Turkey', 'Denmark', 'UNITED STATES', 'Ireland', 'Indonesia',\n",
       "       'Chile', 'Latvia', 'North Macedonia', 'Slovenia', 'Hungary',\n",
       "       'Pakistan', 'Puerto Rico', 'Greece', 'Morocco', 'Sri Lanka',\n",
       "       'Japan', 'Nepal', 'Armenia', 'Niger', 'Oman', 'Uruguay', 'Albania',\n",
       "       'Bangladesh', 'Lebanon', 'Malta', 'CANADA', 'Cyprus'], dtype=object)"
      ]
     },
     "execution_count": 18,
     "metadata": {},
     "output_type": "execute_result"
    }
   ],
   "source": [
    "df.country.unique()"
   ]
  },
  {
   "cell_type": "code",
   "execution_count": 33,
   "id": "025905d0",
   "metadata": {},
   "outputs": [],
   "source": [
    "# Function to convert salary from GBP to USD\n",
    "def convert_to_usd(salary):\n",
    "    if isinstance(salary, str) and 'EUR' in salary:\n",
    "        salary_value = float(salary.replace('EUR', '').replace(',', '').strip())\n",
    "        return salary_value * 1.1\n",
    "    return salary\n",
    "\n",
    "# Apply the function to the \"Salary\" column\n",
    "df['Salary'] = df['Salary'].apply(convert_to_usd)"
   ]
  },
  {
   "cell_type": "code",
   "execution_count": 34,
   "id": "ba897872",
   "metadata": {},
   "outputs": [],
   "source": [
    "# Function to convert salary from GBP to USD\n",
    "def convert_to_usd(salary):\n",
    "    if isinstance(salary, str) and 'GBP' in salary:\n",
    "        salary_value = float(salary.replace('GBP', '').replace(',', '').strip())\n",
    "        return salary_value * 1.3\n",
    "    return salary\n",
    "\n",
    "# Apply the function to the \"Salary\" column\n",
    "df['Salary'] = df['Salary'].apply(convert_to_usd)"
   ]
  },
  {
   "cell_type": "code",
   "execution_count": null,
   "id": "d08774d7",
   "metadata": {},
   "outputs": [],
   "source": []
  },
  {
   "cell_type": "code",
   "execution_count": null,
   "id": "b448ae25",
   "metadata": {},
   "outputs": [],
   "source": []
  },
  {
   "cell_type": "code",
   "execution_count": null,
   "id": "109efde1",
   "metadata": {},
   "outputs": [],
   "source": []
  },
  {
   "cell_type": "code",
   "execution_count": null,
   "id": "8c144436",
   "metadata": {},
   "outputs": [],
   "source": []
  },
  {
   "cell_type": "markdown",
   "id": "91691769",
   "metadata": {},
   "source": [
    "# -------------------------------------------------------------------------------------------------------------------------"
   ]
  },
  {
   "cell_type": "markdown",
   "id": "6a778a17",
   "metadata": {},
   "source": [
    "# analyse and visualisation"
   ]
  },
  {
   "cell_type": "code",
   "execution_count": 23,
   "id": "1d298378",
   "metadata": {},
   "outputs": [],
   "source": [
    "import plotly.express as px"
   ]
  },
  {
   "cell_type": "code",
   "execution_count": 56,
   "id": "39ccb48a",
   "metadata": {
    "scrolled": true
   },
   "outputs": [
    {
     "data": {
      "application/vnd.plotly.v1+json": {
       "config": {
        "plotlyServerURL": "https://plot.ly"
       },
       "data": [
        {
         "coloraxis": "coloraxis",
         "customdata": [
          [
           "Albania",
           84500
          ],
          [
           "Argentina",
           54400
          ],
          [
           "Armenia",
           40000
          ],
          [
           "Australia",
           80270.83333333333
          ],
          [
           "Austria",
           115000
          ],
          [
           "Bangladesh",
           30000
          ],
          [
           "Belgium",
           63071.42857142857
          ],
          [
           "Brazil",
           70333.33333333333
          ],
          [
           "Bulgaria",
           73142.85714285714
          ],
          [
           "CANADA",
           81000
          ],
          [
           "Canada",
           92657.8947368421
          ],
          [
           "Chile",
           73000
          ],
          [
           "Colombia",
           80666.66666666667
          ],
          [
           "Costa Rica",
           90285.71428571429
          ],
          [
           "Croatia",
           67500
          ],
          [
           "Cyprus",
           95000
          ],
          [
           "Denmark",
           77000
          ],
          [
           "Egypt",
           75666.66666666667
          ],
          [
           "Estonia",
           55333.333333333336
          ],
          [
           "Finland",
           79750
          ],
          [
           "France",
           66607.8962962963
          ],
          [
           "Georgia",
           73833.33333333333
          ],
          [
           "Germany",
           85862.65
          ],
          [
           "Gibraltar",
           48000
          ],
          [
           "Greece",
           59764.705882352944
          ],
          [
           "Hong Kong",
           89500
          ],
          [
           "Hungary",
           76642.85714285714
          ],
          [
           "India",
           77153.84615384616
          ],
          [
           "Indonesia",
           73777.77777777778
          ],
          [
           "Ireland",
           98066.66666666667
          ],
          [
           "Israel",
           71333.33333333333
          ],
          [
           "Italy",
           59000
          ],
          [
           "Japan",
           92000
          ],
          [
           "Jordan",
           40000
          ],
          [
           "Latvia",
           39.6
          ],
          [
           "Lebanon",
           55000
          ],
          [
           "Lithuania",
           84333.33333333333
          ],
          [
           "Luxembourg",
           93000
          ],
          [
           "Malaysia",
           76423.07692307692
          ],
          [
           "Malta",
           56000
          ],
          [
           "Mauritius",
           60666.666666666664
          ],
          [
           "Mexico",
           84774.19354838709
          ],
          [
           "Morocco",
           71333.33333333333
          ],
          [
           "Nepal",
           88500
          ],
          [
           "Netherlands",
           73217.39130434782
          ],
          [
           "New Zealand",
           64500
          ],
          [
           "Niger",
           77000
          ],
          [
           "Nigeria",
           30000
          ],
          [
           "North Macedonia",
           51000
          ],
          [
           "Norway",
           86666.66666666667
          ],
          [
           "Oman",
           35000
          ],
          [
           "Pakistan",
           77000
          ],
          [
           "Philippines",
           57285.71428571428
          ],
          [
           "Poland",
           73285.71428571429
          ],
          [
           "Portugal",
           82303.0303030303
          ],
          [
           "Puerto Rico",
           48000
          ],
          [
           "Romania",
           84000
          ],
          [
           "Serbia",
           71500
          ],
          [
           "Singapore",
           69250
          ],
          [
           "Slovenia",
           52000
          ],
          [
           "South Africa",
           58000
          ],
          [
           "Spain",
           78896.82105263158
          ],
          [
           "Sri Lanka",
           68166.66666666667
          ],
          [
           "Sweden",
           70133.33333333333
          ],
          [
           "Switzerland",
           65714.28571428571
          ],
          [
           "Thailand",
           79857.14285714286
          ],
          [
           "Turkey",
           74250
          ],
          [
           "UNITED STATES",
           62000
          ],
          [
           "Ukraine",
           69900
          ],
          [
           "United Kingdom",
           73036.31038251366
          ],
          [
           "United States",
           110959.40959409594
          ],
          [
           "Uruguay",
           65000
          ],
          [
           "Zambia",
           60000
          ],
          [
           "Zimbabwe",
           60000
          ]
         ],
         "geo": "geo",
         "hovertemplate": "<b>%{customdata[0]}</b><br>Average Salary: %{customdata[1]:,.2f}<extra></extra>",
         "locationmode": "country names",
         "locations": [
          "Albania",
          "Argentina",
          "Armenia",
          "Australia",
          "Austria",
          "Bangladesh",
          "Belgium",
          "Brazil",
          "Bulgaria",
          "CANADA",
          "Canada",
          "Chile",
          "Colombia",
          "Costa Rica",
          "Croatia",
          "Cyprus",
          "Denmark",
          "Egypt",
          "Estonia",
          "Finland",
          "France",
          "Georgia",
          "Germany",
          "Gibraltar",
          "Greece",
          "Hong Kong",
          "Hungary",
          "India",
          "Indonesia",
          "Ireland",
          "Israel",
          "Italy",
          "Japan",
          "Jordan",
          "Latvia",
          "Lebanon",
          "Lithuania",
          "Luxembourg",
          "Malaysia",
          "Malta",
          "Mauritius",
          "Mexico",
          "Morocco",
          "Nepal",
          "Netherlands",
          "New Zealand",
          "Niger",
          "Nigeria",
          "North Macedonia",
          "Norway",
          "Oman",
          "Pakistan",
          "Philippines",
          "Poland",
          "Portugal",
          "Puerto Rico",
          "Romania",
          "Serbia",
          "Singapore",
          "Slovenia",
          "South Africa",
          "Spain",
          "Sri Lanka",
          "Sweden",
          "Switzerland",
          "Thailand",
          "Turkey",
          "UNITED STATES",
          "Ukraine",
          "United Kingdom",
          "United States",
          "Uruguay",
          "Zambia",
          "Zimbabwe"
         ],
         "name": "",
         "type": "choropleth",
         "z": [
          84500,
          54400,
          40000,
          80270.83333333333,
          115000,
          30000,
          63071.42857142857,
          70333.33333333333,
          73142.85714285714,
          81000,
          92657.8947368421,
          73000,
          80666.66666666667,
          90285.71428571429,
          67500,
          95000,
          77000,
          75666.66666666667,
          55333.333333333336,
          79750,
          66607.8962962963,
          73833.33333333333,
          85862.65,
          48000,
          59764.705882352944,
          89500,
          76642.85714285714,
          77153.84615384616,
          73777.77777777778,
          98066.66666666667,
          71333.33333333333,
          59000,
          92000,
          40000,
          39.6,
          55000,
          84333.33333333333,
          93000,
          76423.07692307692,
          56000,
          60666.666666666664,
          84774.19354838709,
          71333.33333333333,
          88500,
          73217.39130434782,
          64500,
          77000,
          30000,
          51000,
          86666.66666666667,
          35000,
          77000,
          57285.71428571428,
          73285.71428571429,
          82303.0303030303,
          48000,
          84000,
          71500,
          69250,
          52000,
          58000,
          78896.82105263158,
          68166.66666666667,
          70133.33333333333,
          65714.28571428571,
          79857.14285714286,
          74250,
          62000,
          69900,
          73036.31038251366,
          110959.40959409594,
          65000,
          60000,
          60000
         ]
        }
       ],
       "layout": {
        "coloraxis": {
         "cmax": 315000,
         "cmin": 39.6,
         "colorbar": {
          "title": {
           "text": "Average Salary"
          }
         },
         "colorscale": [
          [
           0,
           "rgb(103,0,31)"
          ],
          [
           0.1,
           "rgb(178,24,43)"
          ],
          [
           0.2,
           "rgb(214,96,77)"
          ],
          [
           0.3,
           "rgb(244,165,130)"
          ],
          [
           0.4,
           "rgb(253,219,199)"
          ],
          [
           0.5,
           "rgb(247,247,247)"
          ],
          [
           0.6,
           "rgb(209,229,240)"
          ],
          [
           0.7,
           "rgb(146,197,222)"
          ],
          [
           0.8,
           "rgb(67,147,195)"
          ],
          [
           0.9,
           "rgb(33,102,172)"
          ],
          [
           1,
           "rgb(5,48,97)"
          ]
         ]
        },
        "geo": {
         "center": {},
         "domain": {
          "x": [
           0,
           1
          ],
          "y": [
           0,
           1
          ]
         },
         "projection": {
          "type": "natural earth"
         }
        },
        "legend": {
         "tracegroupgap": 0
        },
        "template": {
         "data": {
          "bar": [
           {
            "error_x": {
             "color": "#2a3f5f"
            },
            "error_y": {
             "color": "#2a3f5f"
            },
            "marker": {
             "line": {
              "color": "#E5ECF6",
              "width": 0.5
             },
             "pattern": {
              "fillmode": "overlay",
              "size": 10,
              "solidity": 0.2
             }
            },
            "type": "bar"
           }
          ],
          "barpolar": [
           {
            "marker": {
             "line": {
              "color": "#E5ECF6",
              "width": 0.5
             },
             "pattern": {
              "fillmode": "overlay",
              "size": 10,
              "solidity": 0.2
             }
            },
            "type": "barpolar"
           }
          ],
          "carpet": [
           {
            "aaxis": {
             "endlinecolor": "#2a3f5f",
             "gridcolor": "white",
             "linecolor": "white",
             "minorgridcolor": "white",
             "startlinecolor": "#2a3f5f"
            },
            "baxis": {
             "endlinecolor": "#2a3f5f",
             "gridcolor": "white",
             "linecolor": "white",
             "minorgridcolor": "white",
             "startlinecolor": "#2a3f5f"
            },
            "type": "carpet"
           }
          ],
          "choropleth": [
           {
            "colorbar": {
             "outlinewidth": 0,
             "ticks": ""
            },
            "type": "choropleth"
           }
          ],
          "contour": [
           {
            "colorbar": {
             "outlinewidth": 0,
             "ticks": ""
            },
            "colorscale": [
             [
              0,
              "#0d0887"
             ],
             [
              0.1111111111111111,
              "#46039f"
             ],
             [
              0.2222222222222222,
              "#7201a8"
             ],
             [
              0.3333333333333333,
              "#9c179e"
             ],
             [
              0.4444444444444444,
              "#bd3786"
             ],
             [
              0.5555555555555556,
              "#d8576b"
             ],
             [
              0.6666666666666666,
              "#ed7953"
             ],
             [
              0.7777777777777778,
              "#fb9f3a"
             ],
             [
              0.8888888888888888,
              "#fdca26"
             ],
             [
              1,
              "#f0f921"
             ]
            ],
            "type": "contour"
           }
          ],
          "contourcarpet": [
           {
            "colorbar": {
             "outlinewidth": 0,
             "ticks": ""
            },
            "type": "contourcarpet"
           }
          ],
          "heatmap": [
           {
            "colorbar": {
             "outlinewidth": 0,
             "ticks": ""
            },
            "colorscale": [
             [
              0,
              "#0d0887"
             ],
             [
              0.1111111111111111,
              "#46039f"
             ],
             [
              0.2222222222222222,
              "#7201a8"
             ],
             [
              0.3333333333333333,
              "#9c179e"
             ],
             [
              0.4444444444444444,
              "#bd3786"
             ],
             [
              0.5555555555555556,
              "#d8576b"
             ],
             [
              0.6666666666666666,
              "#ed7953"
             ],
             [
              0.7777777777777778,
              "#fb9f3a"
             ],
             [
              0.8888888888888888,
              "#fdca26"
             ],
             [
              1,
              "#f0f921"
             ]
            ],
            "type": "heatmap"
           }
          ],
          "heatmapgl": [
           {
            "colorbar": {
             "outlinewidth": 0,
             "ticks": ""
            },
            "colorscale": [
             [
              0,
              "#0d0887"
             ],
             [
              0.1111111111111111,
              "#46039f"
             ],
             [
              0.2222222222222222,
              "#7201a8"
             ],
             [
              0.3333333333333333,
              "#9c179e"
             ],
             [
              0.4444444444444444,
              "#bd3786"
             ],
             [
              0.5555555555555556,
              "#d8576b"
             ],
             [
              0.6666666666666666,
              "#ed7953"
             ],
             [
              0.7777777777777778,
              "#fb9f3a"
             ],
             [
              0.8888888888888888,
              "#fdca26"
             ],
             [
              1,
              "#f0f921"
             ]
            ],
            "type": "heatmapgl"
           }
          ],
          "histogram": [
           {
            "marker": {
             "pattern": {
              "fillmode": "overlay",
              "size": 10,
              "solidity": 0.2
             }
            },
            "type": "histogram"
           }
          ],
          "histogram2d": [
           {
            "colorbar": {
             "outlinewidth": 0,
             "ticks": ""
            },
            "colorscale": [
             [
              0,
              "#0d0887"
             ],
             [
              0.1111111111111111,
              "#46039f"
             ],
             [
              0.2222222222222222,
              "#7201a8"
             ],
             [
              0.3333333333333333,
              "#9c179e"
             ],
             [
              0.4444444444444444,
              "#bd3786"
             ],
             [
              0.5555555555555556,
              "#d8576b"
             ],
             [
              0.6666666666666666,
              "#ed7953"
             ],
             [
              0.7777777777777778,
              "#fb9f3a"
             ],
             [
              0.8888888888888888,
              "#fdca26"
             ],
             [
              1,
              "#f0f921"
             ]
            ],
            "type": "histogram2d"
           }
          ],
          "histogram2dcontour": [
           {
            "colorbar": {
             "outlinewidth": 0,
             "ticks": ""
            },
            "colorscale": [
             [
              0,
              "#0d0887"
             ],
             [
              0.1111111111111111,
              "#46039f"
             ],
             [
              0.2222222222222222,
              "#7201a8"
             ],
             [
              0.3333333333333333,
              "#9c179e"
             ],
             [
              0.4444444444444444,
              "#bd3786"
             ],
             [
              0.5555555555555556,
              "#d8576b"
             ],
             [
              0.6666666666666666,
              "#ed7953"
             ],
             [
              0.7777777777777778,
              "#fb9f3a"
             ],
             [
              0.8888888888888888,
              "#fdca26"
             ],
             [
              1,
              "#f0f921"
             ]
            ],
            "type": "histogram2dcontour"
           }
          ],
          "mesh3d": [
           {
            "colorbar": {
             "outlinewidth": 0,
             "ticks": ""
            },
            "type": "mesh3d"
           }
          ],
          "parcoords": [
           {
            "line": {
             "colorbar": {
              "outlinewidth": 0,
              "ticks": ""
             }
            },
            "type": "parcoords"
           }
          ],
          "pie": [
           {
            "automargin": true,
            "type": "pie"
           }
          ],
          "scatter": [
           {
            "fillpattern": {
             "fillmode": "overlay",
             "size": 10,
             "solidity": 0.2
            },
            "type": "scatter"
           }
          ],
          "scatter3d": [
           {
            "line": {
             "colorbar": {
              "outlinewidth": 0,
              "ticks": ""
             }
            },
            "marker": {
             "colorbar": {
              "outlinewidth": 0,
              "ticks": ""
             }
            },
            "type": "scatter3d"
           }
          ],
          "scattercarpet": [
           {
            "marker": {
             "colorbar": {
              "outlinewidth": 0,
              "ticks": ""
             }
            },
            "type": "scattercarpet"
           }
          ],
          "scattergeo": [
           {
            "marker": {
             "colorbar": {
              "outlinewidth": 0,
              "ticks": ""
             }
            },
            "type": "scattergeo"
           }
          ],
          "scattergl": [
           {
            "marker": {
             "colorbar": {
              "outlinewidth": 0,
              "ticks": ""
             }
            },
            "type": "scattergl"
           }
          ],
          "scattermapbox": [
           {
            "marker": {
             "colorbar": {
              "outlinewidth": 0,
              "ticks": ""
             }
            },
            "type": "scattermapbox"
           }
          ],
          "scatterpolar": [
           {
            "marker": {
             "colorbar": {
              "outlinewidth": 0,
              "ticks": ""
             }
            },
            "type": "scatterpolar"
           }
          ],
          "scatterpolargl": [
           {
            "marker": {
             "colorbar": {
              "outlinewidth": 0,
              "ticks": ""
             }
            },
            "type": "scatterpolargl"
           }
          ],
          "scatterternary": [
           {
            "marker": {
             "colorbar": {
              "outlinewidth": 0,
              "ticks": ""
             }
            },
            "type": "scatterternary"
           }
          ],
          "surface": [
           {
            "colorbar": {
             "outlinewidth": 0,
             "ticks": ""
            },
            "colorscale": [
             [
              0,
              "#0d0887"
             ],
             [
              0.1111111111111111,
              "#46039f"
             ],
             [
              0.2222222222222222,
              "#7201a8"
             ],
             [
              0.3333333333333333,
              "#9c179e"
             ],
             [
              0.4444444444444444,
              "#bd3786"
             ],
             [
              0.5555555555555556,
              "#d8576b"
             ],
             [
              0.6666666666666666,
              "#ed7953"
             ],
             [
              0.7777777777777778,
              "#fb9f3a"
             ],
             [
              0.8888888888888888,
              "#fdca26"
             ],
             [
              1,
              "#f0f921"
             ]
            ],
            "type": "surface"
           }
          ],
          "table": [
           {
            "cells": {
             "fill": {
              "color": "#EBF0F8"
             },
             "line": {
              "color": "white"
             }
            },
            "header": {
             "fill": {
              "color": "#C8D4E3"
             },
             "line": {
              "color": "white"
             }
            },
            "type": "table"
           }
          ]
         },
         "layout": {
          "annotationdefaults": {
           "arrowcolor": "#2a3f5f",
           "arrowhead": 0,
           "arrowwidth": 1
          },
          "autotypenumbers": "strict",
          "coloraxis": {
           "colorbar": {
            "outlinewidth": 0,
            "ticks": ""
           }
          },
          "colorscale": {
           "diverging": [
            [
             0,
             "#8e0152"
            ],
            [
             0.1,
             "#c51b7d"
            ],
            [
             0.2,
             "#de77ae"
            ],
            [
             0.3,
             "#f1b6da"
            ],
            [
             0.4,
             "#fde0ef"
            ],
            [
             0.5,
             "#f7f7f7"
            ],
            [
             0.6,
             "#e6f5d0"
            ],
            [
             0.7,
             "#b8e186"
            ],
            [
             0.8,
             "#7fbc41"
            ],
            [
             0.9,
             "#4d9221"
            ],
            [
             1,
             "#276419"
            ]
           ],
           "sequential": [
            [
             0,
             "#0d0887"
            ],
            [
             0.1111111111111111,
             "#46039f"
            ],
            [
             0.2222222222222222,
             "#7201a8"
            ],
            [
             0.3333333333333333,
             "#9c179e"
            ],
            [
             0.4444444444444444,
             "#bd3786"
            ],
            [
             0.5555555555555556,
             "#d8576b"
            ],
            [
             0.6666666666666666,
             "#ed7953"
            ],
            [
             0.7777777777777778,
             "#fb9f3a"
            ],
            [
             0.8888888888888888,
             "#fdca26"
            ],
            [
             1,
             "#f0f921"
            ]
           ],
           "sequentialminus": [
            [
             0,
             "#0d0887"
            ],
            [
             0.1111111111111111,
             "#46039f"
            ],
            [
             0.2222222222222222,
             "#7201a8"
            ],
            [
             0.3333333333333333,
             "#9c179e"
            ],
            [
             0.4444444444444444,
             "#bd3786"
            ],
            [
             0.5555555555555556,
             "#d8576b"
            ],
            [
             0.6666666666666666,
             "#ed7953"
            ],
            [
             0.7777777777777778,
             "#fb9f3a"
            ],
            [
             0.8888888888888888,
             "#fdca26"
            ],
            [
             1,
             "#f0f921"
            ]
           ]
          },
          "colorway": [
           "#636efa",
           "#EF553B",
           "#00cc96",
           "#ab63fa",
           "#FFA15A",
           "#19d3f3",
           "#FF6692",
           "#B6E880",
           "#FF97FF",
           "#FECB52"
          ],
          "font": {
           "color": "#2a3f5f"
          },
          "geo": {
           "bgcolor": "white",
           "lakecolor": "white",
           "landcolor": "#E5ECF6",
           "showlakes": true,
           "showland": true,
           "subunitcolor": "white"
          },
          "hoverlabel": {
           "align": "left"
          },
          "hovermode": "closest",
          "mapbox": {
           "style": "light"
          },
          "paper_bgcolor": "white",
          "plot_bgcolor": "#E5ECF6",
          "polar": {
           "angularaxis": {
            "gridcolor": "white",
            "linecolor": "white",
            "ticks": ""
           },
           "bgcolor": "#E5ECF6",
           "radialaxis": {
            "gridcolor": "white",
            "linecolor": "white",
            "ticks": ""
           }
          },
          "scene": {
           "xaxis": {
            "backgroundcolor": "#E5ECF6",
            "gridcolor": "white",
            "gridwidth": 2,
            "linecolor": "white",
            "showbackground": true,
            "ticks": "",
            "zerolinecolor": "white"
           },
           "yaxis": {
            "backgroundcolor": "#E5ECF6",
            "gridcolor": "white",
            "gridwidth": 2,
            "linecolor": "white",
            "showbackground": true,
            "ticks": "",
            "zerolinecolor": "white"
           },
           "zaxis": {
            "backgroundcolor": "#E5ECF6",
            "gridcolor": "white",
            "gridwidth": 2,
            "linecolor": "white",
            "showbackground": true,
            "ticks": "",
            "zerolinecolor": "white"
           }
          },
          "shapedefaults": {
           "line": {
            "color": "#2a3f5f"
           }
          },
          "ternary": {
           "aaxis": {
            "gridcolor": "white",
            "linecolor": "white",
            "ticks": ""
           },
           "baxis": {
            "gridcolor": "white",
            "linecolor": "white",
            "ticks": ""
           },
           "bgcolor": "#E5ECF6",
           "caxis": {
            "gridcolor": "white",
            "linecolor": "white",
            "ticks": ""
           }
          },
          "title": {
           "x": 0.05
          },
          "xaxis": {
           "automargin": true,
           "gridcolor": "white",
           "linecolor": "white",
           "ticks": "",
           "title": {
            "standoff": 15
           },
           "zerolinecolor": "white",
           "zerolinewidth": 2
          },
          "yaxis": {
           "automargin": true,
           "gridcolor": "white",
           "linecolor": "white",
           "ticks": "",
           "title": {
            "standoff": 15
           },
           "zerolinecolor": "white",
           "zerolinewidth": 2
          }
         }
        },
        "title": {
         "text": "Average Salary by Country"
        }
       }
      },
      "text/html": [
       "<div>                            <div id=\"58b93056-9a65-4fb9-9f22-3c3ee05b764c\" class=\"plotly-graph-div\" style=\"height:525px; width:100%;\"></div>            <script type=\"text/javascript\">                require([\"plotly\"], function(Plotly) {                    window.PLOTLYENV=window.PLOTLYENV || {};                                    if (document.getElementById(\"58b93056-9a65-4fb9-9f22-3c3ee05b764c\")) {                    Plotly.newPlot(                        \"58b93056-9a65-4fb9-9f22-3c3ee05b764c\",                        [{\"coloraxis\":\"coloraxis\",\"customdata\":[[\"Albania\",84500.0],[\"Argentina\",54400.0],[\"Armenia\",40000.0],[\"Australia\",80270.83333333333],[\"Austria\",115000.0],[\"Bangladesh\",30000.0],[\"Belgium\",63071.42857142857],[\"Brazil\",70333.33333333333],[\"Bulgaria\",73142.85714285714],[\"CANADA\",81000.0],[\"Canada\",92657.8947368421],[\"Chile\",73000.0],[\"Colombia\",80666.66666666667],[\"Costa Rica\",90285.71428571429],[\"Croatia\",67500.0],[\"Cyprus\",95000.0],[\"Denmark\",77000.0],[\"Egypt\",75666.66666666667],[\"Estonia\",55333.333333333336],[\"Finland\",79750.0],[\"France\",66607.8962962963],[\"Georgia\",73833.33333333333],[\"Germany\",85862.65],[\"Gibraltar\",48000.0],[\"Greece\",59764.705882352944],[\"Hong Kong\",89500.0],[\"Hungary\",76642.85714285714],[\"India\",77153.84615384616],[\"Indonesia\",73777.77777777778],[\"Ireland\",98066.66666666667],[\"Israel\",71333.33333333333],[\"Italy\",59000.0],[\"Japan\",92000.0],[\"Jordan\",40000.0],[\"Latvia\",39.6],[\"Lebanon\",55000.0],[\"Lithuania\",84333.33333333333],[\"Luxembourg\",93000.0],[\"Malaysia\",76423.07692307692],[\"Malta\",56000.0],[\"Mauritius\",60666.666666666664],[\"Mexico\",84774.19354838709],[\"Morocco\",71333.33333333333],[\"Nepal\",88500.0],[\"Netherlands\",73217.39130434782],[\"New Zealand\",64500.0],[\"Niger\",77000.0],[\"Nigeria\",30000.0],[\"North Macedonia\",51000.0],[\"Norway\",86666.66666666667],[\"Oman\",35000.0],[\"Pakistan\",77000.0],[\"Philippines\",57285.71428571428],[\"Poland\",73285.71428571429],[\"Portugal\",82303.0303030303],[\"Puerto Rico\",48000.0],[\"Romania\",84000.0],[\"Serbia\",71500.0],[\"Singapore\",69250.0],[\"Slovenia\",52000.0],[\"South Africa\",58000.0],[\"Spain\",78896.82105263158],[\"Sri Lanka\",68166.66666666667],[\"Sweden\",70133.33333333333],[\"Switzerland\",65714.28571428571],[\"Thailand\",79857.14285714286],[\"Turkey\",74250.0],[\"UNITED STATES\",62000.0],[\"Ukraine\",69900.0],[\"United Kingdom\",73036.31038251366],[\"United States\",110959.40959409594],[\"Uruguay\",65000.0],[\"Zambia\",60000.0],[\"Zimbabwe\",60000.0]],\"geo\":\"geo\",\"hovertemplate\":\"\\u003cb\\u003e%{customdata[0]}\\u003c\\u002fb\\u003e\\u003cbr\\u003eAverage Salary: %{customdata[1]:,.2f}\\u003cextra\\u003e\\u003c\\u002fextra\\u003e\",\"locationmode\":\"country names\",\"locations\":[\"Albania\",\"Argentina\",\"Armenia\",\"Australia\",\"Austria\",\"Bangladesh\",\"Belgium\",\"Brazil\",\"Bulgaria\",\"CANADA\",\"Canada\",\"Chile\",\"Colombia\",\"Costa Rica\",\"Croatia\",\"Cyprus\",\"Denmark\",\"Egypt\",\"Estonia\",\"Finland\",\"France\",\"Georgia\",\"Germany\",\"Gibraltar\",\"Greece\",\"Hong Kong\",\"Hungary\",\"India\",\"Indonesia\",\"Ireland\",\"Israel\",\"Italy\",\"Japan\",\"Jordan\",\"Latvia\",\"Lebanon\",\"Lithuania\",\"Luxembourg\",\"Malaysia\",\"Malta\",\"Mauritius\",\"Mexico\",\"Morocco\",\"Nepal\",\"Netherlands\",\"New Zealand\",\"Niger\",\"Nigeria\",\"North Macedonia\",\"Norway\",\"Oman\",\"Pakistan\",\"Philippines\",\"Poland\",\"Portugal\",\"Puerto Rico\",\"Romania\",\"Serbia\",\"Singapore\",\"Slovenia\",\"South Africa\",\"Spain\",\"Sri Lanka\",\"Sweden\",\"Switzerland\",\"Thailand\",\"Turkey\",\"UNITED STATES\",\"Ukraine\",\"United Kingdom\",\"United States\",\"Uruguay\",\"Zambia\",\"Zimbabwe\"],\"name\":\"\",\"z\":[84500.0,54400.0,40000.0,80270.83333333333,115000.0,30000.0,63071.42857142857,70333.33333333333,73142.85714285714,81000.0,92657.8947368421,73000.0,80666.66666666667,90285.71428571429,67500.0,95000.0,77000.0,75666.66666666667,55333.333333333336,79750.0,66607.8962962963,73833.33333333333,85862.65,48000.0,59764.705882352944,89500.0,76642.85714285714,77153.84615384616,73777.77777777778,98066.66666666667,71333.33333333333,59000.0,92000.0,40000.0,39.6,55000.0,84333.33333333333,93000.0,76423.07692307692,56000.0,60666.666666666664,84774.19354838709,71333.33333333333,88500.0,73217.39130434782,64500.0,77000.0,30000.0,51000.0,86666.66666666667,35000.0,77000.0,57285.71428571428,73285.71428571429,82303.0303030303,48000.0,84000.0,71500.0,69250.0,52000.0,58000.0,78896.82105263158,68166.66666666667,70133.33333333333,65714.28571428571,79857.14285714286,74250.0,62000.0,69900.0,73036.31038251366,110959.40959409594,65000.0,60000.0,60000.0],\"type\":\"choropleth\"}],                        {\"template\":{\"data\":{\"histogram2dcontour\":[{\"type\":\"histogram2dcontour\",\"colorbar\":{\"outlinewidth\":0,\"ticks\":\"\"},\"colorscale\":[[0.0,\"#0d0887\"],[0.1111111111111111,\"#46039f\"],[0.2222222222222222,\"#7201a8\"],[0.3333333333333333,\"#9c179e\"],[0.4444444444444444,\"#bd3786\"],[0.5555555555555556,\"#d8576b\"],[0.6666666666666666,\"#ed7953\"],[0.7777777777777778,\"#fb9f3a\"],[0.8888888888888888,\"#fdca26\"],[1.0,\"#f0f921\"]]}],\"choropleth\":[{\"type\":\"choropleth\",\"colorbar\":{\"outlinewidth\":0,\"ticks\":\"\"}}],\"histogram2d\":[{\"type\":\"histogram2d\",\"colorbar\":{\"outlinewidth\":0,\"ticks\":\"\"},\"colorscale\":[[0.0,\"#0d0887\"],[0.1111111111111111,\"#46039f\"],[0.2222222222222222,\"#7201a8\"],[0.3333333333333333,\"#9c179e\"],[0.4444444444444444,\"#bd3786\"],[0.5555555555555556,\"#d8576b\"],[0.6666666666666666,\"#ed7953\"],[0.7777777777777778,\"#fb9f3a\"],[0.8888888888888888,\"#fdca26\"],[1.0,\"#f0f921\"]]}],\"heatmap\":[{\"type\":\"heatmap\",\"colorbar\":{\"outlinewidth\":0,\"ticks\":\"\"},\"colorscale\":[[0.0,\"#0d0887\"],[0.1111111111111111,\"#46039f\"],[0.2222222222222222,\"#7201a8\"],[0.3333333333333333,\"#9c179e\"],[0.4444444444444444,\"#bd3786\"],[0.5555555555555556,\"#d8576b\"],[0.6666666666666666,\"#ed7953\"],[0.7777777777777778,\"#fb9f3a\"],[0.8888888888888888,\"#fdca26\"],[1.0,\"#f0f921\"]]}],\"heatmapgl\":[{\"type\":\"heatmapgl\",\"colorbar\":{\"outlinewidth\":0,\"ticks\":\"\"},\"colorscale\":[[0.0,\"#0d0887\"],[0.1111111111111111,\"#46039f\"],[0.2222222222222222,\"#7201a8\"],[0.3333333333333333,\"#9c179e\"],[0.4444444444444444,\"#bd3786\"],[0.5555555555555556,\"#d8576b\"],[0.6666666666666666,\"#ed7953\"],[0.7777777777777778,\"#fb9f3a\"],[0.8888888888888888,\"#fdca26\"],[1.0,\"#f0f921\"]]}],\"contourcarpet\":[{\"type\":\"contourcarpet\",\"colorbar\":{\"outlinewidth\":0,\"ticks\":\"\"}}],\"contour\":[{\"type\":\"contour\",\"colorbar\":{\"outlinewidth\":0,\"ticks\":\"\"},\"colorscale\":[[0.0,\"#0d0887\"],[0.1111111111111111,\"#46039f\"],[0.2222222222222222,\"#7201a8\"],[0.3333333333333333,\"#9c179e\"],[0.4444444444444444,\"#bd3786\"],[0.5555555555555556,\"#d8576b\"],[0.6666666666666666,\"#ed7953\"],[0.7777777777777778,\"#fb9f3a\"],[0.8888888888888888,\"#fdca26\"],[1.0,\"#f0f921\"]]}],\"surface\":[{\"type\":\"surface\",\"colorbar\":{\"outlinewidth\":0,\"ticks\":\"\"},\"colorscale\":[[0.0,\"#0d0887\"],[0.1111111111111111,\"#46039f\"],[0.2222222222222222,\"#7201a8\"],[0.3333333333333333,\"#9c179e\"],[0.4444444444444444,\"#bd3786\"],[0.5555555555555556,\"#d8576b\"],[0.6666666666666666,\"#ed7953\"],[0.7777777777777778,\"#fb9f3a\"],[0.8888888888888888,\"#fdca26\"],[1.0,\"#f0f921\"]]}],\"mesh3d\":[{\"type\":\"mesh3d\",\"colorbar\":{\"outlinewidth\":0,\"ticks\":\"\"}}],\"scatter\":[{\"fillpattern\":{\"fillmode\":\"overlay\",\"size\":10,\"solidity\":0.2},\"type\":\"scatter\"}],\"parcoords\":[{\"type\":\"parcoords\",\"line\":{\"colorbar\":{\"outlinewidth\":0,\"ticks\":\"\"}}}],\"scatterpolargl\":[{\"type\":\"scatterpolargl\",\"marker\":{\"colorbar\":{\"outlinewidth\":0,\"ticks\":\"\"}}}],\"bar\":[{\"error_x\":{\"color\":\"#2a3f5f\"},\"error_y\":{\"color\":\"#2a3f5f\"},\"marker\":{\"line\":{\"color\":\"#E5ECF6\",\"width\":0.5},\"pattern\":{\"fillmode\":\"overlay\",\"size\":10,\"solidity\":0.2}},\"type\":\"bar\"}],\"scattergeo\":[{\"type\":\"scattergeo\",\"marker\":{\"colorbar\":{\"outlinewidth\":0,\"ticks\":\"\"}}}],\"scatterpolar\":[{\"type\":\"scatterpolar\",\"marker\":{\"colorbar\":{\"outlinewidth\":0,\"ticks\":\"\"}}}],\"histogram\":[{\"marker\":{\"pattern\":{\"fillmode\":\"overlay\",\"size\":10,\"solidity\":0.2}},\"type\":\"histogram\"}],\"scattergl\":[{\"type\":\"scattergl\",\"marker\":{\"colorbar\":{\"outlinewidth\":0,\"ticks\":\"\"}}}],\"scatter3d\":[{\"type\":\"scatter3d\",\"line\":{\"colorbar\":{\"outlinewidth\":0,\"ticks\":\"\"}},\"marker\":{\"colorbar\":{\"outlinewidth\":0,\"ticks\":\"\"}}}],\"scattermapbox\":[{\"type\":\"scattermapbox\",\"marker\":{\"colorbar\":{\"outlinewidth\":0,\"ticks\":\"\"}}}],\"scatterternary\":[{\"type\":\"scatterternary\",\"marker\":{\"colorbar\":{\"outlinewidth\":0,\"ticks\":\"\"}}}],\"scattercarpet\":[{\"type\":\"scattercarpet\",\"marker\":{\"colorbar\":{\"outlinewidth\":0,\"ticks\":\"\"}}}],\"carpet\":[{\"aaxis\":{\"endlinecolor\":\"#2a3f5f\",\"gridcolor\":\"white\",\"linecolor\":\"white\",\"minorgridcolor\":\"white\",\"startlinecolor\":\"#2a3f5f\"},\"baxis\":{\"endlinecolor\":\"#2a3f5f\",\"gridcolor\":\"white\",\"linecolor\":\"white\",\"minorgridcolor\":\"white\",\"startlinecolor\":\"#2a3f5f\"},\"type\":\"carpet\"}],\"table\":[{\"cells\":{\"fill\":{\"color\":\"#EBF0F8\"},\"line\":{\"color\":\"white\"}},\"header\":{\"fill\":{\"color\":\"#C8D4E3\"},\"line\":{\"color\":\"white\"}},\"type\":\"table\"}],\"barpolar\":[{\"marker\":{\"line\":{\"color\":\"#E5ECF6\",\"width\":0.5},\"pattern\":{\"fillmode\":\"overlay\",\"size\":10,\"solidity\":0.2}},\"type\":\"barpolar\"}],\"pie\":[{\"automargin\":true,\"type\":\"pie\"}]},\"layout\":{\"autotypenumbers\":\"strict\",\"colorway\":[\"#636efa\",\"#EF553B\",\"#00cc96\",\"#ab63fa\",\"#FFA15A\",\"#19d3f3\",\"#FF6692\",\"#B6E880\",\"#FF97FF\",\"#FECB52\"],\"font\":{\"color\":\"#2a3f5f\"},\"hovermode\":\"closest\",\"hoverlabel\":{\"align\":\"left\"},\"paper_bgcolor\":\"white\",\"plot_bgcolor\":\"#E5ECF6\",\"polar\":{\"bgcolor\":\"#E5ECF6\",\"angularaxis\":{\"gridcolor\":\"white\",\"linecolor\":\"white\",\"ticks\":\"\"},\"radialaxis\":{\"gridcolor\":\"white\",\"linecolor\":\"white\",\"ticks\":\"\"}},\"ternary\":{\"bgcolor\":\"#E5ECF6\",\"aaxis\":{\"gridcolor\":\"white\",\"linecolor\":\"white\",\"ticks\":\"\"},\"baxis\":{\"gridcolor\":\"white\",\"linecolor\":\"white\",\"ticks\":\"\"},\"caxis\":{\"gridcolor\":\"white\",\"linecolor\":\"white\",\"ticks\":\"\"}},\"coloraxis\":{\"colorbar\":{\"outlinewidth\":0,\"ticks\":\"\"}},\"colorscale\":{\"sequential\":[[0.0,\"#0d0887\"],[0.1111111111111111,\"#46039f\"],[0.2222222222222222,\"#7201a8\"],[0.3333333333333333,\"#9c179e\"],[0.4444444444444444,\"#bd3786\"],[0.5555555555555556,\"#d8576b\"],[0.6666666666666666,\"#ed7953\"],[0.7777777777777778,\"#fb9f3a\"],[0.8888888888888888,\"#fdca26\"],[1.0,\"#f0f921\"]],\"sequentialminus\":[[0.0,\"#0d0887\"],[0.1111111111111111,\"#46039f\"],[0.2222222222222222,\"#7201a8\"],[0.3333333333333333,\"#9c179e\"],[0.4444444444444444,\"#bd3786\"],[0.5555555555555556,\"#d8576b\"],[0.6666666666666666,\"#ed7953\"],[0.7777777777777778,\"#fb9f3a\"],[0.8888888888888888,\"#fdca26\"],[1.0,\"#f0f921\"]],\"diverging\":[[0,\"#8e0152\"],[0.1,\"#c51b7d\"],[0.2,\"#de77ae\"],[0.3,\"#f1b6da\"],[0.4,\"#fde0ef\"],[0.5,\"#f7f7f7\"],[0.6,\"#e6f5d0\"],[0.7,\"#b8e186\"],[0.8,\"#7fbc41\"],[0.9,\"#4d9221\"],[1,\"#276419\"]]},\"xaxis\":{\"gridcolor\":\"white\",\"linecolor\":\"white\",\"ticks\":\"\",\"title\":{\"standoff\":15},\"zerolinecolor\":\"white\",\"automargin\":true,\"zerolinewidth\":2},\"yaxis\":{\"gridcolor\":\"white\",\"linecolor\":\"white\",\"ticks\":\"\",\"title\":{\"standoff\":15},\"zerolinecolor\":\"white\",\"automargin\":true,\"zerolinewidth\":2},\"scene\":{\"xaxis\":{\"backgroundcolor\":\"#E5ECF6\",\"gridcolor\":\"white\",\"linecolor\":\"white\",\"showbackground\":true,\"ticks\":\"\",\"zerolinecolor\":\"white\",\"gridwidth\":2},\"yaxis\":{\"backgroundcolor\":\"#E5ECF6\",\"gridcolor\":\"white\",\"linecolor\":\"white\",\"showbackground\":true,\"ticks\":\"\",\"zerolinecolor\":\"white\",\"gridwidth\":2},\"zaxis\":{\"backgroundcolor\":\"#E5ECF6\",\"gridcolor\":\"white\",\"linecolor\":\"white\",\"showbackground\":true,\"ticks\":\"\",\"zerolinecolor\":\"white\",\"gridwidth\":2}},\"shapedefaults\":{\"line\":{\"color\":\"#2a3f5f\"}},\"annotationdefaults\":{\"arrowcolor\":\"#2a3f5f\",\"arrowhead\":0,\"arrowwidth\":1},\"geo\":{\"bgcolor\":\"white\",\"landcolor\":\"#E5ECF6\",\"subunitcolor\":\"white\",\"showland\":true,\"showlakes\":true,\"lakecolor\":\"white\"},\"title\":{\"x\":0.05},\"mapbox\":{\"style\":\"light\"}}},\"geo\":{\"domain\":{\"x\":[0.0,1.0],\"y\":[0.0,1.0]},\"projection\":{\"type\":\"natural earth\"},\"center\":{}},\"coloraxis\":{\"colorbar\":{\"title\":{\"text\":\"Average Salary\"}},\"colorscale\":[[0.0,\"rgb(103,0,31)\"],[0.1,\"rgb(178,24,43)\"],[0.2,\"rgb(214,96,77)\"],[0.3,\"rgb(244,165,130)\"],[0.4,\"rgb(253,219,199)\"],[0.5,\"rgb(247,247,247)\"],[0.6,\"rgb(209,229,240)\"],[0.7,\"rgb(146,197,222)\"],[0.8,\"rgb(67,147,195)\"],[0.9,\"rgb(33,102,172)\"],[1.0,\"rgb(5,48,97)\"]],\"cmin\":39.6,\"cmax\":315000.0},\"legend\":{\"tracegroupgap\":0},\"title\":{\"text\":\"Average Salary by Country\"}},                        {\"responsive\": true}                    ).then(function(){\n",
       "                            \n",
       "var gd = document.getElementById('58b93056-9a65-4fb9-9f22-3c3ee05b764c');\n",
       "var x = new MutationObserver(function (mutations, observer) {{\n",
       "        var display = window.getComputedStyle(gd).display;\n",
       "        if (!display || display === 'none') {{\n",
       "            console.log([gd, 'removed!']);\n",
       "            Plotly.purge(gd);\n",
       "            observer.disconnect();\n",
       "        }}\n",
       "}});\n",
       "\n",
       "// Listen for the removal of the full notebook cells\n",
       "var notebookContainer = gd.closest('#notebook-container');\n",
       "if (notebookContainer) {{\n",
       "    x.observe(notebookContainer, {childList: true});\n",
       "}}\n",
       "\n",
       "// Listen for the clearing of the current output cell\n",
       "var outputEl = gd.closest('.output');\n",
       "if (outputEl) {{\n",
       "    x.observe(outputEl, {childList: true});\n",
       "}}\n",
       "\n",
       "                        })                };                });            </script>        </div>"
      ]
     },
     "metadata": {},
     "output_type": "display_data"
    }
   ],
   "source": [
    "# Calculate the average salary for each country\n",
    "average_salary_by_country = df.groupby('country')['Salary'].mean().reset_index()\n",
    "\n",
    "# Create choropleth map with a diverging color scale for salary data and average salary as hover data\n",
    "fig = px.choropleth(average_salary_by_country, \n",
    "                    locations='country', \n",
    "                    color='Salary', \n",
    "                    locationmode='country names', \n",
    "                    projection='natural earth', \n",
    "                    title='Average Salary by Country',\n",
    "                    color_continuous_scale='RdBu',  # Diverging color scale\n",
    "                    range_color=(df['Salary'].min(), df['Salary'].max()),  # Set the salary range for the color scale\n",
    "                    hover_data={'Salary': True, 'country': False},  # Include 'Salary' as hover data\n",
    "                    labels={'Salary': 'Average Salary', 'color': 'Average Salary'},  # Set hover label\n",
    "                    custom_data=['country']  # Include 'country' as custom data to access it in hover template\n",
    "                   )\n",
    "\n",
    "# Update the hover template to include the average salary for each country\n",
    "hover_template = '<b>%{customdata[0]}</b><br>' + \\\n",
    "                 'Average Salary: %{customdata[1]:,.2f}<extra></extra>'\n",
    "fig.update_traces(hovertemplate=hover_template)\n",
    "\n",
    "fig.show()\n"
   ]
  },
  {
   "cell_type": "markdown",
   "id": "1232cd78",
   "metadata": {},
   "source": [
    "## map for each job title"
   ]
  },
  {
   "cell_type": "markdown",
   "id": "5025bbfd",
   "metadata": {},
   "source": [
    "## map for each level"
   ]
  },
  {
   "cell_type": "code",
   "execution_count": null,
   "id": "766e78e3",
   "metadata": {},
   "outputs": [],
   "source": []
  },
  {
   "cell_type": "code",
   "execution_count": null,
   "id": "101bb788",
   "metadata": {},
   "outputs": [],
   "source": []
  },
  {
   "cell_type": "code",
   "execution_count": null,
   "id": "067e0e7d",
   "metadata": {},
   "outputs": [],
   "source": []
  },
  {
   "cell_type": "markdown",
   "id": "dff8068b",
   "metadata": {},
   "source": [
    "## Quelles sont les entreprises les plus actives dans le recrutement en IA, Data Science et Big Data ?"
   ]
  },
  {
   "cell_type": "code",
   "execution_count": null,
   "id": "f11711a4",
   "metadata": {},
   "outputs": [],
   "source": []
  },
  {
   "cell_type": "markdown",
   "id": "f0638821",
   "metadata": {},
   "source": [
    "## Quels sont les titres de poste les plus courants dans ces domaines ?"
   ]
  },
  {
   "cell_type": "code",
   "execution_count": null,
   "id": "6da0055b",
   "metadata": {},
   "outputs": [],
   "source": []
  },
  {
   "cell_type": "markdown",
   "id": "50d50653",
   "metadata": {},
   "source": [
    "## Quels sont les lieux géographiques les plus demandés pour les opportunités d'emploi en IA, Data Science et Big Data ?"
   ]
  },
  {
   "cell_type": "code",
   "execution_count": null,
   "id": "51e7a845",
   "metadata": {},
   "outputs": [],
   "source": []
  },
  {
   "cell_type": "markdown",
   "id": "734e0e08",
   "metadata": {},
   "source": [
    "## Quels types d'emplois (Full Time, Internship, etc.) sont les plus fréquents pour ces domaines ?"
   ]
  },
  {
   "cell_type": "code",
   "execution_count": null,
   "id": "94fb3a35",
   "metadata": {},
   "outputs": [],
   "source": []
  },
  {
   "cell_type": "markdown",
   "id": "8ced8cb7",
   "metadata": {},
   "source": [
    "## Quel est le niveau d'expérience le plus recherché dans les offres d'emploi en IA, Data Science et Big Data ?"
   ]
  },
  {
   "cell_type": "code",
   "execution_count": null,
   "id": "76d6ef99",
   "metadata": {},
   "outputs": [],
   "source": []
  },
  {
   "cell_type": "markdown",
   "id": "43fe4a55",
   "metadata": {},
   "source": [
    "## Quels sont les niveaux de salaire typiques pour différents postes et niveaux d'expérience ?"
   ]
  },
  {
   "cell_type": "code",
   "execution_count": null,
   "id": "7fbd1856",
   "metadata": {},
   "outputs": [],
   "source": []
  },
  {
   "cell_type": "markdown",
   "id": "088a9e19",
   "metadata": {},
   "source": [
    "## Quelles sont les compétences les plus demandées dans les offres d'emploi en IA, Data Science et Big Data ?"
   ]
  },
  {
   "cell_type": "code",
   "execution_count": null,
   "id": "8af9f95a",
   "metadata": {},
   "outputs": [],
   "source": []
  },
  {
   "cell_type": "markdown",
   "id": "e16e28e4",
   "metadata": {},
   "source": [
    "## Quels avantages ou facilités sont souvent proposés aux employés dans ces domaines ?"
   ]
  },
  {
   "cell_type": "code",
   "execution_count": null,
   "id": "4751c78c",
   "metadata": {},
   "outputs": [],
   "source": []
  },
  {
   "cell_type": "code",
   "execution_count": null,
   "id": "edcd02c6",
   "metadata": {},
   "outputs": [],
   "source": []
  },
  {
   "cell_type": "markdown",
   "id": "eb20ec55",
   "metadata": {},
   "source": [
    "## Comparer les opportunités d'emploi dans l'IA, la Data Science et le Big Data pour trouver des similitudes et des différences significatives."
   ]
  },
  {
   "cell_type": "code",
   "execution_count": null,
   "id": "2430f8cf",
   "metadata": {},
   "outputs": [],
   "source": []
  },
  {
   "cell_type": "markdown",
   "id": "5f744592",
   "metadata": {},
   "source": [
    "## Étudier la relation entre les compétences demandées et les niveaux de salaire offerts."
   ]
  },
  {
   "cell_type": "code",
   "execution_count": null,
   "id": "a2762cb3",
   "metadata": {},
   "outputs": [],
   "source": []
  },
  {
   "cell_type": "markdown",
   "id": "3928c34e",
   "metadata": {},
   "source": [
    "## Examiner comment les différentes entreprises se positionnent sur le marché de l'emploi dans ces domaines."
   ]
  },
  {
   "cell_type": "code",
   "execution_count": null,
   "id": "3b6d0fe4",
   "metadata": {},
   "outputs": [],
   "source": []
  },
  {
   "cell_type": "code",
   "execution_count": null,
   "id": "df41f804",
   "metadata": {},
   "outputs": [],
   "source": []
  },
  {
   "cell_type": "code",
   "execution_count": null,
   "id": "c0390990",
   "metadata": {},
   "outputs": [],
   "source": []
  },
  {
   "cell_type": "code",
   "execution_count": 24,
   "id": "509dcd08",
   "metadata": {},
   "outputs": [
    {
     "data": {
      "text/html": [
       "<div>\n",
       "<style scoped>\n",
       "    .dataframe tbody tr th:only-of-type {\n",
       "        vertical-align: middle;\n",
       "    }\n",
       "\n",
       "    .dataframe tbody tr th {\n",
       "        vertical-align: top;\n",
       "    }\n",
       "\n",
       "    .dataframe thead th {\n",
       "        text-align: right;\n",
       "    }\n",
       "</style>\n",
       "<table border=\"1\" class=\"dataframe\">\n",
       "  <thead>\n",
       "    <tr style=\"text-align: right;\">\n",
       "      <th></th>\n",
       "      <th>Company</th>\n",
       "      <th>Job Title</th>\n",
       "      <th>Location</th>\n",
       "      <th>Job Type</th>\n",
       "      <th>Experience level</th>\n",
       "      <th>Salary</th>\n",
       "      <th>Requirment of the company</th>\n",
       "      <th>Facilities</th>\n",
       "    </tr>\n",
       "  </thead>\n",
       "  <tbody>\n",
       "  </tbody>\n",
       "</table>\n",
       "</div>"
      ],
      "text/plain": [
       "Empty DataFrame\n",
       "Columns: [Company, Job Title, Location, Job Type, Experience level, Salary, Requirment of the company , Facilities]\n",
       "Index: []"
      ]
     },
     "execution_count": 24,
     "metadata": {},
     "output_type": "execute_result"
    }
   ],
   "source": [
    "df.loc[df[\"Company\"]=='Western Sahara']"
   ]
  },
  {
   "cell_type": "code",
   "execution_count": null,
   "id": "ad361f6e",
   "metadata": {},
   "outputs": [],
   "source": [
    "df.loc[df[\"country\"]=='United States']"
   ]
  },
  {
   "cell_type": "code",
   "execution_count": null,
   "id": "3d037257",
   "metadata": {},
   "outputs": [],
   "source": [
    "# Drop the original \"Location\" column as it's no longer needed\n",
    "df.drop('Location', axis=1, inplace=True)"
   ]
  },
  {
   "cell_type": "code",
   "execution_count": null,
   "id": "7e5f9750",
   "metadata": {},
   "outputs": [],
   "source": [
    "# Rename the 'Salary' column to 'Salary * 1000'\n",
    "df.rename(columns={'Salary': 'Salary en $'}, inplace=True)"
   ]
  },
  {
   "cell_type": "code",
   "execution_count": null,
   "id": "44eecbbf",
   "metadata": {},
   "outputs": [],
   "source": [
    "# Write the data to the CSV file\n",
    "df.to_csv('updated_dataset.csv', index=False)"
   ]
  },
  {
   "cell_type": "code",
   "execution_count": null,
   "id": "52568dea",
   "metadata": {},
   "outputs": [],
   "source": [
    "# Save the updated DataFrame to an Excel file\n",
    "df.to_excel('updated_dataset.xlsx', index=False)"
   ]
  }
 ],
 "metadata": {
  "kernelspec": {
   "display_name": "Python 3 (ipykernel)",
   "language": "python",
   "name": "python3"
  },
  "language_info": {
   "codemirror_mode": {
    "name": "ipython",
    "version": 3
   },
   "file_extension": ".py",
   "mimetype": "text/x-python",
   "name": "python",
   "nbconvert_exporter": "python",
   "pygments_lexer": "ipython3",
   "version": "3.10.10"
  },
  "vp": {
   "vp_config_version": "1.0.0",
   "vp_menu_width": 273,
   "vp_note_display": false,
   "vp_note_width": 0,
   "vp_position": {
    "width": 278
   },
   "vp_section_display": false,
   "vp_signature": "VisualPython"
  }
 },
 "nbformat": 4,
 "nbformat_minor": 5
}
