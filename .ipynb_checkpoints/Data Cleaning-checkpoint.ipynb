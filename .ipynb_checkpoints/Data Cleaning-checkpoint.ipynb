{
 "cells": [
  {
   "cell_type": "markdown",
   "id": "f5649911",
   "metadata": {},
   "source": [
    "## importation"
   ]
  },
  {
   "cell_type": "code",
   "execution_count": 1,
   "id": "9abc6484",
   "metadata": {},
   "outputs": [],
   "source": [
    "import pandas as pd\n",
    "import numpy as np"
   ]
  },
  {
   "cell_type": "markdown",
   "id": "d69ea035",
   "metadata": {},
   "source": [
    "## read data"
   ]
  },
  {
   "cell_type": "code",
   "execution_count": 2,
   "id": "bec420e4",
   "metadata": {
    "scrolled": false
   },
   "outputs": [
    {
     "data": {
      "text/html": [
       "<div>\n",
       "<style scoped>\n",
       "    .dataframe tbody tr th:only-of-type {\n",
       "        vertical-align: middle;\n",
       "    }\n",
       "\n",
       "    .dataframe tbody tr th {\n",
       "        vertical-align: top;\n",
       "    }\n",
       "\n",
       "    .dataframe thead th {\n",
       "        text-align: right;\n",
       "    }\n",
       "</style>\n",
       "<table border=\"1\" class=\"dataframe\">\n",
       "  <thead>\n",
       "    <tr style=\"text-align: right;\">\n",
       "      <th></th>\n",
       "      <th>Company</th>\n",
       "      <th>Job Title</th>\n",
       "      <th>Location</th>\n",
       "      <th>Job Type</th>\n",
       "      <th>Experience level</th>\n",
       "      <th>Salary</th>\n",
       "      <th>Requirment of the company</th>\n",
       "      <th>Facilities</th>\n",
       "    </tr>\n",
       "  </thead>\n",
       "  <tbody>\n",
       "    <tr>\n",
       "      <th>0</th>\n",
       "      <td>SGS</td>\n",
       "      <td>Clinical Data Analyst</td>\n",
       "      <td>Richardson, TX, United States</td>\n",
       "      <td>Full Time</td>\n",
       "      <td>Entry-level</td>\n",
       "      <td>48K+ *</td>\n",
       "      <td>Computer Science,Data quality,Genetics,Mathema...</td>\n",
       "      <td>,,,,</td>\n",
       "    </tr>\n",
       "    <tr>\n",
       "      <th>1</th>\n",
       "      <td>Ocorian</td>\n",
       "      <td>AML/CFT &amp; Data Analyst</td>\n",
       "      <td>Ebène, Mauritius</td>\n",
       "      <td>Full Time</td>\n",
       "      <td>Entry-level</td>\n",
       "      <td>48K+ *</td>\n",
       "      <td>Agile,Data management,Finance,Security,,</td>\n",
       "      <td>,,,,</td>\n",
       "    </tr>\n",
       "    <tr>\n",
       "      <th>2</th>\n",
       "      <td>Cricut</td>\n",
       "      <td>Machine Learning Engineer</td>\n",
       "      <td>South Jordan, UT, United States</td>\n",
       "      <td>Full Time</td>\n",
       "      <td>NaN</td>\n",
       "      <td>90K+ *</td>\n",
       "      <td>Agile,Architecture,AWS,Computer Science,Comput...</td>\n",
       "      <td>Career development,,,,</td>\n",
       "    </tr>\n",
       "    <tr>\n",
       "      <th>3</th>\n",
       "      <td>Bosch Group</td>\n",
       "      <td>Application Developer &amp; Data Analyst</td>\n",
       "      <td>Nonantola, Italy</td>\n",
       "      <td>Full Time</td>\n",
       "      <td>Entry-level</td>\n",
       "      <td>48K+ *</td>\n",
       "      <td>Engineering,Industrial,Oracle,Power BI,R,R&amp;D</td>\n",
       "      <td>,,,,</td>\n",
       "    </tr>\n",
       "    <tr>\n",
       "      <th>4</th>\n",
       "      <td>Publicis Groupe</td>\n",
       "      <td>Data Engineer Full time (Public Sector) USA</td>\n",
       "      <td>Arlington, VA, United States</td>\n",
       "      <td>Full Time</td>\n",
       "      <td>Mid-level</td>\n",
       "      <td>108K+</td>\n",
       "      <td>AWS,Azure,Computer Science,Consulting,Dataflow...</td>\n",
       "      <td>Flex hours,Flex vacation,Parental leave,Unlimi...</td>\n",
       "    </tr>\n",
       "  </tbody>\n",
       "</table>\n",
       "</div>"
      ],
      "text/plain": [
       "           Company                                    Job Title   \n",
       "0              SGS                        Clinical Data Analyst  \\\n",
       "1          Ocorian                       AML/CFT & Data Analyst   \n",
       "2           Cricut                    Machine Learning Engineer   \n",
       "3      Bosch Group         Application Developer & Data Analyst   \n",
       "4  Publicis Groupe  Data Engineer Full time (Public Sector) USA   \n",
       "\n",
       "                          Location   Job Type Experience level   Salary   \n",
       "0    Richardson, TX, United States  Full Time      Entry-level   48K+ *  \\\n",
       "1                 Ebène, Mauritius  Full Time      Entry-level   48K+ *   \n",
       "2  South Jordan, UT, United States  Full Time              NaN   90K+ *   \n",
       "3                 Nonantola, Italy  Full Time      Entry-level   48K+ *   \n",
       "4     Arlington, VA, United States  Full Time        Mid-level    108K+   \n",
       "\n",
       "                          Requirment of the company    \n",
       "0  Computer Science,Data quality,Genetics,Mathema...  \\\n",
       "1           Agile,Data management,Finance,Security,,   \n",
       "2  Agile,Architecture,AWS,Computer Science,Comput...   \n",
       "3       Engineering,Industrial,Oracle,Power BI,R,R&D   \n",
       "4  AWS,Azure,Computer Science,Consulting,Dataflow...   \n",
       "\n",
       "                                          Facilities  \n",
       "0                                               ,,,,  \n",
       "1                                               ,,,,  \n",
       "2                             Career development,,,,  \n",
       "3                                               ,,,,  \n",
       "4  Flex hours,Flex vacation,Parental leave,Unlimi...  "
      ]
     },
     "execution_count": 2,
     "metadata": {},
     "output_type": "execute_result"
    }
   ],
   "source": [
    "df=pd.read_csv('job.csv', encoding='latin1')\n",
    "df.head()"
   ]
  },
  {
   "cell_type": "markdown",
   "id": "4148681f",
   "metadata": {},
   "source": [
    "## info about my data"
   ]
  },
  {
   "cell_type": "code",
   "execution_count": 3,
   "id": "6ce71d30",
   "metadata": {
    "scrolled": true
   },
   "outputs": [],
   "source": [
    "# df.tail()"
   ]
  },
  {
   "cell_type": "code",
   "execution_count": 4,
   "id": "d5ef77b4",
   "metadata": {
    "scrolled": true
   },
   "outputs": [],
   "source": [
    "# df.sample(10)"
   ]
  },
  {
   "cell_type": "code",
   "execution_count": 5,
   "id": "cf167c4d",
   "metadata": {
    "scrolled": true
   },
   "outputs": [
    {
     "data": {
      "text/plain": [
       "Company                         1\n",
       "Job Title                       1\n",
       "Location                        1\n",
       "Job Type                        1\n",
       "Experience level              236\n",
       "Salary                        189\n",
       "Requirment of the company       0\n",
       "Facilities                      0\n",
       "dtype: int64"
      ]
     },
     "execution_count": 5,
     "metadata": {},
     "output_type": "execute_result"
    }
   ],
   "source": [
    "# check for null values\n",
    "df.isnull().sum()"
   ]
  },
  {
   "cell_type": "code",
   "execution_count": 6,
   "id": "1b8bfc57",
   "metadata": {},
   "outputs": [
    {
     "data": {
      "text/html": [
       "<div>\n",
       "<style scoped>\n",
       "    .dataframe tbody tr th:only-of-type {\n",
       "        vertical-align: middle;\n",
       "    }\n",
       "\n",
       "    .dataframe tbody tr th {\n",
       "        vertical-align: top;\n",
       "    }\n",
       "\n",
       "    .dataframe thead th {\n",
       "        text-align: right;\n",
       "    }\n",
       "</style>\n",
       "<table border=\"1\" class=\"dataframe\">\n",
       "  <thead>\n",
       "    <tr style=\"text-align: right;\">\n",
       "      <th></th>\n",
       "      <th>Company</th>\n",
       "      <th>Job Title</th>\n",
       "      <th>Location</th>\n",
       "      <th>Job Type</th>\n",
       "      <th>Experience level</th>\n",
       "      <th>Salary</th>\n",
       "      <th>Requirment of the company</th>\n",
       "      <th>Facilities</th>\n",
       "    </tr>\n",
       "  </thead>\n",
       "  <tbody>\n",
       "    <tr>\n",
       "      <th>797</th>\n",
       "      <td>NaN</td>\n",
       "      <td>NaN</td>\n",
       "      <td>NaN</td>\n",
       "      <td>NaN</td>\n",
       "      <td>NaN</td>\n",
       "      <td>NaN</td>\n",
       "      <td>,,,,,</td>\n",
       "      <td>,,,,</td>\n",
       "    </tr>\n",
       "  </tbody>\n",
       "</table>\n",
       "</div>"
      ],
      "text/plain": [
       "    Company Job Title Location Job Type Experience level Salary   \n",
       "797     NaN       NaN      NaN      NaN              NaN    NaN  \\\n",
       "\n",
       "    Requirment of the company  Facilities  \n",
       "797                      ,,,,,       ,,,,  "
      ]
     },
     "execution_count": 6,
     "metadata": {},
     "output_type": "execute_result"
    }
   ],
   "source": [
    "# where the company name is null\n",
    "df[df['Company'].isnull()]"
   ]
  },
  {
   "cell_type": "code",
   "execution_count": 7,
   "id": "25f81637",
   "metadata": {},
   "outputs": [
    {
     "data": {
      "text/plain": [
       "Company                         0\n",
       "Job Title                       0\n",
       "Location                        0\n",
       "Job Type                        0\n",
       "Experience level              235\n",
       "Salary                        188\n",
       "Requirment of the company       0\n",
       "Facilities                      0\n",
       "dtype: int64"
      ]
     },
     "execution_count": 7,
     "metadata": {},
     "output_type": "execute_result"
    }
   ],
   "source": [
    "# drop the null row where the company name is null\n",
    "df.dropna(subset=['Company'], inplace=True)\n",
    "df.isnull().sum()"
   ]
  },
  {
   "cell_type": "markdown",
   "id": "f8fc60ff",
   "metadata": {},
   "source": [
    "## Column-wise null values percentage"
   ]
  },
  {
   "cell_type": "code",
   "execution_count": 8,
   "id": "1b1f93ab",
   "metadata": {
    "scrolled": false
   },
   "outputs": [
    {
     "data": {
      "text/plain": [
       "Company                       0.000000\n",
       "Job Title                     0.000000\n",
       "Location                      0.000000\n",
       "Job Type                      0.000000\n",
       "Experience level              7.350641\n",
       "Salary                        5.880513\n",
       "Requirment of the company     0.000000\n",
       "Facilities                    0.000000\n",
       "dtype: float64"
      ]
     },
     "execution_count": 8,
     "metadata": {},
     "output_type": "execute_result"
    }
   ],
   "source": [
    "df.isnull().sum()/df.shape[0]*100"
   ]
  },
  {
   "cell_type": "markdown",
   "id": "8f80e6e0",
   "metadata": {},
   "source": [
    "## Cheacking the data type and non null value present in the dataframe"
   ]
  },
  {
   "cell_type": "code",
   "execution_count": 9,
   "id": "649ec7f6",
   "metadata": {
    "scrolled": false
   },
   "outputs": [
    {
     "name": "stdout",
     "output_type": "stream",
     "text": [
      "<class 'pandas.core.frame.DataFrame'>\n",
      "Index: 3197 entries, 0 to 3197\n",
      "Data columns (total 8 columns):\n",
      " #   Column                      Non-Null Count  Dtype \n",
      "---  ------                      --------------  ----- \n",
      " 0   Company                     3197 non-null   object\n",
      " 1   Job Title                   3197 non-null   object\n",
      " 2   Location                    3197 non-null   object\n",
      " 3   Job Type                    3197 non-null   object\n",
      " 4   Experience level            2962 non-null   object\n",
      " 5   Salary                      3009 non-null   object\n",
      " 6   Requirment of the company   3197 non-null   object\n",
      " 7   Facilities                  3197 non-null   object\n",
      "dtypes: object(8)\n",
      "memory usage: 224.8+ KB\n"
     ]
    }
   ],
   "source": [
    "df.info()"
   ]
  },
  {
   "cell_type": "markdown",
   "id": "4e8041a8",
   "metadata": {},
   "source": [
    "## Fill the missing values in the Age column with \"Not specified\""
   ]
  },
  {
   "cell_type": "code",
   "execution_count": 10,
   "id": "503c789b",
   "metadata": {},
   "outputs": [],
   "source": [
    "# Fill the missing values in the Age column with \"Not specified\"\n",
    "df[\"Experience level\"].fillna(\"Not specified\", inplace=True)"
   ]
  },
  {
   "cell_type": "markdown",
   "id": "a50117f6",
   "metadata": {},
   "source": [
    "## Cheking the dublicate value presant in the dataset"
   ]
  },
  {
   "cell_type": "code",
   "execution_count": 11,
   "id": "c839fb02",
   "metadata": {},
   "outputs": [
    {
     "data": {
      "text/plain": [
       "202"
      ]
     },
     "execution_count": 11,
     "metadata": {},
     "output_type": "execute_result"
    }
   ],
   "source": [
    "df.duplicated().sum()"
   ]
  },
  {
   "cell_type": "code",
   "execution_count": 12,
   "id": "fbff65b2",
   "metadata": {},
   "outputs": [],
   "source": [
    "df.drop_duplicates(inplace=True)"
   ]
  },
  {
   "cell_type": "code",
   "execution_count": 13,
   "id": "96eb889c",
   "metadata": {},
   "outputs": [
    {
     "data": {
      "text/html": [
       "<div>\n",
       "<style scoped>\n",
       "    .dataframe tbody tr th:only-of-type {\n",
       "        vertical-align: middle;\n",
       "    }\n",
       "\n",
       "    .dataframe tbody tr th {\n",
       "        vertical-align: top;\n",
       "    }\n",
       "\n",
       "    .dataframe thead th {\n",
       "        text-align: right;\n",
       "    }\n",
       "</style>\n",
       "<table border=\"1\" class=\"dataframe\">\n",
       "  <thead>\n",
       "    <tr style=\"text-align: right;\">\n",
       "      <th></th>\n",
       "      <th>Company</th>\n",
       "      <th>Job Title</th>\n",
       "      <th>Location</th>\n",
       "      <th>Job Type</th>\n",
       "      <th>Experience level</th>\n",
       "      <th>Salary</th>\n",
       "      <th>Requirment of the company</th>\n",
       "      <th>Facilities</th>\n",
       "    </tr>\n",
       "  </thead>\n",
       "  <tbody>\n",
       "  </tbody>\n",
       "</table>\n",
       "</div>"
      ],
      "text/plain": [
       "Empty DataFrame\n",
       "Columns: [Company, Job Title, Location, Job Type, Experience level, Salary, Requirment of the company , Facilities]\n",
       "Index: []"
      ]
     },
     "execution_count": 13,
     "metadata": {},
     "output_type": "execute_result"
    }
   ],
   "source": [
    "# print duplicate rows based on all columns\n",
    "df[df.duplicated()].sort_values(by=['Job Title']).head(20)"
   ]
  },
  {
   "cell_type": "code",
   "execution_count": 14,
   "id": "e6be5c5c",
   "metadata": {},
   "outputs": [
    {
     "data": {
      "text/html": [
       "<div>\n",
       "<style scoped>\n",
       "    .dataframe tbody tr th:only-of-type {\n",
       "        vertical-align: middle;\n",
       "    }\n",
       "\n",
       "    .dataframe tbody tr th {\n",
       "        vertical-align: top;\n",
       "    }\n",
       "\n",
       "    .dataframe thead th {\n",
       "        text-align: right;\n",
       "    }\n",
       "</style>\n",
       "<table border=\"1\" class=\"dataframe\">\n",
       "  <thead>\n",
       "    <tr style=\"text-align: right;\">\n",
       "      <th></th>\n",
       "      <th>Company</th>\n",
       "      <th>Job Title</th>\n",
       "      <th>Location</th>\n",
       "      <th>Job Type</th>\n",
       "      <th>Experience level</th>\n",
       "      <th>Salary</th>\n",
       "      <th>Requirment of the company</th>\n",
       "      <th>Facilities</th>\n",
       "    </tr>\n",
       "  </thead>\n",
       "  <tbody>\n",
       "  </tbody>\n",
       "</table>\n",
       "</div>"
      ],
      "text/plain": [
       "Empty DataFrame\n",
       "Columns: [Company, Job Title, Location, Job Type, Experience level, Salary, Requirment of the company , Facilities]\n",
       "Index: []"
      ]
     },
     "execution_count": 14,
     "metadata": {},
     "output_type": "execute_result"
    }
   ],
   "source": [
    "# drop duplicates\n",
    "df.drop_duplicates(inplace=True)\n",
    "df[df.duplicated()].sort_values(by=['Job Title']).head()"
   ]
  },
  {
   "cell_type": "code",
   "execution_count": null,
   "id": "968b4a9f",
   "metadata": {},
   "outputs": [],
   "source": []
  },
  {
   "cell_type": "code",
   "execution_count": 15,
   "id": "b3d3b798",
   "metadata": {
    "scrolled": true
   },
   "outputs": [
    {
     "data": {
      "text/plain": [
       "Company                       1889\n",
       "Job Title                     1889\n",
       "Location                      1889\n",
       "Job Type                      1889\n",
       "Experience level              1889\n",
       "Salary                        1794\n",
       "Requirment of the company     1889\n",
       "Facilities                    1889\n",
       "dtype: int64"
      ]
     },
     "execution_count": 15,
     "metadata": {},
     "output_type": "execute_result"
    }
   ],
   "source": [
    "df[df.duplicated(subset=['Company'])].count()"
   ]
  },
  {
   "cell_type": "code",
   "execution_count": 16,
   "id": "94847de5",
   "metadata": {},
   "outputs": [
    {
     "data": {
      "text/html": [
       "<div>\n",
       "<style scoped>\n",
       "    .dataframe tbody tr th:only-of-type {\n",
       "        vertical-align: middle;\n",
       "    }\n",
       "\n",
       "    .dataframe tbody tr th {\n",
       "        vertical-align: top;\n",
       "    }\n",
       "\n",
       "    .dataframe thead th {\n",
       "        text-align: right;\n",
       "    }\n",
       "</style>\n",
       "<table border=\"1\" class=\"dataframe\">\n",
       "  <thead>\n",
       "    <tr style=\"text-align: right;\">\n",
       "      <th></th>\n",
       "      <th>Company</th>\n",
       "      <th>Job Title</th>\n",
       "      <th>Location</th>\n",
       "      <th>Job Type</th>\n",
       "      <th>Experience level</th>\n",
       "      <th>Salary</th>\n",
       "      <th>Requirment of the company</th>\n",
       "      <th>Facilities</th>\n",
       "    </tr>\n",
       "  </thead>\n",
       "  <tbody>\n",
       "    <tr>\n",
       "      <th>0</th>\n",
       "      <td>SGS</td>\n",
       "      <td>Clinical Data Analyst</td>\n",
       "      <td>Richardson, TX, United States</td>\n",
       "      <td>Full Time</td>\n",
       "      <td>Entry-level</td>\n",
       "      <td>48K+ *</td>\n",
       "      <td>Computer Science,Data quality,Genetics,Mathema...</td>\n",
       "      <td>,,,,</td>\n",
       "    </tr>\n",
       "    <tr>\n",
       "      <th>1</th>\n",
       "      <td>Ocorian</td>\n",
       "      <td>AML/CFT &amp; Data Analyst</td>\n",
       "      <td>Ebène, Mauritius</td>\n",
       "      <td>Full Time</td>\n",
       "      <td>Entry-level</td>\n",
       "      <td>48K+ *</td>\n",
       "      <td>Agile,Data management,Finance,Security,,</td>\n",
       "      <td>,,,,</td>\n",
       "    </tr>\n",
       "    <tr>\n",
       "      <th>2</th>\n",
       "      <td>Cricut</td>\n",
       "      <td>Machine Learning Engineer</td>\n",
       "      <td>South Jordan, UT, United States</td>\n",
       "      <td>Full Time</td>\n",
       "      <td>Not specified</td>\n",
       "      <td>90K+ *</td>\n",
       "      <td>Agile,Architecture,AWS,Computer Science,Comput...</td>\n",
       "      <td>Career development,,,,</td>\n",
       "    </tr>\n",
       "    <tr>\n",
       "      <th>3</th>\n",
       "      <td>Bosch Group</td>\n",
       "      <td>Application Developer &amp; Data Analyst</td>\n",
       "      <td>Nonantola, Italy</td>\n",
       "      <td>Full Time</td>\n",
       "      <td>Entry-level</td>\n",
       "      <td>48K+ *</td>\n",
       "      <td>Engineering,Industrial,Oracle,Power BI,R,R&amp;D</td>\n",
       "      <td>,,,,</td>\n",
       "    </tr>\n",
       "    <tr>\n",
       "      <th>4</th>\n",
       "      <td>Publicis Groupe</td>\n",
       "      <td>Data Engineer Full time (Public Sector) USA</td>\n",
       "      <td>Arlington, VA, United States</td>\n",
       "      <td>Full Time</td>\n",
       "      <td>Mid-level</td>\n",
       "      <td>108K+</td>\n",
       "      <td>AWS,Azure,Computer Science,Consulting,Dataflow...</td>\n",
       "      <td>Flex hours,Flex vacation,Parental leave,Unlimi...</td>\n",
       "    </tr>\n",
       "    <tr>\n",
       "      <th>...</th>\n",
       "      <td>...</td>\n",
       "      <td>...</td>\n",
       "      <td>...</td>\n",
       "      <td>...</td>\n",
       "      <td>...</td>\n",
       "      <td>...</td>\n",
       "      <td>...</td>\n",
       "      <td>...</td>\n",
       "    </tr>\n",
       "    <tr>\n",
       "      <th>3190</th>\n",
       "      <td>CCRi</td>\n",
       "      <td>Application Integration Engineer, Computer Vis...</td>\n",
       "      <td>Chantilly, Virginia, United States</td>\n",
       "      <td>Full Time</td>\n",
       "      <td>Mid-level</td>\n",
       "      <td>113K+</td>\n",
       "      <td>Agile,Angular,APIs,Architecture,AWS,Azure</td>\n",
       "      <td>401(k) matching,Career development,Flex hours,...</td>\n",
       "    </tr>\n",
       "    <tr>\n",
       "      <th>3191</th>\n",
       "      <td>Publicis Groupe</td>\n",
       "      <td>Associate Director, Data Science</td>\n",
       "      <td>New York City, United States</td>\n",
       "      <td>Full Time</td>\n",
       "      <td>Mid-level</td>\n",
       "      <td>106K+</td>\n",
       "      <td>Bayesian,Classification,Clustering,Data analys...</td>\n",
       "      <td>Career development,Health care,,,</td>\n",
       "    </tr>\n",
       "    <tr>\n",
       "      <th>3192</th>\n",
       "      <td>DoorDash</td>\n",
       "      <td>Senior Software Engineer, Machine Learning - A...</td>\n",
       "      <td>Sunnyvale, CA; San Francisco, CA; New York</td>\n",
       "      <td>Full Time</td>\n",
       "      <td>Senior-level</td>\n",
       "      <td>176K+</td>\n",
       "      <td>Computer Science,Data analysis,Engineering,Exc...</td>\n",
       "      <td>401(k) matching,Career development,Equity,Insu...</td>\n",
       "    </tr>\n",
       "    <tr>\n",
       "      <th>3193</th>\n",
       "      <td>Western Digital</td>\n",
       "      <td>Data Scientist - New College Graduate</td>\n",
       "      <td>Biñan, Philippines</td>\n",
       "      <td>Full Time</td>\n",
       "      <td>Entry-level</td>\n",
       "      <td>39K+ *</td>\n",
       "      <td>APIs,Clustering,Computer Science,Data visualiz...</td>\n",
       "      <td>Career development,,,,</td>\n",
       "    </tr>\n",
       "    <tr>\n",
       "      <th>3196</th>\n",
       "      <td>ATB Financial</td>\n",
       "      <td>Data Scientist</td>\n",
       "      <td>Edmonton, Alberta, Canada</td>\n",
       "      <td>Full Time</td>\n",
       "      <td>Entry-level</td>\n",
       "      <td>39K+ *</td>\n",
       "      <td>Computer Science,Data Analytics,Data Mining,Ec...</td>\n",
       "      <td>Career development,Startup environment,,,</td>\n",
       "    </tr>\n",
       "  </tbody>\n",
       "</table>\n",
       "<p>2995 rows × 8 columns</p>\n",
       "</div>"
      ],
      "text/plain": [
       "              Company                                          Job Title   \n",
       "0                 SGS                              Clinical Data Analyst  \\\n",
       "1             Ocorian                             AML/CFT & Data Analyst   \n",
       "2              Cricut                          Machine Learning Engineer   \n",
       "3         Bosch Group               Application Developer & Data Analyst   \n",
       "4     Publicis Groupe        Data Engineer Full time (Public Sector) USA   \n",
       "...               ...                                                ...   \n",
       "3190             CCRi  Application Integration Engineer, Computer Vis...   \n",
       "3191  Publicis Groupe                   Associate Director, Data Science   \n",
       "3192         DoorDash  Senior Software Engineer, Machine Learning - A...   \n",
       "3193  Western Digital              Data Scientist - New College Graduate   \n",
       "3196    ATB Financial                                     Data Scientist   \n",
       "\n",
       "                                          Location   Job Type   \n",
       "0                    Richardson, TX, United States  Full Time  \\\n",
       "1                                 Ebène, Mauritius  Full Time   \n",
       "2                  South Jordan, UT, United States  Full Time   \n",
       "3                                 Nonantola, Italy  Full Time   \n",
       "4                     Arlington, VA, United States  Full Time   \n",
       "...                                            ...        ...   \n",
       "3190            Chantilly, Virginia, United States  Full Time   \n",
       "3191                  New York City, United States  Full Time   \n",
       "3192  Sunnyvale, CA; San Francisco, CA; New York \n",
       "  Full Time   \n",
       "3193                            Biñan, Philippines  Full Time   \n",
       "3196                     Edmonton, Alberta, Canada  Full Time   \n",
       "\n",
       "     Experience level   Salary   \n",
       "0         Entry-level   48K+ *  \\\n",
       "1         Entry-level   48K+ *   \n",
       "2       Not specified   90K+ *   \n",
       "3         Entry-level   48K+ *   \n",
       "4           Mid-level    108K+   \n",
       "...               ...      ...   \n",
       "3190        Mid-level    113K+   \n",
       "3191        Mid-level    106K+   \n",
       "3192     Senior-level    176K+   \n",
       "3193      Entry-level   39K+ *   \n",
       "3196      Entry-level   39K+ *   \n",
       "\n",
       "                             Requirment of the company    \n",
       "0     Computer Science,Data quality,Genetics,Mathema...  \\\n",
       "1              Agile,Data management,Finance,Security,,   \n",
       "2     Agile,Architecture,AWS,Computer Science,Comput...   \n",
       "3          Engineering,Industrial,Oracle,Power BI,R,R&D   \n",
       "4     AWS,Azure,Computer Science,Consulting,Dataflow...   \n",
       "...                                                 ...   \n",
       "3190          Agile,Angular,APIs,Architecture,AWS,Azure   \n",
       "3191  Bayesian,Classification,Clustering,Data analys...   \n",
       "3192  Computer Science,Data analysis,Engineering,Exc...   \n",
       "3193  APIs,Clustering,Computer Science,Data visualiz...   \n",
       "3196  Computer Science,Data Analytics,Data Mining,Ec...   \n",
       "\n",
       "                                             Facilities  \n",
       "0                                                  ,,,,  \n",
       "1                                                  ,,,,  \n",
       "2                                Career development,,,,  \n",
       "3                                                  ,,,,  \n",
       "4     Flex hours,Flex vacation,Parental leave,Unlimi...  \n",
       "...                                                 ...  \n",
       "3190  401(k) matching,Career development,Flex hours,...  \n",
       "3191                  Career development,Health care,,,  \n",
       "3192  401(k) matching,Career development,Equity,Insu...  \n",
       "3193                             Career development,,,,  \n",
       "3196          Career development,Startup environment,,,  \n",
       "\n",
       "[2995 rows x 8 columns]"
      ]
     },
     "execution_count": 16,
     "metadata": {},
     "output_type": "execute_result"
    }
   ],
   "source": [
    "df.drop_duplicates()"
   ]
  },
  {
   "cell_type": "markdown",
   "id": "a04e3775",
   "metadata": {},
   "source": [
    "## Remove ',,,,' character only from cells that contain it in the \"Facilities\" column"
   ]
  },
  {
   "cell_type": "code",
   "execution_count": 21,
   "id": "4def07a9",
   "metadata": {},
   "outputs": [
    {
     "ename": "IndentationError",
     "evalue": "unexpected indent (3809845812.py, line 2)",
     "output_type": "error",
     "traceback": [
      "\u001b[1;36m  Cell \u001b[1;32mIn[21], line 2\u001b[1;36m\u001b[0m\n\u001b[1;33m    df['Facilities'] = df['Facilities'].apply(lambda x: x.replace(',,,,', 'Not-Specified') if isinstance(x, str) else x)\u001b[0m\n\u001b[1;37m    ^\u001b[0m\n\u001b[1;31mIndentationError\u001b[0m\u001b[1;31m:\u001b[0m unexpected indent\n"
     ]
    }
   ],
   "source": [
    "# Remove ',' character only from cells that contain it in the \"Salary\" column\n",
    " df['Facilities'] = df['Facilities'].apply(lambda x: x.replace(',,,,', 'Not-Specified') if isinstance(x, str) else x)"
   ]
  },
  {
   "cell_type": "code",
   "execution_count": 18,
   "id": "75dd1c63",
   "metadata": {},
   "outputs": [],
   "source": [
    "# remove , if it is succeeded by a , in the Facilities column\n",
    "df['Facilities'] = df['Facilities'].str.replace(r',,,,', '')\n",
    "df['Facilities'] = df['Facilities'].str.replace(r',,,', '')\n",
    "df['Facilities'] = df['Facilities'].str.replace(r',,', '')"
   ]
  },
  {
   "cell_type": "code",
   "execution_count": 19,
   "id": "10845c90",
   "metadata": {},
   "outputs": [],
   "source": [
    "df['Facilities'].fillna('Not-Specified', inplace=True)"
   ]
  },
  {
   "cell_type": "code",
   "execution_count": 20,
   "id": "e1056da4",
   "metadata": {},
   "outputs": [
    {
     "data": {
      "text/html": [
       "<div>\n",
       "<style scoped>\n",
       "    .dataframe tbody tr th:only-of-type {\n",
       "        vertical-align: middle;\n",
       "    }\n",
       "\n",
       "    .dataframe tbody tr th {\n",
       "        vertical-align: top;\n",
       "    }\n",
       "\n",
       "    .dataframe thead th {\n",
       "        text-align: right;\n",
       "    }\n",
       "</style>\n",
       "<table border=\"1\" class=\"dataframe\">\n",
       "  <thead>\n",
       "    <tr style=\"text-align: right;\">\n",
       "      <th></th>\n",
       "      <th>Company</th>\n",
       "      <th>Job Title</th>\n",
       "      <th>Location</th>\n",
       "      <th>Job Type</th>\n",
       "      <th>Experience level</th>\n",
       "      <th>Salary</th>\n",
       "      <th>Requirment of the company</th>\n",
       "      <th>Facilities</th>\n",
       "    </tr>\n",
       "  </thead>\n",
       "  <tbody>\n",
       "    <tr>\n",
       "      <th>0</th>\n",
       "      <td>SGS</td>\n",
       "      <td>Clinical Data Analyst</td>\n",
       "      <td>Richardson, TX, United States</td>\n",
       "      <td>Full Time</td>\n",
       "      <td>Entry-level</td>\n",
       "      <td>48K+ *</td>\n",
       "      <td>Computer Science,Data quality,Genetics,Mathema...</td>\n",
       "      <td></td>\n",
       "    </tr>\n",
       "    <tr>\n",
       "      <th>1</th>\n",
       "      <td>Ocorian</td>\n",
       "      <td>AML/CFT &amp; Data Analyst</td>\n",
       "      <td>Ebène, Mauritius</td>\n",
       "      <td>Full Time</td>\n",
       "      <td>Entry-level</td>\n",
       "      <td>48K+ *</td>\n",
       "      <td>Agile,Data management,Finance,Security,,</td>\n",
       "      <td></td>\n",
       "    </tr>\n",
       "    <tr>\n",
       "      <th>2</th>\n",
       "      <td>Cricut</td>\n",
       "      <td>Machine Learning Engineer</td>\n",
       "      <td>South Jordan, UT, United States</td>\n",
       "      <td>Full Time</td>\n",
       "      <td>Not specified</td>\n",
       "      <td>90K+ *</td>\n",
       "      <td>Agile,Architecture,AWS,Computer Science,Comput...</td>\n",
       "      <td>Career development</td>\n",
       "    </tr>\n",
       "    <tr>\n",
       "      <th>3</th>\n",
       "      <td>Bosch Group</td>\n",
       "      <td>Application Developer &amp; Data Analyst</td>\n",
       "      <td>Nonantola, Italy</td>\n",
       "      <td>Full Time</td>\n",
       "      <td>Entry-level</td>\n",
       "      <td>48K+ *</td>\n",
       "      <td>Engineering,Industrial,Oracle,Power BI,R,R&amp;D</td>\n",
       "      <td></td>\n",
       "    </tr>\n",
       "    <tr>\n",
       "      <th>4</th>\n",
       "      <td>Publicis Groupe</td>\n",
       "      <td>Data Engineer Full time (Public Sector) USA</td>\n",
       "      <td>Arlington, VA, United States</td>\n",
       "      <td>Full Time</td>\n",
       "      <td>Mid-level</td>\n",
       "      <td>108K+</td>\n",
       "      <td>AWS,Azure,Computer Science,Consulting,Dataflow...</td>\n",
       "      <td>Flex hours,Flex vacation,Parental leave,Unlimi...</td>\n",
       "    </tr>\n",
       "    <tr>\n",
       "      <th>...</th>\n",
       "      <td>...</td>\n",
       "      <td>...</td>\n",
       "      <td>...</td>\n",
       "      <td>...</td>\n",
       "      <td>...</td>\n",
       "      <td>...</td>\n",
       "      <td>...</td>\n",
       "      <td>...</td>\n",
       "    </tr>\n",
       "    <tr>\n",
       "      <th>3190</th>\n",
       "      <td>CCRi</td>\n",
       "      <td>Application Integration Engineer, Computer Vis...</td>\n",
       "      <td>Chantilly, Virginia, United States</td>\n",
       "      <td>Full Time</td>\n",
       "      <td>Mid-level</td>\n",
       "      <td>113K+</td>\n",
       "      <td>Agile,Angular,APIs,Architecture,AWS,Azure</td>\n",
       "      <td>401(k) matching,Career development,Flex hours,...</td>\n",
       "    </tr>\n",
       "    <tr>\n",
       "      <th>3191</th>\n",
       "      <td>Publicis Groupe</td>\n",
       "      <td>Associate Director, Data Science</td>\n",
       "      <td>New York City, United States</td>\n",
       "      <td>Full Time</td>\n",
       "      <td>Mid-level</td>\n",
       "      <td>106K+</td>\n",
       "      <td>Bayesian,Classification,Clustering,Data analys...</td>\n",
       "      <td>Career development,Health care</td>\n",
       "    </tr>\n",
       "    <tr>\n",
       "      <th>3192</th>\n",
       "      <td>DoorDash</td>\n",
       "      <td>Senior Software Engineer, Machine Learning - A...</td>\n",
       "      <td>Sunnyvale, CA; San Francisco, CA; New York</td>\n",
       "      <td>Full Time</td>\n",
       "      <td>Senior-level</td>\n",
       "      <td>176K+</td>\n",
       "      <td>Computer Science,Data analysis,Engineering,Exc...</td>\n",
       "      <td>401(k) matching,Career development,Equity,Insu...</td>\n",
       "    </tr>\n",
       "    <tr>\n",
       "      <th>3193</th>\n",
       "      <td>Western Digital</td>\n",
       "      <td>Data Scientist - New College Graduate</td>\n",
       "      <td>Biñan, Philippines</td>\n",
       "      <td>Full Time</td>\n",
       "      <td>Entry-level</td>\n",
       "      <td>39K+ *</td>\n",
       "      <td>APIs,Clustering,Computer Science,Data visualiz...</td>\n",
       "      <td>Career development</td>\n",
       "    </tr>\n",
       "    <tr>\n",
       "      <th>3196</th>\n",
       "      <td>ATB Financial</td>\n",
       "      <td>Data Scientist</td>\n",
       "      <td>Edmonton, Alberta, Canada</td>\n",
       "      <td>Full Time</td>\n",
       "      <td>Entry-level</td>\n",
       "      <td>39K+ *</td>\n",
       "      <td>Computer Science,Data Analytics,Data Mining,Ec...</td>\n",
       "      <td>Career development,Startup environment</td>\n",
       "    </tr>\n",
       "  </tbody>\n",
       "</table>\n",
       "<p>2995 rows × 8 columns</p>\n",
       "</div>"
      ],
      "text/plain": [
       "              Company                                          Job Title   \n",
       "0                 SGS                              Clinical Data Analyst  \\\n",
       "1             Ocorian                             AML/CFT & Data Analyst   \n",
       "2              Cricut                          Machine Learning Engineer   \n",
       "3         Bosch Group               Application Developer & Data Analyst   \n",
       "4     Publicis Groupe        Data Engineer Full time (Public Sector) USA   \n",
       "...               ...                                                ...   \n",
       "3190             CCRi  Application Integration Engineer, Computer Vis...   \n",
       "3191  Publicis Groupe                   Associate Director, Data Science   \n",
       "3192         DoorDash  Senior Software Engineer, Machine Learning - A...   \n",
       "3193  Western Digital              Data Scientist - New College Graduate   \n",
       "3196    ATB Financial                                     Data Scientist   \n",
       "\n",
       "                                          Location   Job Type   \n",
       "0                    Richardson, TX, United States  Full Time  \\\n",
       "1                                 Ebène, Mauritius  Full Time   \n",
       "2                  South Jordan, UT, United States  Full Time   \n",
       "3                                 Nonantola, Italy  Full Time   \n",
       "4                     Arlington, VA, United States  Full Time   \n",
       "...                                            ...        ...   \n",
       "3190            Chantilly, Virginia, United States  Full Time   \n",
       "3191                  New York City, United States  Full Time   \n",
       "3192  Sunnyvale, CA; San Francisco, CA; New York \n",
       "  Full Time   \n",
       "3193                            Biñan, Philippines  Full Time   \n",
       "3196                     Edmonton, Alberta, Canada  Full Time   \n",
       "\n",
       "     Experience level   Salary   \n",
       "0         Entry-level   48K+ *  \\\n",
       "1         Entry-level   48K+ *   \n",
       "2       Not specified   90K+ *   \n",
       "3         Entry-level   48K+ *   \n",
       "4           Mid-level    108K+   \n",
       "...               ...      ...   \n",
       "3190        Mid-level    113K+   \n",
       "3191        Mid-level    106K+   \n",
       "3192     Senior-level    176K+   \n",
       "3193      Entry-level   39K+ *   \n",
       "3196      Entry-level   39K+ *   \n",
       "\n",
       "                             Requirment of the company    \n",
       "0     Computer Science,Data quality,Genetics,Mathema...  \\\n",
       "1              Agile,Data management,Finance,Security,,   \n",
       "2     Agile,Architecture,AWS,Computer Science,Comput...   \n",
       "3          Engineering,Industrial,Oracle,Power BI,R,R&D   \n",
       "4     AWS,Azure,Computer Science,Consulting,Dataflow...   \n",
       "...                                                 ...   \n",
       "3190          Agile,Angular,APIs,Architecture,AWS,Azure   \n",
       "3191  Bayesian,Classification,Clustering,Data analys...   \n",
       "3192  Computer Science,Data analysis,Engineering,Exc...   \n",
       "3193  APIs,Clustering,Computer Science,Data visualiz...   \n",
       "3196  Computer Science,Data Analytics,Data Mining,Ec...   \n",
       "\n",
       "                                             Facilities  \n",
       "0                                                        \n",
       "1                                                        \n",
       "2                                    Career development  \n",
       "3                                                        \n",
       "4     Flex hours,Flex vacation,Parental leave,Unlimi...  \n",
       "...                                                 ...  \n",
       "3190  401(k) matching,Career development,Flex hours,...  \n",
       "3191                     Career development,Health care  \n",
       "3192  401(k) matching,Career development,Equity,Insu...  \n",
       "3193                                 Career development  \n",
       "3196             Career development,Startup environment  \n",
       "\n",
       "[2995 rows x 8 columns]"
      ]
     },
     "execution_count": 20,
     "metadata": {},
     "output_type": "execute_result"
    }
   ],
   "source": [
    "df"
   ]
  },
  {
   "cell_type": "code",
   "execution_count": null,
   "id": "cf5cfd72",
   "metadata": {
    "scrolled": true
   },
   "outputs": [],
   "source": [
    "df.isnull().sum()"
   ]
  },
  {
   "cell_type": "code",
   "execution_count": null,
   "id": "59abee16",
   "metadata": {},
   "outputs": [],
   "source": [
    "Data Analyst\n",
    "Data Scientist\n",
    "Power BI Developer\n",
    "BI Analyst\n",
    "Data Engineer\n",
    "Data Project Management\n",
    "AWS Cloud Logistics\n",
    "Product Analytics\n",
    "Data Manager\n",
    "Business Intelligence\n",
    "Data Architect\n",
    "Data Developer\n",
    "Machine Learning\n",
    "Software Engineer\n"
   ]
  },
  {
   "cell_type": "code",
   "execution_count": null,
   "id": "32c47571",
   "metadata": {},
   "outputs": [],
   "source": [
    "df[\"Job Title\"].unique().tolist()"
   ]
  },
  {
   "cell_type": "markdown",
   "id": "6b87252e",
   "metadata": {},
   "source": [
    "## remove the '+' symbol is present in the \"Salary\" column"
   ]
  },
  {
   "cell_type": "code",
   "execution_count": null,
   "id": "e68ee265",
   "metadata": {},
   "outputs": [],
   "source": [
    "# Function to check if the '+' symbol is present in the \"Salary\" column\n",
    "def check_salary_beyond(salary):\n",
    "    return True if isinstance(salary, str) and '+' in salary else False\n",
    "\n",
    "# Add a new column \"the salary may go beyond\" and populate it based on the check\n",
    "df['the salary may go beyond'] = df['Salary'].apply(check_salary_beyond)\n"
   ]
  },
  {
   "cell_type": "code",
   "execution_count": null,
   "id": "b93f124b",
   "metadata": {},
   "outputs": [],
   "source": [
    "# Remove '+' character only from cells that contain it in the \"Salary\" column\n",
    "df['Salary'] = df['Salary'].apply(lambda x: x.replace('+', '') if isinstance(x, str) else x)"
   ]
  },
  {
   "cell_type": "markdown",
   "id": "6c28c689",
   "metadata": {},
   "source": [
    "## remove the ' * ' symbol is present in the \"Salary\" column"
   ]
  },
  {
   "cell_type": "code",
   "execution_count": null,
   "id": "54a48cf0",
   "metadata": {},
   "outputs": [],
   "source": [
    "# Function to check if the '*' symbol is present in the \"Salary\" column\n",
    "def check_additional_conditions(salary):\n",
    "    return True if isinstance(salary, str) and '*' in salary else False\n",
    "\n",
    "# Add a new column \"there are additional conditions or footnotes\" and populate it based on the check\n",
    "df['there are additional conditions or footnotes'] = df['Salary'].apply(check_additional_conditions)\n"
   ]
  },
  {
   "cell_type": "code",
   "execution_count": null,
   "id": "d5f263f1",
   "metadata": {},
   "outputs": [],
   "source": [
    "# Remove '*' character only from cells that contain it in the \"Salary\" column\n",
    "df['Salary'] = df['Salary'].apply(lambda x: x.replace('*', '') if isinstance(x, str) else x)"
   ]
  },
  {
   "cell_type": "code",
   "execution_count": null,
   "id": "be864325",
   "metadata": {},
   "outputs": [],
   "source": [
    "# Remove ',' character only from cells that contain it in the \"Salary\" column\n",
    "df['Salary'] = df['Salary'].apply(lambda x: x.replace('K', '') if isinstance(x, str) else x)"
   ]
  },
  {
   "cell_type": "code",
   "execution_count": null,
   "id": "025905d0",
   "metadata": {},
   "outputs": [],
   "source": [
    "# Function to convert salary from GBP to USD\n",
    "def convert_to_usd(salary):\n",
    "    if isinstance(salary, str) and 'EUR' in salary:\n",
    "        salary_value = float(salary.replace('EUR', '').replace(',', '').strip())\n",
    "        return salary_value * 1.1\n",
    "    return salary\n",
    "\n",
    "# Apply the function to the \"Salary\" column\n",
    "df['Salary'] = df['Salary'].apply(convert_to_usd)"
   ]
  },
  {
   "cell_type": "code",
   "execution_count": null,
   "id": "ba897872",
   "metadata": {},
   "outputs": [],
   "source": [
    "# Function to convert salary from GBP to USD\n",
    "def convert_to_usd(salary):\n",
    "    if isinstance(salary, str) and 'GBP' in salary:\n",
    "        salary_value = float(salary.replace('GBP', '').replace(',', '').strip())\n",
    "        return salary_value * 1.3\n",
    "    return salary\n",
    "\n",
    "# Apply the function to the \"Salary\" column\n",
    "df['Salary'] = df['Salary'].apply(convert_to_usd)"
   ]
  },
  {
   "cell_type": "markdown",
   "id": "ad5442ca",
   "metadata": {},
   "source": [
    "## multiply salary by 1000 because we removed 'K'"
   ]
  },
  {
   "cell_type": "code",
   "execution_count": null,
   "id": "ce42efa8",
   "metadata": {},
   "outputs": [],
   "source": [
    "# Function to multiply salary by 1000\n",
    "def multiply_1000(salary):\n",
    "    if isinstance(salary, str):\n",
    "        return float(salary.replace('K', '')) * 1000\n",
    "    return salary\n",
    "\n",
    "# Apply the function to the \"Salary\" column\n",
    "df['Salary'] = df['Salary'].apply(multiply_1000)\n"
   ]
  },
  {
   "cell_type": "markdown",
   "id": "965cacdf",
   "metadata": {},
   "source": [
    "## replace the null values in the Salary column with 0"
   ]
  },
  {
   "cell_type": "code",
   "execution_count": null,
   "id": "7d78e30f",
   "metadata": {},
   "outputs": [],
   "source": [
    "# replace the null values in the Salary column with 0\n",
    "df['Salary'].fillna('Negociable', inplace=True)\n",
    "df.isnull().sum()"
   ]
  },
  {
   "cell_type": "markdown",
   "id": "f25d00e7",
   "metadata": {},
   "source": [
    "## extract country names from the \"Location\" column"
   ]
  },
  {
   "cell_type": "code",
   "execution_count": null,
   "id": "e31d22e5",
   "metadata": {},
   "outputs": [],
   "source": [
    "import pycountry\n",
    "\n",
    "# Function to check if the word represents a country\n",
    "def is_country(word):\n",
    "    return any(country.name.lower() == word.lower() for country in pycountry.countries)\n",
    "\n",
    "# Function to extract country names from the \"Location\" column\n",
    "def extract_country(location):\n",
    "    if isinstance(location, str):\n",
    "        words = location.split(',')\n",
    "        for word in words:\n",
    "            if is_country(word.strip()):\n",
    "                return word.strip()\n",
    "    return None\n",
    "\n",
    "# Add a new column \"country\" with the extracted country names\n",
    "df['country'] = df['Location'].apply(extract_country)"
   ]
  },
  {
   "cell_type": "code",
   "execution_count": null,
   "id": "c49b1904",
   "metadata": {},
   "outputs": [],
   "source": []
  },
  {
   "cell_type": "code",
   "execution_count": null,
   "id": "005b2478",
   "metadata": {},
   "outputs": [],
   "source": [
    "# Split \"Location\" into \"city\" and \"country\" columns\n",
    "df[['city', 'country']] = df['Location'].str.split(', ', n=1, expand=True)"
   ]
  },
  {
   "cell_type": "code",
   "execution_count": null,
   "id": "c88edb54",
   "metadata": {},
   "outputs": [],
   "source": [
    "# Add a new column with the result of the code df[\"Location\"].str.lower().str.contains(\"remote\", na=False)\n",
    "df['is_remote'] = df[\"Location\"].str.lower().str.contains(\"remote\", na=False)"
   ]
  },
  {
   "cell_type": "code",
   "execution_count": null,
   "id": "0f8c9be2",
   "metadata": {
    "scrolled": false
   },
   "outputs": [],
   "source": [
    "df.loc[df[\"Location\"]=='Remote']"
   ]
  },
  {
   "cell_type": "code",
   "execution_count": null,
   "id": "de23a7d4",
   "metadata": {},
   "outputs": [],
   "source": [
    "df[\"Location\"].str.lower().str.contains(\"remote\", na=False)"
   ]
  },
  {
   "cell_type": "code",
   "execution_count": null,
   "id": "fa10ce44",
   "metadata": {},
   "outputs": [],
   "source": []
  },
  {
   "cell_type": "markdown",
   "id": "89993e6d",
   "metadata": {},
   "source": [
    "## Traduire les \"Job Title\" en anglais:"
   ]
  },
  {
   "cell_type": "code",
   "execution_count": null,
   "id": "bd5197ae",
   "metadata": {},
   "outputs": [],
   "source": [
    "from googletrans import Translator"
   ]
  },
  {
   "cell_type": "code",
   "execution_count": null,
   "id": "c9046da4",
   "metadata": {},
   "outputs": [],
   "source": [
    "# Create an instance of the Translator class\n",
    "translator = Translator()"
   ]
  },
  {
   "cell_type": "code",
   "execution_count": null,
   "id": "05d7b876",
   "metadata": {},
   "outputs": [],
   "source": [
    "# Define a function to translate a text using the Googletrans library\n",
    "def translate_text(text):\n",
    "    try:\n",
    "        return translator.translate(text, dest='en').text\n",
    "    except:\n",
    "        return \"Translation Error\""
   ]
  },
  {
   "cell_type": "code",
   "execution_count": null,
   "id": "6d663a24",
   "metadata": {},
   "outputs": [],
   "source": [
    "# Apply the translate_text function to the \"description\" column of the DataFrame\n",
    "df['Job Title'] = df['Job Title'].apply(translate_text)  "
   ]
  },
  {
   "cell_type": "code",
   "execution_count": null,
   "id": "309d06ff",
   "metadata": {},
   "outputs": [],
   "source": []
  },
  {
   "cell_type": "code",
   "execution_count": null,
   "id": "2c395a5c",
   "metadata": {},
   "outputs": [],
   "source": []
  },
  {
   "cell_type": "code",
   "execution_count": null,
   "id": "0af501f2",
   "metadata": {},
   "outputs": [],
   "source": []
  },
  {
   "cell_type": "code",
   "execution_count": null,
   "id": "e2eb50ff",
   "metadata": {},
   "outputs": [],
   "source": [
    "df[df.duplicated(subset=['Company'])]"
   ]
  },
  {
   "cell_type": "code",
   "execution_count": null,
   "id": "928553ab",
   "metadata": {
    "scrolled": true
   },
   "outputs": [],
   "source": [
    "df['Experience level'].value_counts()"
   ]
  },
  {
   "cell_type": "code",
   "execution_count": null,
   "id": "19d58863",
   "metadata": {
    "scrolled": false
   },
   "outputs": [],
   "source": [
    "df['Job Type'].value_counts()"
   ]
  },
  {
   "cell_type": "code",
   "execution_count": null,
   "id": "2f4b9d45",
   "metadata": {
    "scrolled": false
   },
   "outputs": [],
   "source": [
    "df['Company'].value_counts()"
   ]
  },
  {
   "cell_type": "code",
   "execution_count": null,
   "id": "7c6787c9",
   "metadata": {},
   "outputs": [],
   "source": [
    "df['Location'].value_counts()"
   ]
  },
  {
   "cell_type": "code",
   "execution_count": null,
   "id": "9c328769",
   "metadata": {},
   "outputs": [],
   "source": []
  },
  {
   "cell_type": "code",
   "execution_count": null,
   "id": "de2fa491",
   "metadata": {},
   "outputs": [],
   "source": [
    "df"
   ]
  },
  {
   "cell_type": "code",
   "execution_count": null,
   "id": "cfd7f548",
   "metadata": {},
   "outputs": [],
   "source": [
    "df.country.unique()"
   ]
  },
  {
   "cell_type": "code",
   "execution_count": null,
   "id": "109efde1",
   "metadata": {},
   "outputs": [],
   "source": []
  },
  {
   "cell_type": "code",
   "execution_count": null,
   "id": "44eecbbf",
   "metadata": {},
   "outputs": [],
   "source": [
    "# Write the data to the CSV file\n",
    "df.to_csv('updated_dataset.csv', index=False)"
   ]
  },
  {
   "cell_type": "code",
   "execution_count": null,
   "id": "52568dea",
   "metadata": {},
   "outputs": [],
   "source": [
    "# Save the updated DataFrame to an Excel file\n",
    "df.to_excel('updated_dataset.xlsx', index=False)"
   ]
  }
 ],
 "metadata": {
  "kernelspec": {
   "display_name": "Python 3 (ipykernel)",
   "language": "python",
   "name": "python3"
  },
  "language_info": {
   "codemirror_mode": {
    "name": "ipython",
    "version": 3
   },
   "file_extension": ".py",
   "mimetype": "text/x-python",
   "name": "python",
   "nbconvert_exporter": "python",
   "pygments_lexer": "ipython3",
   "version": "3.10.10"
  },
  "vp": {
   "vp_config_version": "1.0.0",
   "vp_menu_width": 273,
   "vp_note_display": false,
   "vp_note_width": 0,
   "vp_position": {
    "width": 278
   },
   "vp_section_display": false,
   "vp_signature": "VisualPython"
  }
 },
 "nbformat": 4,
 "nbformat_minor": 5
}
